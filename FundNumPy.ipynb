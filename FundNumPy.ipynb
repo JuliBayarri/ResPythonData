{
 "cells": [
  {
   "cell_type": "markdown",
   "metadata": {},
   "source": [
    "## **FUNDAMENTOS DE NUMPY**\n",
    "\n",
    "**Numpy** es la abreviatura de Numerical Python, es uno de los paquetes más utilizados para cáculos numéricos ne python y para el análisis de datos.\n",
    "Para utilizar numpy debemos familiarizarnos con el concepto de **array**, un ARRAY es una **estructura de datos** que almacena elementos **del mismo tipo** en una secuencia contigua de memoria, cada elemento de un array es accesible mediante un índice que justamente indica su posicion. \n",
    "\n",
    "*Para utilizar Numpy debemos importarlo y para ello primero debemos intalar el paquete, la instalacion se realiza mediante la terminal, y para importarlo se utiliza el comando ``import numpy as np``*\n",
    "\n",
    "**ND.ARRAY DE NUMPY**: Los arrays son elementos fundamentales de numpy, esta estructura es sumamente flexible y rápida para el manejo de grandes conjuntos de datos, permiten realizar **operaciones matemáticas** con bloques de datos enteros, es decir operaciones como sumas, restas, multiplicaciones, etc. pero con bloques de datos.\n",
    "La funcion **``np.array()``** se utiliza para crear arrays a partir de otros elementos, generalmente de listas:"
   ]
  },
  {
   "cell_type": "code",
   "execution_count": 42,
   "metadata": {},
   "outputs": [
    {
     "name": "stdout",
     "output_type": "stream",
     "text": [
      "[[ 1.5 -0.1  3. ]\n",
      " [ 0.  -3.   6.5]]\n",
      "[[1.5, -0.1, 3], [0, -3, 6.5], [1.5, -0.1, 3], [0, -3, 6.5]]\n",
      "[[ 3.  -0.2  6. ]\n",
      " [ 0.  -6.  13. ]]\n"
     ]
    }
   ],
   "source": [
    "import numpy as np\n",
    "lista = [[1.5, -0.1, 3], [0, -3, 6.5]]\n",
    "data = np.array(lista)\n",
    "print(data)\n",
    "\n",
    "lista2 = lista + lista\n",
    "print(lista2)\n",
    "\n",
    "data2 = data + data\n",
    "print(data2)"
   ]
  },
  {
   "cell_type": "markdown",
   "metadata": {},
   "source": [
    "Aqui se crea un array llamado ``data`` a partir de una lista anidada, al imprimir el array no vemos muchos cambios en el formato, sigue siendo una lista anidada, solo que parece alinear cada elemento en filas y columnas, pero veamos que pasa cuando intentamos realizar una operacion matemática con la lista anidad y con el array.\n",
    "No es posible suma los valores de la lista ``lista`` usando el operador ``+``, lo único que hace es duplicarlas, sin embargo cuando sumamos los array ``data`` sí obtenemos como resultado un nuevo array (``data2``) con los resultados de la suma.\n",
    "\n",
    "Se puede realizar cualquier tipo de operacion matemática utilizando arrays:"
   ]
  },
  {
   "cell_type": "code",
   "execution_count": 43,
   "metadata": {},
   "outputs": [
    {
     "name": "stdout",
     "output_type": "stream",
     "text": [
      "[[ 3.5  1.9  5. ]\n",
      " [ 2.  -1.   8.5]]\n"
     ]
    }
   ],
   "source": [
    "data3 = data + 2\n",
    "print(data3)"
   ]
  },
  {
   "cell_type": "markdown",
   "metadata": {},
   "source": [
    "En éste ejemplo se le suma 2 a cada elemento del array, algo que no se podría lograr un una sola linea de código utilizando listas ``lista3 = lista + 2`` daría un error.\n",
    "\n",
    "Los arrays tienen **shapes**, que no es más que la cantidad de \"filas\" y \"columnas\" de cada array, por ejemplo en el array del código anterior hay 2 filas y 3 columnas, es decir que el shape de ese array es *(2, 3)*. Tambien podemos utilizar la funcion **.ndim()** que nos indica solamente la **dimension** del array, la cual será ``0`` si el array es un único valor, ``1`` si hay una sola fila, ``2`` si hay filas y columnas (2 ejes), ``3`` si hay 3 ejes. \n",
    "\n",
    "Es posible conocer el shape de un array utilizando el método **.shape**, y además conocer el tipo de dato que contiene con el método **.dtype**:"
   ]
  },
  {
   "cell_type": "code",
   "execution_count": 44,
   "metadata": {},
   "outputs": [
    {
     "name": "stdout",
     "output_type": "stream",
     "text": [
      "(3, 4)\n",
      "int32\n",
      "2\n"
     ]
    }
   ],
   "source": [
    "my_arr = np.array([[1, 2, 3, 4],\n",
    "                   [5, 6, 7, 8],\n",
    "                   [9, 10, 11, 12]])\n",
    "print(my_arr.shape)\n",
    "print(my_arr.dtype)\n",
    "print(my_arr.ndim)"
   ]
  },
  {
   "cell_type": "markdown",
   "metadata": {},
   "source": [
    "**CREANDO ARRAYS**\n",
    "\n",
    "La forma más sencila de crear un array es utilizando la funcion ``np.array()``, ésta acepta cualquier objeto similar a una secuencia, pero los objetos de éste deben ser todos del mismo tipo, habíamos visto que podemos tener listas de objetos de distinta naturaleza por ejemplo ``list = [\"str\", 1, True, 333333,33333]``, pero para arrays ésto no esta permitido.\n",
    "\n",
    "Otra forma de crear nuevos arrays es con la **fórmula numpy.zeros()** y **numpy.ones()** que crean arrays de 0 y 1 respectivamente con una determinada longitud:"
   ]
  },
  {
   "cell_type": "code",
   "execution_count": 71,
   "metadata": {},
   "outputs": [
    {
     "name": "stdout",
     "output_type": "stream",
     "text": [
      "[[0. 0. 0. 0. 0.]\n",
      " [0. 0. 0. 0. 0.]\n",
      " [0. 0. 0. 0. 0.]]\n",
      "[[1. 1. 1. 1.]\n",
      " [1. 1. 1. 1.]]\n"
     ]
    }
   ],
   "source": [
    "p = np.zeros((3, 5))\n",
    "x = np.ones((2, 4))\n",
    "\n",
    "print(p, x, sep='\\n')"
   ]
  },
  {
   "cell_type": "markdown",
   "metadata": {},
   "source": [
    "Existe otro método bastante interesante para crear arrays de unos y ceros, aunque no se crea de novo sino a partir de otro array \"x\" existente, ésto no quiere decir que lo modifique, simplemente copia el shape y crea un array de 0 o 1, la funcion es ``ones_like(x)`` o ``zeros_like(x)``:"
   ]
  },
  {
   "cell_type": "code",
   "execution_count": 74,
   "metadata": {},
   "outputs": [
    {
     "name": "stdout",
     "output_type": "stream",
     "text": [
      "[[1. 1. 1. 1. 1.]\n",
      " [1. 1. 1. 1. 1.]\n",
      " [1. 1. 1. 1. 1.]]\n",
      "[[0. 0. 0. 0. 0.]\n",
      " [0. 0. 0. 0. 0.]\n",
      " [0. 0. 0. 0. 0.]]\n"
     ]
    }
   ],
   "source": [
    "z = np.ones_like(p)\n",
    "print(z)\n",
    "print(p)"
   ]
  },
  {
   "cell_type": "markdown",
   "metadata": {},
   "source": [
    "Se pueden crear arrays de rangos utilizando la fórmula **np.arange()**, la cual crea un array de una sola dimension, como si fuese una lista, y se los puede dividir en filas y columnas, es decir darle un shape, con la fórmula **.reshape()**:"
   ]
  },
  {
   "cell_type": "code",
   "execution_count": 46,
   "metadata": {},
   "outputs": [
    {
     "name": "stdout",
     "output_type": "stream",
     "text": [
      "[ 0  1  2  3  4  5  6  7  8  9 10 11 12 13 14]\n",
      "[[ 0  1  2  3  4]\n",
      " [ 5  6  7  8  9]\n",
      " [10 11 12 13 14]]\n"
     ]
    }
   ],
   "source": [
    "data10 = np.arange(15)\n",
    "print(data10)\n",
    "\n",
    "data11 = data10.reshape(3, 5)\n",
    "print(data11)"
   ]
  },
  {
   "cell_type": "markdown",
   "metadata": {},
   "source": [
    "La funcion ``arange``, como vemos es bastante similar a la funcion integrada de python ``range``, puede recibir un solo parámetro, como en el ejemplo, donde crear un array de 0 a 15, pero tambien se lo puede hacer más específico dandole un inicio y final específico, pasos y hasta tipo de valor, la **sintaxys completa de ``.arange()`` es**:\n",
    "\n",
    "``np.arange(start, stop, step, dtype=)``"
   ]
  },
  {
   "cell_type": "code",
   "execution_count": 47,
   "metadata": {},
   "outputs": [
    {
     "name": "stdout",
     "output_type": "stream",
     "text": [
      "[ 0.  1.  2.  3.  4.  5.  6.  7.  8.  9. 10.]\n",
      "[ 0.5  1.3  2.1  2.9  3.7  4.5  5.3  6.1  6.9  7.7  8.5  9.3 10.1]\n",
      "[ 0  1  2  3  4  5  6  7  8  9 10 11 12]\n"
     ]
    }
   ],
   "source": [
    "x = np.arange(10.4)\n",
    "print(x)\n",
    "x = np.arange(0.5, 10.4, 0.8)\n",
    "print(x)\n",
    "x = np.arange(0.5, 10.4, 0.8, int)\n",
    "print(x)"
   ]
  },
  {
   "cell_type": "markdown",
   "metadata": {},
   "source": [
    "Otra funcion útil para crear arrays es **.linspace()**, la sintaxis completa de ésta funcion es:\n",
    "\n",
    "``linspace(star, stop, num=50, endpoint=True, retstep=False)``\n",
    "\n",
    "Ésta funcion genera un array que contiene valores igualmente espaciados en un rango determinado, recibe dos parámetros sí o sí, ``start`` y ``stop``, que al igual que la funcion arrange, define el inicio y el final de un rango, el parámetro ``num`` por default es ``50``, es decir que si no especificamos su valor, linspace crea un array de **50 elementos**, ``endpoint`` establece se incluye o no el último numero de la secuencia, por dafault es ``True`` por lo que siempre agrega el valor de ``stop`` a menos que se se indique lo contrario (``False``), y el parámetro ``retstep`` que tambien es opcional, genera una **tupla** conteniendo el tamaño del paso entre valores consecutivos, por default es ``False`` por lo tanto no se genera, pero si lo cambiamos a ``True`` sí."
   ]
  },
  {
   "cell_type": "code",
   "execution_count": 48,
   "metadata": {},
   "outputs": [
    {
     "name": "stdout",
     "output_type": "stream",
     "text": [
      "[ 1.          1.18367347  1.36734694  1.55102041  1.73469388  1.91836735\n",
      "  2.10204082  2.28571429  2.46938776  2.65306122  2.83673469  3.02040816\n",
      "  3.20408163  3.3877551   3.57142857  3.75510204  3.93877551  4.12244898\n",
      "  4.30612245  4.48979592  4.67346939  4.85714286  5.04081633  5.2244898\n",
      "  5.40816327  5.59183673  5.7755102   5.95918367  6.14285714  6.32653061\n",
      "  6.51020408  6.69387755  6.87755102  7.06122449  7.24489796  7.42857143\n",
      "  7.6122449   7.79591837  7.97959184  8.16326531  8.34693878  8.53061224\n",
      "  8.71428571  8.89795918  9.08163265  9.26530612  9.44897959  9.63265306\n",
      "  9.81632653 10.        ]\n",
      "[ 1.   2.5  4.   5.5  7.   8.5 10. ]\n",
      "[1.         2.28571429 3.57142857 4.85714286 6.14285714 7.42857143\n",
      " 8.71428571]\n",
      "(array([1.        , 2.28571429, 3.57142857, 4.85714286, 6.14285714,\n",
      "       7.42857143, 8.71428571]), 1.2857142857142858)\n"
     ]
    }
   ],
   "source": [
    "arr1 = np.linspace(1, 10)\n",
    "arr2 = np.linspace(1, 10, 7)\n",
    "arr3 = np.linspace(1, 10, 7, False)\n",
    "arr4 = np.linspace(1, 10, 7, False, True)\n",
    "\n",
    "print(arr1, arr2, arr3, arr4, sep='\\n')"
   ]
  },
  {
   "cell_type": "markdown",
   "metadata": {},
   "source": [
    "Como vemos en  ``arr3, arr4`` ya no se incluye el 10, y en ``arr4`` se genera una tupla, donde el ultimo elemento es el tamaño de los pasos."
   ]
  },
  {
   "cell_type": "markdown",
   "metadata": {},
   "source": [
    "**ARITMÉTICA CON ARRAYS** Con Numpy es posible expresar operaciones mateméticas de a lotes sin utilizar el bucle ``for``, tan cual como vimos más arriba, hay dos reglas importantes para realizar éste tipo de operaciones, los arrays deben tener las mismas dimensiones y los datos deben ser del mismo tipo.\n",
    "\n",
    "Este tipo de operaciones se denominan **vectorizaciones**. Las interacciones entre arrays tambien pueden producir arrays booleanos:"
   ]
  },
  {
   "cell_type": "code",
   "execution_count": 49,
   "metadata": {},
   "outputs": [
    {
     "name": "stdout",
     "output_type": "stream",
     "text": [
      "[[ 0  2  4  6  8]\n",
      " [10 12 14 16 18]\n",
      " [20 22 24 26 28]]\n",
      "[[ 0  5 10 15 20]\n",
      " [25 30 35 40 45]\n",
      " [50 55 60 65 70]]\n",
      "[[False False False False False]\n",
      " [False False False False False]\n",
      " [False False False False False]]\n"
     ]
    }
   ],
   "source": [
    "aray15 = np.arange(15)\n",
    "aray1 = aray15.reshape(3, 5)\n",
    "\n",
    "print(aray1 + aray1)\n",
    "print(aray1 * 5)\n",
    "\n",
    "aray2 = aray1 *2\n",
    "print(aray1 > aray2)"
   ]
  },
  {
   "cell_type": "markdown",
   "metadata": {},
   "source": [
    "**INDEXADO Y CORTE BÁSICO** Ya vimos que en listas el **indexado** es la seleccion de elementos o grupos de elementos para incorporarlos a otro conjunto o crear uno nuevo.\n",
    "\n",
    "El indexado de arrays **unidimensionales** es muy similar al de listas:"
   ]
  },
  {
   "cell_type": "code",
   "execution_count": 50,
   "metadata": {},
   "outputs": [
    {
     "name": "stdout",
     "output_type": "stream",
     "text": [
      "5\n",
      "[1 2 3]\n"
     ]
    }
   ],
   "source": [
    "print(data10[5])\n",
    "print(data10[1:4])\n"
   ]
  },
  {
   "cell_type": "markdown",
   "metadata": {},
   "source": [
    "Y al igual que las listas, los arrays son elementos mutables, y utilizan los mismos métodos para mosdicar valores de sus elementos, simplemente especificando el índice del elemento a cambiar, y algo particular de los arrays es que los **cambios se propagan**, por lo que hay que tener especial cuidado cuando se crea uno nuevo a partir de un corte de otro:"
   ]
  },
  {
   "cell_type": "code",
   "execution_count": 51,
   "metadata": {},
   "outputs": [
    {
     "name": "stdout",
     "output_type": "stream",
     "text": [
      "[100 100 100   3   4   5   6   7   8   9  10  11  12  13  14]\n",
      "[12 13]\n",
      "[100 100 100   3   4   5   6   7   8   9  10  11 200  13  14] [200  13]\n"
     ]
    }
   ],
   "source": [
    "data10[0:3] = 100\n",
    "print(data10)\n",
    "\n",
    "data12 = data10[-3:-1]\n",
    "print(data12)\n",
    "data12[-2] = 200\n",
    "print(data10, data12)"
   ]
  },
  {
   "cell_type": "markdown",
   "metadata": {},
   "source": [
    "Note que danto en ``data10`` como en ``data12`` el elemento ``-2`` cambia a 200 sin haberle indicado a ``data10`` que lo haga, ésto puede ser útil para algunas cosas, pero en ocasiones puede generar un problema, por suerte Numpy tiene una funcion, **.copy()** para crear un array nuevo a partir d eun corte y \"aislarlo\" del original:"
   ]
  },
  {
   "cell_type": "code",
   "execution_count": 69,
   "metadata": {},
   "outputs": [
    {
     "name": "stdout",
     "output_type": "stream",
     "text": [
      "[100 100 100   3   4   5   6   7   8   9  10  11 200  13  14]\n",
      "[ 8  5 10]\n"
     ]
    },
    {
     "data": {
      "text/plain": [
       "True"
      ]
     },
     "execution_count": 69,
     "metadata": {},
     "output_type": "execute_result"
    }
   ],
   "source": [
    "data13 = data10[-7:-4].copy()\n",
    "data13[1] = 5\n",
    "\n",
    "print(data10)\n",
    "print(data13)\n",
    "\n",
    "np.may_share_memory(data10, data12)"
   ]
  },
  {
   "cell_type": "markdown",
   "metadata": {},
   "source": [
    "Si queremos corroborar que dos matrices comparten o no el mismo bloque de memoria podemos utilizar la funcion ``np.may_share_memory(A, B)`` la cual devuelve ``True`` si sí lo comparten o ``False`` si No.\n",
    "\n",
    "Ahora bien, los arrays generalmente suelen ser multidimensionales, y aquí el indexado cambia un poco. Pata acceder a los elementos individuales de un array de más de una dimension, debemos hacerlo de forma recursiva, es decir **indicando primero el índice de la fila, o de array unidimensional, seguido del índice de elemento dentro de éste**:"
   ]
  },
  {
   "cell_type": "code",
   "execution_count": 53,
   "metadata": {},
   "outputs": [
    {
     "name": "stdout",
     "output_type": "stream",
     "text": [
      "[[ 0  1  2  3  4]\n",
      " [ 5  6  7  8  9]\n",
      " [10 11 12 13 14]]\n",
      "12\n",
      "8\n"
     ]
    }
   ],
   "source": [
    "print(aray1)\n",
    "arr3 = aray1[2, 2]\n",
    "print(arr3)\n",
    "\n",
    "print(aray1[1][3])"
   ]
  },
  {
   "cell_type": "markdown",
   "metadata": {},
   "source": [
    "Las reglas del indexado, tanto para filas como para los elementos individuales, en arrays tiene las mismas reglas que vimos, siempre se empieza desdel el 0. Notar que hay dos formas de indicarle la \"fila (x) y columna (y)\" del array, puede ser separado por coma o con dos corchetes.\n",
    "\n",
    "Es importante que empecemos a familiarizar a los valores de las filas como **x**, y los valores de las columnas como **y**, recordemos que los métodos con arrays suelen llamarse vectorizacion, y por algo lo es.\n",
    "\n",
    "Podemos tener arrays de más de 2 dimensiones, en ese caso tendremos al menos 3 indicaciones que darle, la primera o **z** sera el array completo de 2 dim., el segundo o **x**, la fila y el último o **y** la columna:"
   ]
  },
  {
   "cell_type": "code",
   "execution_count": 54,
   "metadata": {},
   "outputs": [
    {
     "name": "stdout",
     "output_type": "stream",
     "text": [
      "[[[ 1  2  3]\n",
      "  [ 4  5  6]]\n",
      "\n",
      " [[ 7  8  9]\n",
      "  [10 11 12]]]\n",
      "10\n",
      "[7 8 9]\n"
     ]
    }
   ],
   "source": [
    "arr3d = np.array([[[1, 2, 3], [4, 5, 6]], [[7, 8, 9], [10, 11, 12]]])\n",
    "print(arr3d)\n",
    "\n",
    "print(arr3d[1, 1, 0])\n",
    "print(arr3d[1, 0])"
   ]
  },
  {
   "cell_type": "markdown",
   "metadata": {},
   "source": [
    "Se utilizan las mismas reglas para cortar, y tambine s epuede hacer uso de la funcion **.copy()** para aislar el corte del array original:"
   ]
  },
  {
   "cell_type": "code",
   "execution_count": 55,
   "metadata": {},
   "outputs": [
    {
     "name": "stdout",
     "output_type": "stream",
     "text": [
      "[5 6 7 8 9]\n",
      "[7 8 9]\n"
     ]
    }
   ],
   "source": [
    "arr4 = aray1[1].copy()\n",
    "print(arr4)\n",
    "\n",
    "arr5 = arr3d[1,0]\n",
    "print(arr5)"
   ]
  },
  {
   "cell_type": "markdown",
   "metadata": {},
   "source": [
    "Si queremos cortar una **columna** o un ``eje y`` completo, se escribe en la cordenada **x** dos puntos, y en la cordenada **y** el número de columna:"
   ]
  },
  {
   "cell_type": "code",
   "execution_count": 56,
   "metadata": {},
   "outputs": [
    {
     "name": "stdout",
     "output_type": "stream",
     "text": [
      "[[ 0  1  2  3  4]\n",
      " [ 5  6  7  8  9]\n",
      " [10 11 12 13 14]]\n",
      "[ 0  5 10]\n",
      "[[ 4]\n",
      " [ 9]\n",
      " [14]]\n",
      "[5 6 7 8 9]\n",
      "[5 6 7 8 9]\n",
      "[[0 1]\n",
      " [5 6]]\n",
      "[[ 5  6]\n",
      " [10 11]]\n",
      "[[ 0  3]\n",
      " [10 13]]\n"
     ]
    }
   ],
   "source": [
    "print(aray1)\n",
    "print(aray1[:, 0]) #toma la primera columna entera\n",
    "print(aray1[:, 4:]) #toma la última columna \n",
    "print(aray1[1]) #toma la primera fila\n",
    "print(aray1[1, :]) #toma la primera fila\n",
    "print(aray1[:2, :2]) #toma la interseccion de las primeras 2 filas y 2 columnas\n",
    "print(aray1[1:, :2]) #toma la interseccion de la ultimas 2 filas y primeras 2 columnas\n",
    "print(aray1[::2, ::3]) #toma la inteseccion de las filas de a 2 pasos y las columnas de a 3 pasos"
   ]
  },
  {
   "cell_type": "markdown",
   "metadata": {},
   "source": [
    "Por último, podemos hablar de la creacion de **matrices de identidad**, una forma de crearlas es con la funcion ``.identity(n, dtype)`` la cual crea matrices de tamaño *n x n* compuesta de *0* y *1*, donde los unos se ordenan en la diagonal de la matriz:"
   ]
  },
  {
   "cell_type": "code",
   "execution_count": 75,
   "metadata": {},
   "outputs": [
    {
     "name": "stdout",
     "output_type": "stream",
     "text": [
      "[[1. 0. 0. 0.]\n",
      " [0. 1. 0. 0.]\n",
      " [0. 0. 1. 0.]\n",
      " [0. 0. 0. 1.]]\n"
     ]
    }
   ],
   "source": [
    "identity_matrix = np.identity(4)\n",
    "print(identity_matrix)"
   ]
  },
  {
   "cell_type": "markdown",
   "metadata": {},
   "source": [
    "O se puede utilizar tambien la funcion ``.eye(n, m, k, dtype)`` la cual se podría decir que es más flexible ya que recibe el parámetro ``n`` que le indica las filas, y el ``m`` que indica las columnas, y ``k`` que define la posicion de la **diagonal**, aunque el único parámetro no optativo es ``n``, si solo especifico el valor de éste se crea una matriz de tamaño *n x n*:"
   ]
  },
  {
   "cell_type": "code",
   "execution_count": 76,
   "metadata": {},
   "outputs": [
    {
     "data": {
      "text/plain": [
       "array([[0, 1, 0, 0, 0, 0, 0, 0],\n",
       "       [0, 0, 1, 0, 0, 0, 0, 0],\n",
       "       [0, 0, 0, 1, 0, 0, 0, 0],\n",
       "       [0, 0, 0, 0, 1, 0, 0, 0],\n",
       "       [0, 0, 0, 0, 0, 1, 0, 0]])"
      ]
     },
     "execution_count": 76,
     "metadata": {},
     "output_type": "execute_result"
    }
   ],
   "source": [
    "np.eye(5, 8, k=1, dtype=int)"
   ]
  },
  {
   "cell_type": "markdown",
   "metadata": {},
   "source": [
    "Este tipo de matrices ahora no parece tener mucho sentido o utildad pero se utilizan bastante en operaciones matemáticas y redes neuronales."
   ]
  },
  {
   "cell_type": "markdown",
   "metadata": {},
   "source": [
    "**INDEXADO BOOLEANO** Vimos más arriba que es posible obtener arrys booleanos mediante operaciones aritméticas, recordemos que para realizar operaciones con 2 arrays distintos ambos deben tener la misma cantidad de elementos.\n",
    "Podemos hacer uso del operador **=** para relacionar los elementos de un array con un valor específico:\n"
   ]
  },
  {
   "cell_type": "code",
   "execution_count": 57,
   "metadata": {},
   "outputs": [
    {
     "name": "stdout",
     "output_type": "stream",
     "text": [
      "[ True False False  True False False False]\n"
     ]
    }
   ],
   "source": [
    "names = np.array([\"Bob\", \"Joe\", \"Will\", \"Bob\", \"Will\", \"Joe\", \"Joe\"])\n",
    "print(names == \"Bob\")\n"
   ]
  },
  {
   "cell_type": "markdown",
   "metadata": {},
   "source": [
    "Los arrays booleanos son muy útiles porque pueden utilizarse para indexar un array, en el ejemplo anterior podemos utilizar el array booleano como índice para extrar elementos de otro array:"
   ]
  },
  {
   "cell_type": "code",
   "execution_count": 58,
   "metadata": {},
   "outputs": [
    {
     "name": "stdout",
     "output_type": "stream",
     "text": [
      "[[4 7]\n",
      " [0 0]]\n",
      "[[  0   2]\n",
      " [ -5   6]\n",
      " [  1   2]\n",
      " [-12  -4]\n",
      " [  3   4]]\n",
      "[7 0]\n"
     ]
    }
   ],
   "source": [
    "data = np.array([[4, 7], [0, 2], [-5, 6], [0, 0], [1, 2],[-12, -4], [3, 4]])\n",
    "print(data[names == \"Bob\"])\n",
    "\n",
    "print(data[names != \"Bob\"])\n",
    "\n",
    "print(data[names == \"Bob\", 1])"
   ]
  },
  {
   "cell_type": "markdown",
   "metadata": {},
   "source": [
    "Sirve para relacionar arrays, en este caso el array ``data`` que nada tiene que ver con el array ``names``, puedo usar el array booleano de éste para seleccionar elementos del primero. \n",
    "\n",
    "Se pueden utilizar los operadores booleanos como ``&``(and) y ``|`` (or) tambien para generar indexados más específicos: "
   ]
  },
  {
   "cell_type": "code",
   "execution_count": 59,
   "metadata": {},
   "outputs": [
    {
     "name": "stdout",
     "output_type": "stream",
     "text": [
      "[ True False  True  True  True False False]\n"
     ]
    },
    {
     "data": {
      "text/plain": [
       "array([[ 4,  7],\n",
       "       [-5,  6],\n",
       "       [ 0,  0],\n",
       "       [ 1,  2]])"
      ]
     },
     "execution_count": 59,
     "metadata": {},
     "output_type": "execute_result"
    }
   ],
   "source": [
    "mask = (names == \"Bob\") | (names == \"Will\")\n",
    "print(mask)\n",
    "\n",
    "data[mask]"
   ]
  },
  {
   "cell_type": "markdown",
   "metadata": {},
   "source": [
    "El indexado booleano tambien pude ser útil para modificar valores o sustituirlos, por ejemplo para sustituir todos los valores negativos de el array ``data`` podemos utilizar una operacion para generar un indexado booleano:"
   ]
  },
  {
   "cell_type": "code",
   "execution_count": 60,
   "metadata": {},
   "outputs": [
    {
     "name": "stdout",
     "output_type": "stream",
     "text": [
      "[[False False]\n",
      " [False False]\n",
      " [ True False]\n",
      " [False False]\n",
      " [False False]\n",
      " [ True  True]\n",
      " [False False]]\n"
     ]
    },
    {
     "data": {
      "text/plain": [
       "array([[  4,   7],\n",
       "       [  0,   2],\n",
       "       [100,   6],\n",
       "       [  0,   0],\n",
       "       [  1,   2],\n",
       "       [100, 100],\n",
       "       [  3,   4]])"
      ]
     },
     "execution_count": 60,
     "metadata": {},
     "output_type": "execute_result"
    }
   ],
   "source": [
    "print(data < 0)\n",
    "data[data < 0] = 100\n",
    "data"
   ]
  },
  {
   "cell_type": "markdown",
   "metadata": {},
   "source": [
    "**INDEXADO SOFISTICADO** El indexado sofisticado es un término adoptado por NumPy para describir indexados utilizando directamente arrays enteros:"
   ]
  },
  {
   "cell_type": "code",
   "execution_count": 61,
   "metadata": {},
   "outputs": [
    {
     "name": "stdout",
     "output_type": "stream",
     "text": [
      "[[0. 0. 0. 0.]\n",
      " [0. 0. 0. 0.]\n",
      " [0. 0. 0. 0.]\n",
      " [0. 0. 0. 0.]\n",
      " [0. 0. 0. 0.]\n",
      " [0. 0. 0. 0.]\n",
      " [0. 0. 0. 0.]\n",
      " [0. 0. 0. 0.]]\n"
     ]
    },
    {
     "data": {
      "text/plain": [
       "array([[1., 1., 1., 1.],\n",
       "       [2., 2., 2., 2.],\n",
       "       [3., 3., 3., 3.],\n",
       "       [4., 4., 4., 4.],\n",
       "       [5., 5., 5., 5.],\n",
       "       [6., 6., 6., 6.],\n",
       "       [7., 7., 7., 7.],\n",
       "       [8., 8., 8., 8.]])"
      ]
     },
     "execution_count": 61,
     "metadata": {},
     "output_type": "execute_result"
    }
   ],
   "source": [
    "arr = np.zeros((8, 4))\n",
    "\n",
    "print(arr)\n",
    "\n",
    "for i in range(8):\n",
    "    arr[i] = i+1\n",
    "arr"
   ]
  },
  {
   "cell_type": "markdown",
   "metadata": {},
   "source": [
    "Supongamos que tenemos éste array, y queremos seleccionar un **subconjunto de filas**, se puede simplemente pasar una **lista** o narray de enteros especificando el orden deseado:"
   ]
  },
  {
   "cell_type": "code",
   "execution_count": 62,
   "metadata": {},
   "outputs": [
    {
     "name": "stdout",
     "output_type": "stream",
     "text": [
      "[[5. 5. 5. 5.]\n",
      " [4. 4. 4. 4.]\n",
      " [1. 1. 1. 1.]\n",
      " [7. 7. 7. 7.]]\n",
      "[[1. 1.]\n",
      " [2. 2.]\n",
      " [3. 3.]\n",
      " [4. 4.]\n",
      " [5. 5.]\n",
      " [6. 6.]\n",
      " [7. 7.]\n",
      " [8. 8.]]\n"
     ]
    }
   ],
   "source": [
    "print(arr[[4, 3, 0, 6]])\n",
    "print(arr[: ,[3, 1]])"
   ]
  },
  {
   "cell_type": "markdown",
   "metadata": {},
   "source": [
    "Notar que el indexado tine euna lista, nos damos cuento por los dobles corchetes, es muy distinto de lo que vimos en la primera forma de indexar donde se usaba ``[4, 3]``.\n",
    "\n",
    "Cuando utilizamos una lista para indexar, cada elemento de la lista es el índice de una **fila** del array, y lo ace en el orden específico en que se lo indicamos, en el ejemplo le pedimos que seleccione la fila 4, luego la fila 3, luego la primer fila y finalmente la penúltima, si se utilizan valores negativos, por ejemplo ``[-1, -3]`` tomará los elementos tal cual como vimos en el indexado de elementos de listas, en éste caso el último y el antepenúltimo.\n",
    "Lo mismo ocurre si solo queremos seleccionar columnas, solo que en éste cado debemos porner los **:** primero para que tome todas las filas, tambien se respeta el orden en el cual esten indexados.\n",
    "\n",
    "Podemos utilizar dos listas para seleccionar **filas y columnas**:"
   ]
  },
  {
   "cell_type": "code",
   "execution_count": 63,
   "metadata": {},
   "outputs": [
    {
     "name": "stdout",
     "output_type": "stream",
     "text": [
      "[[ 0  1  2  3]\n",
      " [ 4  5  6  7]\n",
      " [ 8  9 10 11]\n",
      " [12 13 14 15]\n",
      " [16 17 18 19]\n",
      " [20 21 22 23]\n",
      " [24 25 26 27]\n",
      " [28 29 30 31]]\n"
     ]
    },
    {
     "data": {
      "text/plain": [
       "array([ 4, 23, 29, 10])"
      ]
     },
     "execution_count": 63,
     "metadata": {},
     "output_type": "execute_result"
    }
   ],
   "source": [
    "arr = np.arange(32).reshape((8, 4))\n",
    "arr[[1, 5, 7, 2]][:, [0, 3, 1, 2]]\n",
    "print(arr)\n",
    "arr[[1, 5, 7, 2], [0, 3, 1, 2]]\n"
   ]
  },
  {
   "cell_type": "markdown",
   "metadata": {},
   "source": [
    "Ésta técnica es más simple y genera exáctamente el mismo resultado que poner los índices uno por uno ((1, 0), (5, 3), (7, 1) y (2,2)).\n",
    "\n",
    "Note que el resultado es un array unidimensional, y siempre que se utilicen tantas listas como ejes hay en el array, dara como resultado uno unidimensional, aquí usamos dos listas para indexar un array bidimensional, y el resultado son elementos individuales que corresponden a la **inteseccion**, sin embargo podemos seleccionar filas completas de las intersecciones que deseemos, para ello debemos darle 3 indicaciones:"
   ]
  },
  {
   "cell_type": "code",
   "execution_count": 64,
   "metadata": {},
   "outputs": [
    {
     "data": {
      "text/plain": [
       "array([[ 4,  7,  5,  6],\n",
       "       [20, 23, 21, 22],\n",
       "       [28, 31, 29, 30],\n",
       "       [ 8, 11,  9, 10]])"
      ]
     },
     "execution_count": 64,
     "metadata": {},
     "output_type": "execute_result"
    }
   ],
   "source": [
    "arr[[1, 5, 7, 2]][:, [0, 3, 1, 2]]"
   ]
  },
  {
   "cell_type": "markdown",
   "metadata": {},
   "source": [
    "Aqui le indicamos primero las filas a seleccionar y luego se realiza una seleccion avanzada o sofisticada sobre la seleccion previa, aqui le decimos que tome todas las filas de la seleccion anterior con **:**, y luego seleccionamos las columnas. Al igual que en los casos anteriores se respeta el orden en el cual se lo pida.\n",
    "\n",
    "Éste método no es tan intuitivo pero es bastante útil sobretodo para el manejo de grandes volúmenes de datos."
   ]
  },
  {
   "cell_type": "markdown",
   "metadata": {},
   "source": [
    "**TRANSPONER ARRAYS E INTERCAMBIAR EJES** En NumPy, la transposición de un array implica **intercambiar sus ejes**, es decir, reorganizar las dimensiones del array de manera que las filas se conviertan en columnas y las columnas en filas. Esto NO crea una nueva copia de los datos, sino que devuelve una vista del array original con los ejes reorganizados, por lo tanto cualquier cambio al array transpuesto generará cambios en el original.\n",
    "\n",
    "Existe el método especial ``.transpose()`` que utiliza el atributo ``T``:\n"
   ]
  },
  {
   "cell_type": "code",
   "execution_count": 65,
   "metadata": {},
   "outputs": [
    {
     "name": "stdout",
     "output_type": "stream",
     "text": [
      "[[ 0  1  2  3  4]\n",
      " [ 5  6  7  8  9]\n",
      " [10 11 12 13 14]]\n"
     ]
    },
    {
     "data": {
      "text/plain": [
       "array([[ 0,  5, 10],\n",
       "       [ 1,  6, 11],\n",
       "       [ 2,  7, 12],\n",
       "       [ 3,  8, 13],\n",
       "       [ 4,  9, 14]])"
      ]
     },
     "execution_count": 65,
     "metadata": {},
     "output_type": "execute_result"
    }
   ],
   "source": [
    "import numpy as np\n",
    "\n",
    "arr = np.arange(15).reshape((3, 5))\n",
    "print(arr)\n",
    "\n",
    "arr.T"
   ]
  },
  {
   "cell_type": "markdown",
   "metadata": {},
   "source": [
    "La transposicion de ejes es muy útil cuandoo se realizan cálculos con matrices "
   ]
  },
  {
   "cell_type": "markdown",
   "metadata": {},
   "source": [
    "**FUNCIONES RÁPIDAS DE ARRAYS** Las funciones universaler realizan operaciones matemáticas básicas elemento por elemento en arrays, veamos algunas de las más utilizadas:\n",
    "\n",
    "**``np.sqrt()``** Calcula la **raiz cuadrada** de cada elemento.\n",
    "\n",
    "**``np.exp()``** Calcula el exponente *e* de cada elemento.\n",
    "\n",
    "**``np.square()``** Calcula el cuadrado de cada elemento, es equivalente a arry **2.\n",
    "\n",
    "**``np.log/log10/log2/log1p``** Calcula el logaritmo natura en base *e*, en base 10, en base 2 y base (1 + x) respectivamente.\n",
    "\n",
    "Estas funciones son **unarias**, es decir toma un único array y generan un producto, pero existen tambien funciones **binarias** que son muy útiles para comparar arrays:\n",
    "\n",
    "**``np.maximum(x, y)``** Calcula el máximo, elemento a elemtento, de dos arrays.\n",
    "\n",
    "**``np.add(x, n)``** Genera un nuevo array a partir de otro con otros valores, similar a ``np.ones_like(x)``, solo que aqui el parámetro ``n`` sirve para **sumar** un determinado valor elemento por elemento.\n",
    "\n",
    "**``np.multiply(x, y)``** Multiplica arrays elemento a elemento, equivalente a arr1 * arr2.\n",
    "\n",
    "**``np.power(x, y)``** Eleva los elemento del primer array a las potencias indicadas en el segundo."
   ]
  },
  {
   "cell_type": "markdown",
   "metadata": {},
   "source": [
    "**PROGRAMACION ORIENTADA A ARRAYS CON ARRAYS** El uso de arrays permite expresar muchos tipos de procesos que sin NumPy requerirían la escritura de bucles. En general la operaciones vectorizadas, es decir que emplean arrays, suelen ser mucho más rápidas que a sus equivalentes puros en python.\n",
    "\n",
    "**► dtype**  Hasta ahora hemos utilizado matrices solo con valores numéricos, ya sean 'int' o 'float', es decir hemos trabajado solo con matrices homogeneas, sin embargo python nos permite trabajar con \"tablas\" de datos, que no son otra cosa que **Matrices estructuradas** tambien llamadas matrices de registros. Estas matrices pueden contener distintos tipos de datos por columna y se podría decir que son similares a estructuras de datos como Excel o CSV. Esto posibilita crear columnas con nombres o categorías.\n",
    "\n",
    "``dtype`` es un **parámetro** dentor de la funcion ``np.array()`` el cual a su vez tiene dos parámetros: el \"nombre\" de la columna y el tipo de dato. El dtype se puede definir antes de crear el array, lo cual generalmente se hace ya que es más cómodo, o directamente dentro de la funcion ``np.array([x], np.dtype = ([('nombre', np.int32)]))``:"
   ]
  },
  {
   "cell_type": "code",
   "execution_count": 78,
   "metadata": {},
   "outputs": [
    {
     "name": "stdout",
     "output_type": "stream",
     "text": [
      "[(393,) (337,) (256,)]\n",
      "[393 337 256]\n"
     ]
    }
   ],
   "source": [
    "# Definir un tipo de dato para la columna 'density'\n",
    "dt = np.dtype([('density', np.int32)])\n",
    "\n",
    "# Crear un array estructurado con valores para 'density'\n",
    "x = np.array([(393,), (337,), (256,)], dtype=dt)\n",
    "print(x)\n",
    "\n",
    "#Se puede acceder a la columna usando el nombre que le dimos\n",
    "print(x['density'])"
   ]
  },
  {
   "cell_type": "markdown",
   "metadata": {},
   "source": [
    "Aqui basicamente creamos una sola columna con el valores numéricos y le dimos un nombre, ésto mismo podemos hacer con multiples columnas:"
   ]
  },
  {
   "cell_type": "code",
   "execution_count": 82,
   "metadata": {},
   "outputs": [
    {
     "name": "stdout",
     "output_type": "stream",
     "text": [
      "[('Netherlands', 393,  41526, 16928800) ('Belgium', 337,  30510, 11007020)\n",
      " ('United Kingdom', 256, 243610, 62262000)\n",
      " ('Germany', 233, 357021, 81799600)]\n",
      "['Netherlands' 'Belgium' 'United Kingdom' 'Germany']\n"
     ]
    }
   ],
   "source": [
    "# Definir un tipo de dato con varias columnas\n",
    "dt = np.dtype([\n",
    "    ('country', np.compat.unicode, 20),  # String de hasta 20 caracteres\n",
    "    ('density', 'i4'),   # Entero de 4 bytes\n",
    "    ('area', 'i4'),      # Entero de 4 bytes\n",
    "    ('population', 'i4') # Entero de 4 bytes\n",
    "])\n",
    "\n",
    "# Crear un array con datos\n",
    "population_table = np.array([\n",
    "    ('Netherlands', 393, 41526, 16928800),\n",
    "    ('Belgium', 337, 30510, 11007020),\n",
    "    ('United Kingdom', 256, 243610, 62262000),\n",
    "    ('Germany', 233, 357021, 81799600),\n",
    "], dtype=dt)\n",
    "\n",
    "print(population_table)\n",
    "print(population_table['country'])"
   ]
  },
  {
   "cell_type": "markdown",
   "metadata": {},
   "source": [
    "Observe que la cantidad de columnas creadas en dtype corresponde a la cantidad de elementos y al orden de las tuplas que utilizamos para crear el array, ésto es importante ya que narray le asigna el nombre a cada columna siguiendo el orden en que esten posicionadas. \n",
    "Veremos más adelante que hay formas visualmente más cómodas de trabajar con tablas, pero ésta forma e bastante útil."
   ]
  },
  {
   "cell_type": "markdown",
   "metadata": {},
   "source": [
    "**► meshgrid** crea matrices bidimensionales a partir de uno o dos arrays unidimensionales. Este tipo de matrices representa una **grilla de coordenadas** en un"
   ]
  },
  {
   "cell_type": "markdown",
   "metadata": {},
   "source": [
    "**LOGICA CONDICIONAL CON OPERACIONES DE ARRAYS**"
   ]
  },
  {
   "cell_type": "markdown",
   "metadata": {},
   "source": [
    "**MÉTODOS MATEMÁTICOS Y ESTADÍSTICOS**"
   ]
  },
  {
   "cell_type": "markdown",
   "metadata": {},
   "source": [
    "**ORDENACIÓN Y LÓGICA DE CONJUNTOS**"
   ]
  },
  {
   "cell_type": "markdown",
   "metadata": {},
   "source": [
    "**ÁLGEBRA LINEAL**"
   ]
  }
 ],
 "metadata": {
  "kernelspec": {
   "display_name": "base",
   "language": "python",
   "name": "python3"
  },
  "language_info": {
   "codemirror_mode": {
    "name": "ipython",
    "version": 3
   },
   "file_extension": ".py",
   "mimetype": "text/x-python",
   "name": "python",
   "nbconvert_exporter": "python",
   "pygments_lexer": "ipython3",
   "version": "3.12.3"
  }
 },
 "nbformat": 4,
 "nbformat_minor": 2
}
