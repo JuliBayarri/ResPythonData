{
 "cells": [
  {
   "cell_type": "markdown",
   "metadata": {},
   "source": [
    "## **FUNDAMENTOS DE NUMPY**\n",
    "\n",
    "**Numpy** es la abreviatura de Numerical Python, es uno de los paquetes más utilizados para cáculos numéricos ne python y para el análisis de datos.\n",
    "Para utilizar numpy debemos familiarizarnos con el concepto de **array**, un ARRAY es una **estructura de datos** que almacena elementos **del mismo tipo** en una secuencia contigua de memoria, cada elemento de un array es accesible mediante un índice que justamente indica su posicion. \n",
    "\n",
    "*Para utilizar Numpy debemos importarlo y para ello primero debemos intalar el paquete, la instalacion se realiza mediante la terminal, y para importarlo se utiliza el comando ``import numpy as np``*\n",
    "\n",
    "**ND.ARRAY DE NUMPY**: Los arrays son elementos fundamentales de numpy, esta estructura es sumamente flexible y rápida para el manejo de grandes conjuntos de datos, permiten realizar **operaciones matemáticas** con bloques de datos enteros, es decir operaciones como sumas, restas, multiplicaciones, etc. pero con bloques de datos.\n",
    "La funcion **``np.array()``** se utiliza para crear arrays a partir de otros elementos, generalmente de listas:"
   ]
  },
  {
   "cell_type": "code",
   "execution_count": 7,
   "metadata": {},
   "outputs": [
    {
     "name": "stdout",
     "output_type": "stream",
     "text": [
      "[[ 1.5 -0.1  3. ]\n",
      " [ 0.  -3.   6.5]]\n",
      "[[1.5, -0.1, 3], [0, -3, 6.5], [1.5, -0.1, 3], [0, -3, 6.5]]\n",
      "[[ 3.  -0.2  6. ]\n",
      " [ 0.  -6.  13. ]]\n"
     ]
    }
   ],
   "source": [
    "import numpy as np\n",
    "lista = [[1.5, -0.1, 3], [0, -3, 6.5]]\n",
    "data = np.array(lista)\n",
    "print(data)\n",
    "\n",
    "lista2 = lista + lista\n",
    "print(lista2)\n",
    "\n",
    "data2 = data + data\n",
    "print(data2)"
   ]
  },
  {
   "cell_type": "markdown",
   "metadata": {},
   "source": [
    "Aqui se crea un array llamado ``data`` a partir de una lista anidada, al imprimir el array no vemos muchos cambios en el formato, sigue siendo una lista anidada, solo que parece alinear cada elemento en filas y columnas, pero veamos que pasa cuando intentamos realizar una operacion matemática con la lista anidad y con el array.\n",
    "No es posible suma los valores de la lista ``lista`` usando el operador ``+``, lo único que hace es duplicarlas, sin embargo cuando sumamos los array ``data`` sí obtenemos como resultado un nuevo array (``data2``) con los resultados de la suma.\n",
    "\n",
    "Se puede realizar cualquier tipo de operacion matemática utilizando arrays:"
   ]
  },
  {
   "cell_type": "code",
   "execution_count": 9,
   "metadata": {},
   "outputs": [
    {
     "name": "stdout",
     "output_type": "stream",
     "text": [
      "[[ 3.5  1.9  5. ]\n",
      " [ 2.  -1.   8.5]]\n"
     ]
    }
   ],
   "source": [
    "data3 = data + 2\n",
    "print(data3)"
   ]
  },
  {
   "cell_type": "markdown",
   "metadata": {},
   "source": [
    "En éste ejemplo se le suma 2 a cada elemento del array, algo que no se podría lograr un una sola linea de código utilizando listas ``lista3 = lista + 2`` daría un error."
   ]
  }
 ],
 "metadata": {
  "kernelspec": {
   "display_name": "base",
   "language": "python",
   "name": "python3"
  },
  "language_info": {
   "codemirror_mode": {
    "name": "ipython",
    "version": 3
   },
   "file_extension": ".py",
   "mimetype": "text/x-python",
   "name": "python",
   "nbconvert_exporter": "python",
   "pygments_lexer": "ipython3",
   "version": "3.12.3"
  }
 },
 "nbformat": 4,
 "nbformat_minor": 2
}
