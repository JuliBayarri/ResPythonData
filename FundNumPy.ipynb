{
 "cells": [
  {
   "cell_type": "markdown",
   "metadata": {},
   "source": [
    "## **FUNDAMENTOS DE NUMPY**\n",
    "\n",
    "**Numpy** es la abreviatura de Numerical Python, es uno de los paquetes más utilizados para cáculos numéricos ne python y para el análisis de datos.\n",
    "Para utilizar numpy debemos familiarizarnos con el concepto de **array**, un ARRAY es una **estructura de datos** que almacena elementos **del mismo tipo** en una secuencia contigua de memoria, cada elemento de un array es accesible mediante un índice que justamente indica su posicion. \n",
    "\n",
    "*Para utilizar Numpy debemos importarlo y para ello primero debemos intalar el paquete, la instalacion se realiza mediante la terminal, y para importarlo se utiliza el comando ``import numpy as np``*\n",
    "\n",
    "**ND.ARRAY DE NUMPY**: Los arrays son elementos fundamentales de numpy, esta estructura es sumamente flexible y rápida para el manejo de grandes conjuntos de datos, permiten realizar **operaciones matemáticas** con bloques de datos enteros, es decir operaciones como sumas, restas, multiplicaciones, etc. pero con bloques de datos.\n",
    "La funcion **``np.array()``** se utiliza para crear arrays a partir de otros elementos, generalmente de listas:"
   ]
  },
  {
   "cell_type": "code",
   "execution_count": 1,
   "metadata": {},
   "outputs": [
    {
     "name": "stdout",
     "output_type": "stream",
     "text": [
      "[[ 1.5 -0.1  3. ]\n",
      " [ 0.  -3.   6.5]]\n",
      "[[1.5, -0.1, 3], [0, -3, 6.5], [1.5, -0.1, 3], [0, -3, 6.5]]\n",
      "[[ 3.  -0.2  6. ]\n",
      " [ 0.  -6.  13. ]]\n"
     ]
    }
   ],
   "source": [
    "import numpy as np\n",
    "lista = [[1.5, -0.1, 3], [0, -3, 6.5]]\n",
    "data = np.array(lista)\n",
    "print(data)\n",
    "\n",
    "lista2 = lista + lista\n",
    "print(lista2)\n",
    "\n",
    "data2 = data + data\n",
    "print(data2)"
   ]
  },
  {
   "cell_type": "markdown",
   "metadata": {},
   "source": [
    "Aqui se crea un array llamado ``data`` a partir de una lista anidada, al imprimir el array no vemos muchos cambios en el formato, sigue siendo una lista anidada, solo que parece alinear cada elemento en filas y columnas, pero veamos que pasa cuando intentamos realizar una operacion matemática con la lista anidad y con el array.\n",
    "No es posible suma los valores de la lista ``lista`` usando el operador ``+``, lo único que hace es duplicarlas, sin embargo cuando sumamos los array ``data`` sí obtenemos como resultado un nuevo array (``data2``) con los resultados de la suma.\n",
    "\n",
    "Se puede realizar cualquier tipo de operacion matemática utilizando arrays:"
   ]
  },
  {
   "cell_type": "code",
   "execution_count": 2,
   "metadata": {},
   "outputs": [
    {
     "name": "stdout",
     "output_type": "stream",
     "text": [
      "[[ 3.5  1.9  5. ]\n",
      " [ 2.  -1.   8.5]]\n"
     ]
    }
   ],
   "source": [
    "data3 = data + 2\n",
    "print(data3)"
   ]
  },
  {
   "cell_type": "markdown",
   "metadata": {},
   "source": [
    "En éste ejemplo se le suma 2 a cada elemento del array, algo que no se podría lograr un una sola linea de código utilizando listas ``lista3 = lista + 2`` daría un error.\n",
    "\n",
    "Los arrays tienen **shapes**, que no es más que la cantidad de \"filas\" y \"columnas\" de cada array, por ejemplo en el array del código anterior hay 2 filas y 3 columnas, es decir que el shape de ese array es *(2, 3)*. Tambien podemos utilizar la funcion **.ndim()** que nos indica solamente la **dimension** del array, la cual será ``0`` si el array es un único valor, ``1`` si hay una sola fila, ``2`` si hay filas y columnas (2 ejes), ``3`` si hay 3 ejes. \n",
    "\n",
    "Es posible conocer el shape de un array utilizando el método **.shape**, y además conocer el tipo de dato que contiene con el método **.dtype**:"
   ]
  },
  {
   "cell_type": "code",
   "execution_count": 3,
   "metadata": {},
   "outputs": [
    {
     "name": "stdout",
     "output_type": "stream",
     "text": [
      "(3, 4)\n",
      "int32\n",
      "2\n"
     ]
    }
   ],
   "source": [
    "my_arr = np.array([[1, 2, 3, 4],\n",
    "                   [5, 6, 7, 8],\n",
    "                   [9, 10, 11, 12]])\n",
    "print(my_arr.shape)\n",
    "print(my_arr.dtype)\n",
    "print(my_arr.ndim)"
   ]
  },
  {
   "cell_type": "markdown",
   "metadata": {},
   "source": [
    "**CREANDO ARRAYS**\n",
    "\n",
    "La forma más sencila de crear un array es utilizando la funcion ``np.array()``, ésta acepta cualquier objeto similar a una secuencia, pero los objetos de éste deben ser todos del mismo tipo, habíamos visto que podemos tener listas de objetos de distinta naturaleza por ejemplo ``list = [\"str\", 1, True, 333333,33333]``, pero para arrays ésto no esta permitido.\n",
    "\n",
    "Otra forma de crear nuevos arrays es con la **fórmula numpy.zeros()** y **numpy.ones()** que crean arrays de 0 y 1 respectivamente con una determinada longitud:"
   ]
  },
  {
   "cell_type": "code",
   "execution_count": 4,
   "metadata": {},
   "outputs": [
    {
     "name": "stdout",
     "output_type": "stream",
     "text": [
      "[[0. 0. 0. 0. 0.]\n",
      " [0. 0. 0. 0. 0.]\n",
      " [0. 0. 0. 0. 0.]]\n",
      "[[1. 1. 1. 1.]\n",
      " [1. 1. 1. 1.]]\n"
     ]
    }
   ],
   "source": [
    "p = np.zeros((3, 5))\n",
    "x = np.ones((2, 4))\n",
    "\n",
    "print(p, x, sep='\\n')"
   ]
  },
  {
   "cell_type": "markdown",
   "metadata": {},
   "source": [
    "Existe otro método bastante interesante para crear arrays de unos y ceros, aunque no se crea de novo sino a partir de otro array \"x\" existente, ésto no quiere decir que lo modifique, simplemente copia el shape y crea un array de 0 o 1, la funcion es ``ones_like(x)`` o ``zeros_like(x)``:"
   ]
  },
  {
   "cell_type": "code",
   "execution_count": 5,
   "metadata": {},
   "outputs": [
    {
     "name": "stdout",
     "output_type": "stream",
     "text": [
      "[[1. 1. 1. 1. 1.]\n",
      " [1. 1. 1. 1. 1.]\n",
      " [1. 1. 1. 1. 1.]]\n",
      "[[0. 0. 0. 0. 0.]\n",
      " [0. 0. 0. 0. 0.]\n",
      " [0. 0. 0. 0. 0.]]\n"
     ]
    }
   ],
   "source": [
    "z = np.ones_like(p)\n",
    "print(z)\n",
    "print(p)"
   ]
  },
  {
   "cell_type": "markdown",
   "metadata": {},
   "source": [
    "Se pueden crear arrays de rangos utilizando la fórmula **np.arange()**, la cual crea un array de una sola dimension, como si fuese una lista, y se los puede dividir en filas y columnas, es decir darle un shape, con la fórmula **.reshape()**:"
   ]
  },
  {
   "cell_type": "code",
   "execution_count": 6,
   "metadata": {},
   "outputs": [
    {
     "name": "stdout",
     "output_type": "stream",
     "text": [
      "[ 0  1  2  3  4  5  6  7  8  9 10 11 12 13 14]\n",
      "[[ 0  1  2  3  4]\n",
      " [ 5  6  7  8  9]\n",
      " [10 11 12 13 14]]\n"
     ]
    }
   ],
   "source": [
    "data10 = np.arange(15)\n",
    "print(data10)\n",
    "\n",
    "data11 = data10.reshape(3, 5)\n",
    "print(data11)"
   ]
  },
  {
   "cell_type": "markdown",
   "metadata": {},
   "source": [
    "La funcion ``arange``, como vemos es bastante similar a la funcion integrada de python ``range``, puede recibir un solo parámetro, como en el ejemplo, donde crear un array de 0 a 15, pero tambien se lo puede hacer más específico dandole un inicio y final específico, pasos y hasta tipo de valor, la **sintaxys completa de ``.arange()`` es**:\n",
    "\n",
    "``np.arange(start, stop, step, dtype=)``"
   ]
  },
  {
   "cell_type": "code",
   "execution_count": 7,
   "metadata": {},
   "outputs": [
    {
     "name": "stdout",
     "output_type": "stream",
     "text": [
      "[ 0.  1.  2.  3.  4.  5.  6.  7.  8.  9. 10.]\n",
      "[ 0.5  1.3  2.1  2.9  3.7  4.5  5.3  6.1  6.9  7.7  8.5  9.3 10.1]\n",
      "[ 0  1  2  3  4  5  6  7  8  9 10 11 12]\n"
     ]
    }
   ],
   "source": [
    "x = np.arange(10.4)\n",
    "print(x)\n",
    "x = np.arange(0.5, 10.4, 0.8)\n",
    "print(x)\n",
    "x = np.arange(0.5, 10.4, 0.8, int)\n",
    "print(x)"
   ]
  },
  {
   "cell_type": "markdown",
   "metadata": {},
   "source": [
    "Otra funcion útil para crear arrays es **.linspace()**, la sintaxis completa de ésta funcion es:\n",
    "\n",
    "``linspace(star, stop, num=50, endpoint=True, retstep=False)``\n",
    "\n",
    "Ésta funcion genera un array que contiene valores igualmente espaciados en un rango determinado, recibe dos parámetros sí o sí, ``start`` y ``stop``, que al igual que la funcion arrange, define el inicio y el final de un rango, el parámetro ``num`` por default es ``50``, es decir que si no especificamos su valor, linspace crea un array de **50 elementos**, ``endpoint`` establece se incluye o no el último numero de la secuencia, por dafault es ``True`` por lo que siempre agrega el valor de ``stop`` a menos que se se indique lo contrario (``False``), y el parámetro ``retstep`` que tambien es opcional, genera una **tupla** conteniendo el tamaño del paso entre valores consecutivos, por default es ``False`` por lo tanto no se genera, pero si lo cambiamos a ``True`` sí."
   ]
  },
  {
   "cell_type": "code",
   "execution_count": 8,
   "metadata": {},
   "outputs": [
    {
     "name": "stdout",
     "output_type": "stream",
     "text": [
      "[ 1.          1.18367347  1.36734694  1.55102041  1.73469388  1.91836735\n",
      "  2.10204082  2.28571429  2.46938776  2.65306122  2.83673469  3.02040816\n",
      "  3.20408163  3.3877551   3.57142857  3.75510204  3.93877551  4.12244898\n",
      "  4.30612245  4.48979592  4.67346939  4.85714286  5.04081633  5.2244898\n",
      "  5.40816327  5.59183673  5.7755102   5.95918367  6.14285714  6.32653061\n",
      "  6.51020408  6.69387755  6.87755102  7.06122449  7.24489796  7.42857143\n",
      "  7.6122449   7.79591837  7.97959184  8.16326531  8.34693878  8.53061224\n",
      "  8.71428571  8.89795918  9.08163265  9.26530612  9.44897959  9.63265306\n",
      "  9.81632653 10.        ]\n",
      "[ 1.   2.5  4.   5.5  7.   8.5 10. ]\n",
      "[1.         2.28571429 3.57142857 4.85714286 6.14285714 7.42857143\n",
      " 8.71428571]\n",
      "(array([1.        , 2.28571429, 3.57142857, 4.85714286, 6.14285714,\n",
      "       7.42857143, 8.71428571]), 1.2857142857142858)\n"
     ]
    }
   ],
   "source": [
    "arr1 = np.linspace(1, 10)\n",
    "arr2 = np.linspace(1, 10, 7)\n",
    "arr3 = np.linspace(1, 10, 7, False)\n",
    "arr4 = np.linspace(1, 10, 7, False, True)\n",
    "\n",
    "print(arr1, arr2, arr3, arr4, sep='\\n')"
   ]
  },
  {
   "cell_type": "markdown",
   "metadata": {},
   "source": [
    "Como vemos en  ``arr3, arr4`` ya no se incluye el 10, y en ``arr4`` se genera una tupla, donde el ultimo elemento es el tamaño de los pasos."
   ]
  },
  {
   "cell_type": "markdown",
   "metadata": {},
   "source": [
    "**ARITMÉTICA CON ARRAYS** Con Numpy es posible expresar operaciones mateméticas de a lotes sin utilizar el bucle ``for``, tan cual como vimos más arriba, para poder operar con dos arrays distintos los datos deben ser del mismo tipo.\n",
    "\n",
    "Este tipo de operaciones se denominan **vectorizaciones**. Las interacciones entre arrays tambien pueden producir arrays booleanos:"
   ]
  },
  {
   "cell_type": "code",
   "execution_count": 9,
   "metadata": {},
   "outputs": [
    {
     "name": "stdout",
     "output_type": "stream",
     "text": [
      "[[ 0  2  4  6  8]\n",
      " [10 12 14 16 18]\n",
      " [20 22 24 26 28]]\n",
      "[[ 0  5 10 15 20]\n",
      " [25 30 35 40 45]\n",
      " [50 55 60 65 70]]\n",
      "[[False False False False False]\n",
      " [False False False False False]\n",
      " [False False False False False]]\n"
     ]
    }
   ],
   "source": [
    "aray15 = np.arange(15)\n",
    "aray1 = aray15.reshape(3, 5)\n",
    "\n",
    "print(aray1 + aray1)\n",
    "print(aray1 * 5)\n",
    "\n",
    "aray2 = aray1 *2\n",
    "print(aray1 > aray2)"
   ]
  },
  {
   "cell_type": "markdown",
   "metadata": {},
   "source": [
    "El **broadcasting** es un mecanismo de numpy que permite realizar operaciones aritméticas con matrices de diferentes formas y dimensiones:"
   ]
  },
  {
   "cell_type": "code",
   "execution_count": 10,
   "metadata": {},
   "outputs": [
    {
     "name": "stdout",
     "output_type": "stream",
     "text": [
      "Multiplication with broadcasting: \n",
      "[[11 24 39]\n",
      " [21 44 69]\n",
      " [31 64 99]]\n",
      "... and now addition with broadcasting: \n",
      "[[12 14 16]\n",
      " [22 24 26]\n",
      " [32 34 36]]\n"
     ]
    }
   ],
   "source": [
    "A = np.array([ [11, 12, 13], [21, 22, 23], [31, 32, 33] ])\n",
    "B = np.array([1, 2, 3])\n",
    "\n",
    "print(\"Multiplication with broadcasting: \")\n",
    "print(A * B)\n",
    "print(\"... and now addition with broadcasting: \")\n",
    "print(A + B)"
   ]
  },
  {
   "cell_type": "code",
   "execution_count": 11,
   "metadata": {},
   "outputs": [
    {
     "data": {
      "text/plain": [
       "array([[11, 12, 13],\n",
       "       [42, 44, 46],\n",
       "       [93, 96, 99]])"
      ]
     },
     "execution_count": 11,
     "metadata": {},
     "output_type": "execute_result"
    }
   ],
   "source": [
    "B = np.array([1, 2, 3])\n",
    "\n",
    "A * B[:, np.newaxis]"
   ]
  },
  {
   "cell_type": "code",
   "execution_count": 12,
   "metadata": {},
   "outputs": [
    {
     "data": {
      "text/plain": [
       "array([[10, 20, 30],\n",
       "       [20, 40, 60],\n",
       "       [30, 60, 90]])"
      ]
     },
     "execution_count": 12,
     "metadata": {},
     "output_type": "execute_result"
    }
   ],
   "source": [
    "A = np.array([10, 20, 30])\n",
    "B = np.array([1, 2, 3])\n",
    "A[:, np.newaxis] * B"
   ]
  },
  {
   "cell_type": "markdown",
   "metadata": {},
   "source": [
    "Vemos que se puede operar con un array de 2 dimensiones (A) y un vector (1D), es como si el vector se propagara a dos dimensiones y opera generando un resultado elemento a elemento, lo msimo se puede hacer con arrays de una sola columna.\n",
    "\n",
    "<span style=\"color: green;\">La funcion ``np.newaxis`` es una herramienta de NumPy que permite manipular las dimensiones de arrays conviertiendo un array de *n dimensiones* en uno de *n+1 dimensiones*, en éste caso vonvierte un vector (1 fila) en un eje (una columna), pasando de un array de 1D a uno 2D:</span>"
   ]
  },
  {
   "cell_type": "code",
   "execution_count": 13,
   "metadata": {},
   "outputs": [
    {
     "name": "stdout",
     "output_type": "stream",
     "text": [
      "[[1]\n",
      " [2]\n",
      " [3]]\n",
      "[[4 5 6]]\n",
      "[[5 6 7]\n",
      " [6 7 8]\n",
      " [7 8 9]]\n"
     ]
    }
   ],
   "source": [
    "a = np.array([1, 2, 3])\n",
    "b = np.array([4, 5, 6])\n",
    "\n",
    "a_col = a[:, np.newaxis]        # Forma: (3, 1)\n",
    "b_row = b[np.newaxis, :]        # Forma: (1, 3)\n",
    "print(a_col)\n",
    "print(b_row)\n",
    "result = a_col + b_row          # Forma: (3, 3)\n",
    "print(result)"
   ]
  },
  {
   "cell_type": "markdown",
   "metadata": {},
   "source": [
    "**INDEXADO Y CORTE BÁSICO** Ya vimos que en listas el **indexado** es la seleccion de elementos o grupos de elementos para incorporarlos a otro conjunto o crear uno nuevo.\n",
    "\n",
    "El indexado de arrays **unidimensionales** es muy similar al de listas:"
   ]
  },
  {
   "cell_type": "code",
   "execution_count": 14,
   "metadata": {},
   "outputs": [
    {
     "name": "stdout",
     "output_type": "stream",
     "text": [
      "5\n",
      "[1 2 3]\n"
     ]
    }
   ],
   "source": [
    "print(data10[5])\n",
    "print(data10[1:4])\n"
   ]
  },
  {
   "cell_type": "markdown",
   "metadata": {},
   "source": [
    "Y al igual que las listas, los arrays son elementos mutables, y utilizan los mismos métodos para mosdicar valores de sus elementos, simplemente especificando el índice del elemento a cambiar, y algo particular de los arrays es que los **cambios se propagan**, por lo que hay que tener especial cuidado cuando se crea uno nuevo a partir de un corte de otro:"
   ]
  },
  {
   "cell_type": "code",
   "execution_count": 15,
   "metadata": {},
   "outputs": [
    {
     "name": "stdout",
     "output_type": "stream",
     "text": [
      "[100 100 100   3   4   5   6   7   8   9  10  11  12  13  14]\n",
      "[12 13]\n",
      "[100 100 100   3   4   5   6   7   8   9  10  11 200  13  14] [200  13]\n"
     ]
    }
   ],
   "source": [
    "data10[0:3] = 100\n",
    "print(data10)\n",
    "\n",
    "data12 = data10[-3:-1]\n",
    "print(data12)\n",
    "data12[-2] = 200\n",
    "print(data10, data12)"
   ]
  },
  {
   "cell_type": "markdown",
   "metadata": {},
   "source": [
    "Note que danto en ``data10`` como en ``data12`` el elemento ``-2`` cambia a 200 sin haberle indicado a ``data10`` que lo haga, ésto puede ser útil para algunas cosas, pero en ocasiones puede generar un problema, por suerte Numpy tiene una funcion, **.copy()** para crear un array nuevo a partir d eun corte y \"aislarlo\" del original:"
   ]
  },
  {
   "cell_type": "code",
   "execution_count": 16,
   "metadata": {},
   "outputs": [
    {
     "name": "stdout",
     "output_type": "stream",
     "text": [
      "[100 100 100   3   4   5   6   7   8   9  10  11 200  13  14]\n",
      "[ 8  5 10]\n"
     ]
    },
    {
     "data": {
      "text/plain": [
       "True"
      ]
     },
     "execution_count": 16,
     "metadata": {},
     "output_type": "execute_result"
    }
   ],
   "source": [
    "data13 = data10[-7:-4].copy()\n",
    "data13[1] = 5\n",
    "\n",
    "print(data10)\n",
    "print(data13)\n",
    "\n",
    "np.may_share_memory(data10, data12)"
   ]
  },
  {
   "cell_type": "markdown",
   "metadata": {},
   "source": [
    "Si queremos corroborar que dos matrices comparten o no el mismo bloque de memoria podemos utilizar la funcion ``np.may_share_memory(A, B)`` la cual devuelve ``True`` si sí lo comparten o ``False`` si No.\n",
    "\n",
    "Ahora bien, los arrays generalmente suelen ser multidimensionales, y aquí el indexado cambia un poco. Pata acceder a los elementos individuales de un array de más de una dimension, debemos hacerlo de forma recursiva, es decir **indicando primero el índice de la fila, o de array unidimensional, seguido del índice de elemento dentro de éste**:"
   ]
  },
  {
   "cell_type": "code",
   "execution_count": 17,
   "metadata": {},
   "outputs": [
    {
     "name": "stdout",
     "output_type": "stream",
     "text": [
      "[[ 0  1  2  3  4]\n",
      " [ 5  6  7  8  9]\n",
      " [10 11 12 13 14]]\n",
      "12\n",
      "8\n"
     ]
    }
   ],
   "source": [
    "print(aray1)\n",
    "arr3 = aray1[2, 2]\n",
    "print(arr3)\n",
    "\n",
    "print(aray1[1][3])"
   ]
  },
  {
   "cell_type": "markdown",
   "metadata": {},
   "source": [
    "Las reglas del indexado, tanto para filas como para los elementos individuales, en arrays tiene las mismas reglas que vimos, siempre se empieza desdel el 0. Notar que hay dos formas de indicarle la \"fila (x) y columna (y)\" del array, puede ser separado por coma o con dos corchetes.\n",
    "\n",
    "Es importante que empecemos a familiarizar a los valores de las filas como **x**, y los valores de las columnas como **y**, recordemos que los métodos con arrays suelen llamarse vectorizacion, y por algo lo es.\n",
    "\n",
    "Podemos tener arrays de más de 2 dimensiones, en ese caso tendremos al menos 3 indicaciones que darle, la primera o **z** sera el array completo de 2 dim., el segundo o **x**, la fila y el último o **y** la columna:"
   ]
  },
  {
   "cell_type": "code",
   "execution_count": 18,
   "metadata": {},
   "outputs": [
    {
     "name": "stdout",
     "output_type": "stream",
     "text": [
      "[[[ 1  2  3]\n",
      "  [ 4  5  6]]\n",
      "\n",
      " [[ 7  8  9]\n",
      "  [10 11 12]]]\n",
      "10\n",
      "[7 8 9]\n"
     ]
    }
   ],
   "source": [
    "arr3d = np.array([[[1, 2, 3], [4, 5, 6]], [[7, 8, 9], [10, 11, 12]]])\n",
    "print(arr3d)\n",
    "\n",
    "print(arr3d[1, 1, 0])\n",
    "print(arr3d[1, 0])"
   ]
  },
  {
   "cell_type": "markdown",
   "metadata": {},
   "source": [
    "Se utilizan las mismas reglas para cortar, y tambien se puede hacer uso de la funcion **.copy()** para aislar el corte del array original:"
   ]
  },
  {
   "cell_type": "code",
   "execution_count": 19,
   "metadata": {},
   "outputs": [
    {
     "name": "stdout",
     "output_type": "stream",
     "text": [
      "[5 6 7 8 9]\n",
      "[7 8 9]\n"
     ]
    }
   ],
   "source": [
    "arr4 = aray1[1].copy()\n",
    "print(arr4)\n",
    "\n",
    "arr5 = arr3d[1,0]\n",
    "print(arr5)"
   ]
  },
  {
   "cell_type": "markdown",
   "metadata": {},
   "source": [
    "Si queremos cortar una **columna** o un ``eje y`` completo, se escribe en la cordenada **x** dos puntos, y en la cordenada **y** el número de columna:"
   ]
  },
  {
   "cell_type": "code",
   "execution_count": 20,
   "metadata": {},
   "outputs": [
    {
     "name": "stdout",
     "output_type": "stream",
     "text": [
      "[[ 0  1  2  3  4]\n",
      " [ 5  6  7  8  9]\n",
      " [10 11 12 13 14]]\n",
      "[ 0  5 10]\n",
      "[[ 4]\n",
      " [ 9]\n",
      " [14]]\n",
      "[5 6 7 8 9]\n",
      "[5 6 7 8 9]\n",
      "[[0 1]\n",
      " [5 6]]\n",
      "[[ 5  6]\n",
      " [10 11]]\n",
      "[[ 0  3]\n",
      " [10 13]]\n"
     ]
    }
   ],
   "source": [
    "print(aray1)\n",
    "print(aray1[:, 0]) #toma la primera columna entera\n",
    "print(aray1[:, 4:]) #toma la última columna \n",
    "print(aray1[1]) #toma la primera fila\n",
    "print(aray1[1, :]) #toma la primera fila\n",
    "print(aray1[:2, :2]) #toma la interseccion de las primeras 2 filas y 2 columnas\n",
    "print(aray1[1:, :2]) #toma la interseccion de la ultimas 2 filas y primeras 2 columnas\n",
    "print(aray1[::2, ::3]) #toma la inteseccion de las filas de a 2 pasos y las columnas de a 3 pasos"
   ]
  },
  {
   "cell_type": "markdown",
   "metadata": {},
   "source": [
    "Por último, podemos hablar de la creacion de **matrices de identidad**, una forma de crearlas es con la funcion ``.identity(n, dtype)`` la cual crea matrices de tamaño *n x n* compuesta de *0* y *1*, donde los unos se ordenan en la diagonal de la matriz:"
   ]
  },
  {
   "cell_type": "code",
   "execution_count": 21,
   "metadata": {},
   "outputs": [
    {
     "name": "stdout",
     "output_type": "stream",
     "text": [
      "[[1. 0. 0. 0.]\n",
      " [0. 1. 0. 0.]\n",
      " [0. 0. 1. 0.]\n",
      " [0. 0. 0. 1.]]\n"
     ]
    }
   ],
   "source": [
    "identity_matrix = np.identity(4)\n",
    "print(identity_matrix)"
   ]
  },
  {
   "cell_type": "markdown",
   "metadata": {},
   "source": [
    "O se puede utilizar tambien la funcion ``.eye(n, m, k, dtype)`` la cual se podría decir que es más flexible ya que recibe el parámetro ``n`` que le indica las filas, y el ``m`` que indica las columnas, y ``k`` que define la posicion de la **diagonal**, aunque el único parámetro no optativo es ``n``, si solo especifico el valor de éste se crea una matriz de tamaño *n x n*:"
   ]
  },
  {
   "cell_type": "code",
   "execution_count": 22,
   "metadata": {},
   "outputs": [
    {
     "data": {
      "text/plain": [
       "array([[0, 1, 0, 0, 0, 0, 0, 0],\n",
       "       [0, 0, 1, 0, 0, 0, 0, 0],\n",
       "       [0, 0, 0, 1, 0, 0, 0, 0],\n",
       "       [0, 0, 0, 0, 1, 0, 0, 0],\n",
       "       [0, 0, 0, 0, 0, 1, 0, 0]])"
      ]
     },
     "execution_count": 22,
     "metadata": {},
     "output_type": "execute_result"
    }
   ],
   "source": [
    "np.eye(5, 8, k=1, dtype=int)"
   ]
  },
  {
   "cell_type": "markdown",
   "metadata": {},
   "source": [
    "Este tipo de matrices ahora no parece tener mucho sentido o utildad pero se utilizan bastante en operaciones matemáticas y redes neuronales."
   ]
  },
  {
   "cell_type": "markdown",
   "metadata": {},
   "source": [
    "Otra forma bastante rápida de seleccionar elementos de un array es utlizando la funcion ``np.where``, ésta recibe instrucciones condicionales para encontrar índices donde se cumpla una condicion, su sintaxys básica es:\n",
    "\n",
    "``np.where(condición, valor_si_verdadero, valor_si_falso)``\n"
   ]
  },
  {
   "cell_type": "code",
   "execution_count": 84,
   "metadata": {},
   "outputs": [
    {
     "name": "stdout",
     "output_type": "stream",
     "text": [
      "(array([1, 3], dtype=int64),)\n"
     ]
    }
   ],
   "source": [
    "arr = np.array([3, -1, 7, -5, 2])\n",
    "indices = np.where(arr < 0)  #condicion es que el elemento sea menor a 0\n",
    "\n",
    "print(indices)"
   ]
  },
  {
   "cell_type": "code",
   "execution_count": 85,
   "metadata": {},
   "outputs": [
    {
     "name": "stdout",
     "output_type": "stream",
     "text": [
      "['Aprobado' 'Reprobado' 'Aprobado' 'Reprobado' 'Aprobado']\n"
     ]
    }
   ],
   "source": [
    "arr = np.array([85, 40, 90, 30, 75])\n",
    "etiquetas = np.where(arr >= 50, \"Aprobado\", \"Reprobado\")\n",
    "\n",
    "print(etiquetas)"
   ]
  },
  {
   "cell_type": "markdown",
   "metadata": {},
   "source": [
    "Si lo pensamos, tiene una l+ogica similar a los condicionales como ``if`` o ``while``, primero se establace una condicion: *los números de ``arr`` son mayor o igual a 50*, sí ésta condicion es **verdadero** toman el valor de \"aprobado\", si es **falso** toman el valor de \"reprobado\", veamos otro ejemplo:"
   ]
  },
  {
   "cell_type": "code",
   "execution_count": 86,
   "metadata": {},
   "outputs": [
    {
     "name": "stdout",
     "output_type": "stream",
     "text": [
      "[3 0 7 0 2]\n"
     ]
    }
   ],
   "source": [
    "arr = np.array([3, -1, 7, -5, 2])\n",
    "nuevo_arr = np.where(arr < 0, 0, arr)\n",
    "\n",
    "print(nuevo_arr)"
   ]
  },
  {
   "cell_type": "markdown",
   "metadata": {},
   "source": [
    "Aqui de nuevo, la condicion inicial es que el elemento sea menor a 0, cuando ésto se cumple el elemento del array toma el valor de 0, cuando NO se cumple, mantiene su valor.\n",
    "\n",
    "``Np.where`` permite establecer multiplas condiciones? SÍ! ``np.where`` permite establacer más de una condicion:"
   ]
  },
  {
   "cell_type": "code",
   "execution_count": 87,
   "metadata": {},
   "outputs": [
    {
     "name": "stdout",
     "output_type": "stream",
     "text": [
      "['Bueno' 'Malo' 'Excelente' 'Malo' 'Bueno']\n"
     ]
    }
   ],
   "source": [
    "arr = np.array([85, 40, 90, 30, 75])\n",
    "nueva_clasificacion = np.where(arr >= 90, \"Excelente\", \n",
    "                               np.where(arr >= 50, \"Bueno\", \"Malo\"))\n",
    "\n",
    "print(nueva_clasificacion)"
   ]
  },
  {
   "cell_type": "markdown",
   "metadata": {},
   "source": [
    "No te recuerda a la estructura de los bucles condicionales? se establece una primera condicion, que los elementos sean >= 90, si es verdadero toma el valor de \"Excelente\", pero **si es falso se abre una nueva condicion**, donde volvemos a escribir la funcion, ésta vez con otra condicion de que los valores >=50 tomen el valor de \"Bueno, y si ésto es falso, tomen el valor de \"Malo\".\n",
    "\n",
    "``np.where`` es una excelente herramienta para trabajar con condicionales en NumPy."
   ]
  },
  {
   "cell_type": "markdown",
   "metadata": {},
   "source": [
    "**INDEXADO BOOLEANO** Vimos más arriba que es posible obtener arrys booleanos mediante operaciones aritméticas, recordemos que para realizar operaciones con 2 arrays distintos ambos deben tener la misma cantidad de elementos.\n",
    "Podemos hacer uso del operador **=** para relacionar los elementos de un array con un valor específico:\n"
   ]
  },
  {
   "cell_type": "code",
   "execution_count": 23,
   "metadata": {},
   "outputs": [
    {
     "name": "stdout",
     "output_type": "stream",
     "text": [
      "[ True False False  True False False False]\n"
     ]
    }
   ],
   "source": [
    "names = np.array([\"Bob\", \"Joe\", \"Will\", \"Bob\", \"Will\", \"Joe\", \"Joe\"])\n",
    "print(names == \"Bob\")\n"
   ]
  },
  {
   "cell_type": "markdown",
   "metadata": {},
   "source": [
    "Los arrays booleanos son muy útiles porque pueden utilizarse para indexar un array, en el ejemplo anterior podemos utilizar el array booleano como índice para extrar elementos de otro array:"
   ]
  },
  {
   "cell_type": "code",
   "execution_count": 24,
   "metadata": {},
   "outputs": [
    {
     "name": "stdout",
     "output_type": "stream",
     "text": [
      "[[4 7]\n",
      " [0 0]]\n",
      "[[  0   2]\n",
      " [ -5   6]\n",
      " [  1   2]\n",
      " [-12  -4]\n",
      " [  3   4]]\n",
      "[7 0]\n"
     ]
    }
   ],
   "source": [
    "data = np.array([[4, 7], [0, 2], [-5, 6], [0, 0], [1, 2],[-12, -4], [3, 4]])\n",
    "print(data[names == \"Bob\"])\n",
    "\n",
    "print(data[names != \"Bob\"])\n",
    "\n",
    "print(data[names == \"Bob\", 1])"
   ]
  },
  {
   "cell_type": "markdown",
   "metadata": {},
   "source": [
    "Sirve para relacionar arrays, en este caso el array ``data`` que nada tiene que ver con el array ``names``, puedo usar el array booleano de éste para seleccionar elementos del primero. \n",
    "\n",
    "Se pueden utilizar los operadores booleanos como ``&``(and) y ``|`` (or) tambien para generar indexados más específicos: "
   ]
  },
  {
   "cell_type": "code",
   "execution_count": 25,
   "metadata": {},
   "outputs": [
    {
     "name": "stdout",
     "output_type": "stream",
     "text": [
      "[ True False  True  True  True False False]\n"
     ]
    },
    {
     "data": {
      "text/plain": [
       "array([[ 4,  7],\n",
       "       [-5,  6],\n",
       "       [ 0,  0],\n",
       "       [ 1,  2]])"
      ]
     },
     "execution_count": 25,
     "metadata": {},
     "output_type": "execute_result"
    }
   ],
   "source": [
    "mask = (names == \"Bob\") | (names == \"Will\")\n",
    "print(mask)\n",
    "\n",
    "data[mask]"
   ]
  },
  {
   "cell_type": "markdown",
   "metadata": {},
   "source": [
    "El indexado booleano tambien pude ser útil para modificar valores o sustituirlos, por ejemplo para sustituir todos los valores negativos de el array ``data`` podemos utilizar una operacion para generar un indexado booleano:"
   ]
  },
  {
   "cell_type": "code",
   "execution_count": 26,
   "metadata": {},
   "outputs": [
    {
     "name": "stdout",
     "output_type": "stream",
     "text": [
      "[[False False]\n",
      " [False False]\n",
      " [ True False]\n",
      " [False False]\n",
      " [False False]\n",
      " [ True  True]\n",
      " [False False]]\n"
     ]
    },
    {
     "data": {
      "text/plain": [
       "array([[  4,   7],\n",
       "       [  0,   2],\n",
       "       [100,   6],\n",
       "       [  0,   0],\n",
       "       [  1,   2],\n",
       "       [100, 100],\n",
       "       [  3,   4]])"
      ]
     },
     "execution_count": 26,
     "metadata": {},
     "output_type": "execute_result"
    }
   ],
   "source": [
    "print(data < 0)\n",
    "data[data < 0] = 100\n",
    "data"
   ]
  },
  {
   "cell_type": "markdown",
   "metadata": {},
   "source": [
    "**INDEXADO SOFISTICADO** El indexado sofisticado es un término adoptado por NumPy para describir indexados utilizando directamente arrays enteros:"
   ]
  },
  {
   "cell_type": "code",
   "execution_count": 27,
   "metadata": {},
   "outputs": [
    {
     "name": "stdout",
     "output_type": "stream",
     "text": [
      "[[0. 0. 0. 0.]\n",
      " [0. 0. 0. 0.]\n",
      " [0. 0. 0. 0.]\n",
      " [0. 0. 0. 0.]\n",
      " [0. 0. 0. 0.]\n",
      " [0. 0. 0. 0.]\n",
      " [0. 0. 0. 0.]\n",
      " [0. 0. 0. 0.]]\n"
     ]
    },
    {
     "data": {
      "text/plain": [
       "array([[1., 1., 1., 1.],\n",
       "       [2., 2., 2., 2.],\n",
       "       [3., 3., 3., 3.],\n",
       "       [4., 4., 4., 4.],\n",
       "       [5., 5., 5., 5.],\n",
       "       [6., 6., 6., 6.],\n",
       "       [7., 7., 7., 7.],\n",
       "       [8., 8., 8., 8.]])"
      ]
     },
     "execution_count": 27,
     "metadata": {},
     "output_type": "execute_result"
    }
   ],
   "source": [
    "arr = np.zeros((8, 4))\n",
    "\n",
    "print(arr)\n",
    "\n",
    "for i in range(8):\n",
    "    arr[i] = i+1\n",
    "arr"
   ]
  },
  {
   "cell_type": "markdown",
   "metadata": {},
   "source": [
    "Supongamos que tenemos éste array, y queremos seleccionar un **subconjunto de filas**, se puede simplemente pasar una **lista** o narray de enteros especificando el orden deseado:"
   ]
  },
  {
   "cell_type": "code",
   "execution_count": 28,
   "metadata": {},
   "outputs": [
    {
     "name": "stdout",
     "output_type": "stream",
     "text": [
      "[[5. 5. 5. 5.]\n",
      " [4. 4. 4. 4.]\n",
      " [1. 1. 1. 1.]\n",
      " [7. 7. 7. 7.]]\n",
      "[[1. 1.]\n",
      " [2. 2.]\n",
      " [3. 3.]\n",
      " [4. 4.]\n",
      " [5. 5.]\n",
      " [6. 6.]\n",
      " [7. 7.]\n",
      " [8. 8.]]\n"
     ]
    }
   ],
   "source": [
    "print(arr[[4, 3, 0, 6]])\n",
    "print(arr[: ,[3, 1]])"
   ]
  },
  {
   "cell_type": "markdown",
   "metadata": {},
   "source": [
    "Notar que el indexado tine euna lista, nos damos cuento por los dobles corchetes, es muy distinto de lo que vimos en la primera forma de indexar donde se usaba ``[4, 3]``.\n",
    "\n",
    "Cuando utilizamos una lista para indexar, cada elemento de la lista es el índice de una **fila** del array, y lo ace en el orden específico en que se lo indicamos, en el ejemplo le pedimos que seleccione la fila 4, luego la fila 3, luego la primer fila y finalmente la penúltima, si se utilizan valores negativos, por ejemplo ``[-1, -3]`` tomará los elementos tal cual como vimos en el indexado de elementos de listas, en éste caso el último y el antepenúltimo.\n",
    "Lo mismo ocurre si solo queremos seleccionar columnas, solo que en éste cado debemos porner los **:** primero para que tome todas las filas, tambien se respeta el orden en el cual esten indexados.\n",
    "\n",
    "Podemos utilizar dos listas para seleccionar **filas y columnas**:"
   ]
  },
  {
   "cell_type": "code",
   "execution_count": 29,
   "metadata": {},
   "outputs": [
    {
     "name": "stdout",
     "output_type": "stream",
     "text": [
      "[[ 0  1  2  3]\n",
      " [ 4  5  6  7]\n",
      " [ 8  9 10 11]\n",
      " [12 13 14 15]\n",
      " [16 17 18 19]\n",
      " [20 21 22 23]\n",
      " [24 25 26 27]\n",
      " [28 29 30 31]]\n"
     ]
    },
    {
     "data": {
      "text/plain": [
       "array([ 4, 23, 29, 10])"
      ]
     },
     "execution_count": 29,
     "metadata": {},
     "output_type": "execute_result"
    }
   ],
   "source": [
    "arr = np.arange(32).reshape((8, 4))\n",
    "arr[[1, 5, 7, 2]][:, [0, 3, 1, 2]]\n",
    "print(arr)\n",
    "arr[[1, 5, 7, 2], [0, 3, 1, 2]]\n"
   ]
  },
  {
   "cell_type": "markdown",
   "metadata": {},
   "source": [
    "Ésta técnica es más simple y genera exáctamente el mismo resultado que poner los índices uno por uno ((1, 0), (5, 3), (7, 1) y (2,2)).\n",
    "\n",
    "Note que el resultado es un array unidimensional, y siempre que se utilicen tantas listas como ejes hay en el array, dara como resultado uno unidimensional, aquí usamos dos listas para indexar un array bidimensional, y el resultado son elementos individuales que corresponden a la **inteseccion**, sin embargo podemos seleccionar filas completas de las intersecciones que deseemos, para ello debemos darle 3 indicaciones:"
   ]
  },
  {
   "cell_type": "code",
   "execution_count": 30,
   "metadata": {},
   "outputs": [
    {
     "data": {
      "text/plain": [
       "array([[ 4,  7,  5,  6],\n",
       "       [20, 23, 21, 22],\n",
       "       [28, 31, 29, 30],\n",
       "       [ 8, 11,  9, 10]])"
      ]
     },
     "execution_count": 30,
     "metadata": {},
     "output_type": "execute_result"
    }
   ],
   "source": [
    "arr[[1, 5, 7, 2]][:, [0, 3, 1, 2]]"
   ]
  },
  {
   "cell_type": "markdown",
   "metadata": {},
   "source": [
    "Aqui le indicamos primero las filas a seleccionar y luego se realiza una seleccion avanzada o sofisticada sobre la seleccion previa, aqui le decimos que tome todas las filas de la seleccion anterior con **:**, y luego seleccionamos las columnas. Al igual que en los casos anteriores se respeta el orden en el cual se lo pida.\n",
    "\n",
    "Éste método no es tan intuitivo pero es bastante útil sobretodo para el manejo de grandes volúmenes de datos."
   ]
  },
  {
   "cell_type": "markdown",
   "metadata": {},
   "source": [
    "**TRANSPONER ARRAYS E INTERCAMBIAR EJES** En NumPy, la transposición de un array implica **intercambiar sus ejes**, es decir, reorganizar las dimensiones del array de manera que las filas se conviertan en columnas y las columnas en filas. Esto NO crea una nueva copia de los datos, sino que devuelve una vista del array original con los ejes reorganizados, por lo tanto cualquier cambio al array transpuesto generará cambios en el original.\n",
    "\n",
    "Existe el método especial ``.transpose()`` que utiliza el atributo ``T``:\n"
   ]
  },
  {
   "cell_type": "code",
   "execution_count": 31,
   "metadata": {},
   "outputs": [
    {
     "name": "stdout",
     "output_type": "stream",
     "text": [
      "[[ 0  1  2  3  4]\n",
      " [ 5  6  7  8  9]\n",
      " [10 11 12 13 14]]\n"
     ]
    },
    {
     "data": {
      "text/plain": [
       "array([[ 0,  5, 10],\n",
       "       [ 1,  6, 11],\n",
       "       [ 2,  7, 12],\n",
       "       [ 3,  8, 13],\n",
       "       [ 4,  9, 14]])"
      ]
     },
     "execution_count": 31,
     "metadata": {},
     "output_type": "execute_result"
    }
   ],
   "source": [
    "import numpy as np\n",
    "\n",
    "arr = np.arange(15).reshape((3, 5))\n",
    "print(arr)\n",
    "\n",
    "arr.T"
   ]
  },
  {
   "cell_type": "markdown",
   "metadata": {},
   "source": [
    "La transposicion de ejes es muy útil cuandoo se realizan cálculos con matrices "
   ]
  },
  {
   "cell_type": "markdown",
   "metadata": {},
   "source": [
    "**FUNCIONES RÁPIDAS DE ARRAYS** \n",
    "\n",
    "Las funciones universaler realizan operaciones matemáticas básicas elemento por elemento en arrays, veamos algunas de las más utilizadas:\n",
    "\n",
    "**``np.sqrt()``** Calcula la **raiz cuadrada** de cada elemento.\n",
    "\n",
    "**``np.exp()``** Calcula el exponente *e* de cada elemento.\n",
    "\n",
    "**``np.square()``** Calcula el cuadrado de cada elemento, es equivalente a arry **2.\n",
    "\n",
    "**``np.log/log10/log2/log1p``** Calcula el logaritmo natura en base *e*, en base 10, en base 2 y base (1 + x) respectivamente.\n",
    "\n",
    "Estas funciones son **unarias**, es decir toma un único array y generan un producto, pero existen tambien funciones **binarias** que son muy útiles para comparar arrays:\n",
    "\n",
    "**``np.maximum(x, y)``** Calcula el máximo, elemento a elemtento, de dos arrays.\n",
    "\n",
    "**``np.add(x, n)``** Genera un nuevo array a partir de otro con otros valores, similar a ``np.ones_like(x)``, solo que aqui el parámetro ``n`` sirve para **sumar** un determinado valor elemento por elemento.\n",
    "\n",
    "**``np.multiply(x, y)``** Multiplica arrays elemento a elemento, equivalente a arr1 * arr2.\n",
    "\n",
    "**``np.power(x, y)``** Eleva los elemento del primer array a las potencias indicadas en el segundo.\n",
    "\n",
    "**``np.cumsum(array, axis=None, dtype=None)``** Calcula la suma acumulativa de los elementos de un array, por ejemplo un array = [1, 2, 3, 4], la suma acumulativa de éste es [1, 1+2, 1+2+3, 1+2+3+4] = [1, 3, 6, 10]"
   ]
  },
  {
   "cell_type": "markdown",
   "metadata": {},
   "source": [
    "**PROGRAMACION ORIENTADA A ARRAYS CON ARRAYS** \n",
    "\n",
    "El uso de arrays permite expresar muchos tipos de procesos que sin NumPy requerirían la escritura de bucles. En general la operaciones vectorizadas, es decir que emplean arrays, suelen ser mucho más rápidas que a sus equivalentes puros en python.\n",
    "\n",
    "**► dtype**  Hasta ahora hemos utilizado matrices solo con valores numéricos, ya sean 'int' o 'float', es decir hemos trabajado solo con matrices homogeneas, sin embargo python nos permite trabajar con \"tablas\" de datos, que no son otra cosa que **Matrices estructuradas** tambien llamadas matrices de registros. Estas matrices pueden contener distintos tipos de datos por columna y se podría decir que son similares a estructuras de datos como Excel o CSV. Esto posibilita crear columnas con nombres o categorías.\n",
    "\n",
    "``dtype`` es un **parámetro** dentor de la funcion ``np.array()`` el cual a su vez tiene dos parámetros: el \"nombre\" de la columna y el tipo de dato. El dtype se puede definir antes de crear el array, lo cual generalmente se hace ya que es más cómodo, o directamente dentro de la funcion ``np.array([x], np.dtype = ([('nombre', np.int32)]))``:"
   ]
  },
  {
   "cell_type": "code",
   "execution_count": 32,
   "metadata": {},
   "outputs": [
    {
     "name": "stdout",
     "output_type": "stream",
     "text": [
      "[(393,) (337,) (256,)]\n",
      "[393 337 256]\n"
     ]
    }
   ],
   "source": [
    "# Definir un tipo de dato para la columna 'density'\n",
    "dt = np.dtype([('density', np.int32)])\n",
    "\n",
    "# Crear un array estructurado con valores para 'density'\n",
    "x = np.array([(393,), (337,), (256,)], dtype=dt)\n",
    "print(x)\n",
    "\n",
    "#Se puede acceder a la columna usando el nombre que le dimos\n",
    "print(x['density'])"
   ]
  },
  {
   "cell_type": "markdown",
   "metadata": {},
   "source": [
    "Aqui basicamente creamos una sola columna con el valores numéricos y le dimos un nombre, ésto mismo podemos hacer con multiples columnas:"
   ]
  },
  {
   "cell_type": "code",
   "execution_count": 33,
   "metadata": {},
   "outputs": [
    {
     "name": "stdout",
     "output_type": "stream",
     "text": [
      "[('Netherlands', 393,  41526, 16928800) ('Belgium', 337,  30510, 11007020)\n",
      " ('United Kingdom', 256, 243610, 62262000)\n",
      " ('Germany', 233, 357021, 81799600)]\n",
      "['Netherlands' 'Belgium' 'United Kingdom' 'Germany']\n"
     ]
    }
   ],
   "source": [
    "# Definir un tipo de dato con varias columnas\n",
    "dt = np.dtype([\n",
    "    ('country', np.compat.unicode, 20),  # String de hasta 20 caracteres\n",
    "    ('density', 'i4'),   # Entero de 4 bytes\n",
    "    ('area', 'i4'),      # Entero de 4 bytes\n",
    "    ('population', 'i4') # Entero de 4 bytes\n",
    "])\n",
    "\n",
    "# Crear un array con datos\n",
    "population_table = np.array([\n",
    "    ('Netherlands', 393, 41526, 16928800),\n",
    "    ('Belgium', 337, 30510, 11007020),\n",
    "    ('United Kingdom', 256, 243610, 62262000),\n",
    "    ('Germany', 233, 357021, 81799600),\n",
    "], dtype=dt)\n",
    "\n",
    "print(population_table)\n",
    "print(population_table['country'])"
   ]
  },
  {
   "cell_type": "markdown",
   "metadata": {},
   "source": [
    "Observe que la cantidad de columnas creadas en dtype corresponde a la cantidad de elementos y al orden de las tuplas que utilizamos para crear el array, ésto es importante ya que narray le asigna el nombre a cada columna siguiendo el orden en que esten posicionadas. \n",
    "Veremos más adelante que hay formas visualmente más cómodas de trabajar con tablas, pero ésta forma e bastante útil."
   ]
  },
  {
   "cell_type": "markdown",
   "metadata": {},
   "source": [
    "**► meshgrid** crea matrices bidimensionales a partir de uno o dos arrays unidimensionales. Este tipo de matrices representa una **grilla de coordenadas** en un espacio cartesiano. Se utiliza comunmente en simulaciones y visualizacion de datos.\n",
    "\n",
    "Su sintaxis completa es:\n",
    "\n",
    "``numpy.meshgrid(*xi, copy=True, sparse=False, indexing='xy')`` \n",
    "\n",
    "Donde el primer elemento (``xi``) corresponde a la secuencia de vectores 1D, que puede ser una lista o un array unidimensional, los cuales van a representar las coordenadas de entrada, es decir los valores a lo largo de un eje cartesiano. Los otros parámetros son opcionales y estan predefinidos. ``Copy = True`` crea una copia de los datos originales, en el caso de no necesitarla se puede especificar que sea False. ``Indexing = 'xy'`` define cómo indexar las coordenadas de salida, es decir el primer valor va a corresponder a *x* y el segundo a *y*:"
   ]
  },
  {
   "cell_type": "code",
   "execution_count": 34,
   "metadata": {},
   "outputs": [
    {
     "data": {
      "text/plain": [
       "array([[-5.  , -4.99, -4.98, ...,  4.97,  4.98,  4.99],\n",
       "       [-5.  , -4.99, -4.98, ...,  4.97,  4.98,  4.99],\n",
       "       [-5.  , -4.99, -4.98, ...,  4.97,  4.98,  4.99],\n",
       "       ...,\n",
       "       [-5.  , -4.99, -4.98, ...,  4.97,  4.98,  4.99],\n",
       "       [-5.  , -4.99, -4.98, ...,  4.97,  4.98,  4.99],\n",
       "       [-5.  , -4.99, -4.98, ...,  4.97,  4.98,  4.99]])"
      ]
     },
     "execution_count": 34,
     "metadata": {},
     "output_type": "execute_result"
    }
   ],
   "source": [
    "points = np.arange(-5, 5, 0.01)\n",
    "\n",
    "xs, ys = np.meshgrid(points, points)\n",
    "\n",
    "xs"
   ]
  },
  {
   "cell_type": "code",
   "execution_count": 35,
   "metadata": {},
   "outputs": [
    {
     "name": "stdout",
     "output_type": "stream",
     "text": [
      "z:\n",
      " [[7.07106781 7.06400028 7.05693985 ... 7.04988652 7.05693985 7.06400028]\n",
      " [7.06400028 7.05692568 7.04985815 ... 7.04279774 7.04985815 7.05692568]\n",
      " [7.05693985 7.04985815 7.04278354 ... 7.03571603 7.04278354 7.04985815]\n",
      " ...\n",
      " [7.04988652 7.04279774 7.03571603 ... 7.0286414  7.03571603 7.04279774]\n",
      " [7.05693985 7.04985815 7.04278354 ... 7.03571603 7.04278354 7.04985815]\n",
      " [7.06400028 7.05692568 7.04985815 ... 7.04279774 7.04985815 7.05692568]]\n"
     ]
    }
   ],
   "source": [
    "# Evaluar una función z = x^2 + y^2\n",
    "z = np.sqrt(xs ** 2 + ys ** 2)\n",
    "\n",
    "print(\"z:\\n\", z)"
   ]
  },
  {
   "cell_type": "markdown",
   "metadata": {},
   "source": [
    "Vemos que nos devuelve todos los resultados de la funcion Z. Visualizarlo de ésta forma no tiene mucho sentido, éste tipo de funciones se complementan con gráficos:"
   ]
  },
  {
   "cell_type": "code",
   "execution_count": 36,
   "metadata": {},
   "outputs": [
    {
     "name": "stderr",
     "output_type": "stream",
     "text": [
      "<>:4: SyntaxWarning: invalid escape sequence '\\s'\n",
      "<>:4: SyntaxWarning: invalid escape sequence '\\s'\n",
      "C:\\Users\\juli\\AppData\\Local\\Temp\\ipykernel_15756\\1149770671.py:4: SyntaxWarning: invalid escape sequence '\\s'\n",
      "  plt.title(\"Image plot of $\\sqrt{x^2 + y^2}$ for a grid of values\")\n"
     ]
    },
    {
     "data": {
      "text/plain": [
       "Text(0.5, 1.0, 'Image plot of $\\\\sqrt{x^2 + y^2}$ for a grid of values')"
      ]
     },
     "execution_count": 36,
     "metadata": {},
     "output_type": "execute_result"
    },
    {
     "data": {
      "image/png": "[encoded data removed]",
      "text/plain": [
       "<Figure size 640x480 with 2 Axes>"
      ]
     },
     "metadata": {},
     "output_type": "display_data"
    }
   ],
   "source": [
    "import matplotlib.pyplot as plt\n",
    "plt.imshow(z, cmap=plt.cm.gray, extent=[-5, 5, -5, 5])\n",
    "plt.colorbar()\n",
    "plt.title(\"Image plot of $\\sqrt{x^2 + y^2}$ for a grid of values\")"
   ]
  },
  {
   "cell_type": "markdown",
   "metadata": {},
   "source": [
    "**MULTIPLICACION DE MATRICES** Es necesario primero aclarar la diferencia entre una **multiplicacion elemento a elemento** entre dos arrays y una **multiplicacion matricial**. En el primer caso se utiliza la funcion ``multiply(a, b)`` ésta genera un array con el producto de dos valores correspondientes a la misma posicion:"
   ]
  },
  {
   "cell_type": "code",
   "execution_count": 37,
   "metadata": {},
   "outputs": [
    {
     "name": "stdout",
     "output_type": "stream",
     "text": [
      "[ 4 10 18]\n"
     ]
    }
   ],
   "source": [
    "a = np.array([1, 2, 3])\n",
    "b = np.array([4, 5, 6])\n",
    "result = np.multiply(a, b)\n",
    "print(result)"
   ]
  },
  {
   "cell_type": "markdown",
   "metadata": {},
   "source": [
    "Por otro lado la **Multiplicacion de matrices** utiliza la funcion ``dot(a, b)`` que genera un producto matricial o escalar:"
   ]
  },
  {
   "cell_type": "code",
   "execution_count": 38,
   "metadata": {},
   "outputs": [
    {
     "name": "stdout",
     "output_type": "stream",
     "text": [
      "32\n"
     ]
    }
   ],
   "source": [
    "a = np.array([1, 2, 3])\n",
    "b = np.array([4, 5, 6])\n",
    "result = np.dot(a, b)  # (1*4 + 2*5 + 3*6)\n",
    "print(result)"
   ]
  },
  {
   "cell_type": "markdown",
   "metadata": {},
   "source": [
    "El resultado de la multiplicacion de vectores unidimensionales es un producto escalar, pero cuando multiplicamos dos matrices bidimensionales el resultado es una **nueva matriz**, cada **fila** de la matriz nueva corresponde a la suma del producto entre cada elemento de una **fila** de la primera matriz por una **columna** de la segunda:"
   ]
  },
  {
   "cell_type": "code",
   "execution_count": 39,
   "metadata": {},
   "outputs": [
    {
     "name": "stdout",
     "output_type": "stream",
     "text": [
      "[[11 12 13]\n",
      " [21 22 23]\n",
      " [31 32 33]]\n",
      "[[1 2 3]\n",
      " [1 2 3]\n",
      " [1 2 3]]\n"
     ]
    }
   ],
   "source": [
    "A = np.array([[ 11, 12, 13],[21, 22, 23],[31, 32, 33]])\n",
    "B = np.array([[1, 2, 3], [1, 2, 3], [1, 2, 3]])\n",
    "\n",
    "print(A)\n",
    "print(B)"
   ]
  },
  {
   "cell_type": "code",
   "execution_count": 40,
   "metadata": {},
   "outputs": [
    {
     "data": {
      "text/plain": [
       "array([[ 36,  72, 108],\n",
       "       [ 66, 132, 198],\n",
       "       [ 96, 192, 288]])"
      ]
     },
     "execution_count": 40,
     "metadata": {},
     "output_type": "execute_result"
    }
   ],
   "source": [
    "np.dot(A, B) \n",
    "# [0, 0] = (11*1 + 12*1 + 13*1) = 36\n",
    "# [0, 1] = (11*2 + 12*2 + 13*2) = 72\n",
    "# [0, 2] = (11*3 + 12*3 + 13*3) = 108\n",
    "# [1, 0] = (21*1 + 22*1 + 23*1) = 66 \n",
    "# [1, 1] = (21*2 + 22*2 + 23*2) = 132\n",
    "# [1, 2] = (21*3 + 22*3 + 23*3) = 198\n",
    "# ...."
   ]
  },
  {
   "cell_type": "code",
   "execution_count": 41,
   "metadata": {},
   "outputs": [
    {
     "name": "stdout",
     "output_type": "stream",
     "text": [
      "[[11 12 13]\n",
      " [21 22 23]\n",
      " [31 32 33]]\n",
      "[[1 2 3]\n",
      " [4 5 6]\n",
      " [7 8 9]]\n",
      "[[150 186 222]\n",
      " [270 336 402]\n",
      " [390 486 582]]\n"
     ]
    }
   ],
   "source": [
    "C = np.array([[ 11, 12, 13],[21, 22, 23],[31, 32, 33]])\n",
    "D = np.array([[1, 2, 3], [4, 5, 6], [7, 8, 9]])\n",
    "print(C)\n",
    "print(D)\n",
    "\n",
    "R = np.dot(C, D)\n",
    "print(R)"
   ]
  },
  {
   "cell_type": "code",
   "execution_count": 42,
   "metadata": {},
   "outputs": [
    {
     "name": "stdout",
     "output_type": "stream",
     "text": [
      "True 3\n",
      "[[ 7  7 17  4]\n",
      " [ 9  9 19  0]]\n"
     ]
    }
   ],
   "source": [
    "A = np.array([ [1, 2, 3], \n",
    "               [3, 2, 1] ])\n",
    "B = np.array([ [2, 3, 4, -2], \n",
    "               [1, -1, 2, 3],\n",
    "               [1, 2, 3, 0] ])\n",
    "\n",
    "# es muss gelten:\n",
    "print(A.shape[-1] == B.shape[-2], A.shape[1]) \n",
    "print(np.dot(A, B))"
   ]
  },
  {
   "cell_type": "code",
   "execution_count": 43,
   "metadata": {},
   "outputs": [
    {
     "name": "stdout",
     "output_type": "stream",
     "text": [
      "[[[[14 19 15]\n",
      "   [15 15  9]\n",
      "   [13  9 18]]\n",
      "\n",
      "  [[18 24 20]\n",
      "   [20 20 12]\n",
      "   [18 12 22]]\n",
      "\n",
      "  [[15 18 22]\n",
      "   [22 13 12]\n",
      "   [21  9 14]]]\n",
      "\n",
      "\n",
      " [[[16 21 19]\n",
      "   [19 16 11]\n",
      "   [17 10 19]]\n",
      "\n",
      "  [[25 32 32]\n",
      "   [32 23 18]\n",
      "   [29 15 28]]\n",
      "\n",
      "  [[13 18 12]\n",
      "   [12 18  8]\n",
      "   [11 10 17]]]\n",
      "\n",
      "\n",
      " [[[11 14 14]\n",
      "   [14 11  8]\n",
      "   [13  7 12]]\n",
      "\n",
      "  [[17 23 19]\n",
      "   [19 16 11]\n",
      "   [16 10 22]]\n",
      "\n",
      "  [[19 25 23]\n",
      "   [23 17 13]\n",
      "   [20 11 23]]]]\n"
     ]
    }
   ],
   "source": [
    "X = np.array( [[[3, 1, 2],\n",
    "                [4, 2, 2],\n",
    "                [2, 4, 1]],\n",
    "\n",
    "               [[3, 2, 2],\n",
    "                [4, 4, 3],\n",
    "                [4, 1, 1]],\n",
    "\n",
    "               [[2, 2, 1],\n",
    "                [3, 1, 3],\n",
    "                [3, 2, 3]]])\n",
    "\n",
    "Y = np.array( [[[2, 3, 1],\n",
    "                [2, 2, 4],\n",
    "                [3, 4, 4]],\n",
    "            \n",
    "               [[1, 4, 1],\n",
    "                [4, 1, 2],\n",
    "                [4, 1, 2]],\n",
    "            \n",
    "               [[1, 2, 3],\n",
    "                [4, 1, 1],\n",
    "                [3, 1, 4]]])\n",
    "\n",
    "\n",
    "R = np.dot(X, Y)\n",
    "print(R)"
   ]
  },
  {
   "cell_type": "markdown",
   "metadata": {},
   "source": [
    "En éste ultimo caso, cada fila de la primera matriz va a generar un bloque nuevo con la misma cantidad de filas que tenga la matriz, y cada uno de esos bloques tendran tantas columnas como columnas tengan las matrices de la segunda matriz.\n",
    "\n",
    "**Algo importante que remarcar es que aquí estuvimos utilizando *arrays* no matrices, la funcion ``.dot()`` acepta arrays y genera un producto matricial, pero existe otra forma de generar una multiplicacion de matrices sin la funcion ``dot()``, convirtiendo los arrays a matices primero con la funcion ``np.mat()`` y luego simplemente usando el operador ``*``, si utilizamos el operador con arrays solo se genera un array de productos elemento a elemento, equivalente a utilizar la funcion ``multiply()``**"
   ]
  },
  {
   "cell_type": "code",
   "execution_count": 44,
   "metadata": {},
   "outputs": [
    {
     "name": "stdout",
     "output_type": "stream",
     "text": [
      "producto elemento a elemento: \n",
      "[[ 3  4  3]\n",
      " [ 2  4  6]\n",
      " [-3 -6 -9]]\n",
      "producto matricial: \n",
      "[[ 2  0 -2]\n",
      " [ 6  4  2]\n",
      " [ 9  6  3]]\n"
     ]
    }
   ],
   "source": [
    "A = np.array([ [1, 2, 3], [2, 2, 2], [3, 3, 3] ])\n",
    "B = np.array([ [3, 2, 1], [1, 2, 3], [-1, -2, -3] ])\n",
    "\n",
    "R = A * B\n",
    "print(\"producto elemento a elemento: \")\n",
    "print(R)\n",
    "\n",
    "MA = np.mat(A)\n",
    "MB = np.mat(B)\n",
    "\n",
    "R = MA * MB\n",
    "print(\"producto matricial: \")\n",
    "print(R)"
   ]
  },
  {
   "cell_type": "markdown",
   "metadata": {},
   "source": [
    "Otras **funciones con matrices** muy utilizadas son:\n",
    "\n",
    "``diag`` -> Devuelve los elementos de la diagonal de una matriz cuadrada como un array de una dimension, o convierte un array unidimensional en una matriz cuadrada con ceros fuera de la diagonal.\n",
    "\n",
    "``trace`` -> Calcula la suma de los elementos de la diagonal.\n",
    "\n",
    "``det`` -> Calcula el determinante."
   ]
  },
  {
   "cell_type": "markdown",
   "metadata": {},
   "source": [
    "**MÉTODOS MATEMÁTICOS Y ESTADÍSTICOS** Numpy contiene **métodos** que calculas parámetros importantes de estadística a partir de arrays, como por ejemplo la **suma** de los elementos de un array se obtiene con ``.sum()``, y el **promedio** con ``.mean()``. La sintaxis completa de éstos métodos es:\n",
    "\n",
    "``.mean(axis=None, dtype=None, out=None, keepdims=<no value>)``\n",
    "\n",
    "Como vemos todos los parámetros, excepto el array, estan predefinidos, ``axis=None`` le indica que calcula la suma o el promedio de todos los elementos del array, si lo modificamos los podemos calcular a lo largo de un eje:"
   ]
  },
  {
   "cell_type": "code",
   "execution_count": 45,
   "metadata": {},
   "outputs": [
    {
     "name": "stdout",
     "output_type": "stream",
     "text": [
      "45\n",
      "[ 6 15 24]\n",
      "[12 15 18]\n"
     ]
    }
   ],
   "source": [
    "arr = np.array([[1, 2, 3],\n",
    "                [4, 5, 6],\n",
    "                [7, 8, 9]])\n",
    "\n",
    "# Sumar todos los elementos\n",
    "print(arr.sum())  # 45\n",
    "\n",
    "# Sumar por filas\n",
    "print(arr.sum(axis=1))  # [ 6 15 24]\n",
    "# Sumar por columnas\n",
    "print(arr.sum(axis=0))  # [12 15 18]"
   ]
  },
  {
   "cell_type": "markdown",
   "metadata": {},
   "source": [
    "**CONCATENACIÓN, APLANAMIENTO Y ADICIÓN DE DIMENSIONES** Veremos que a medida que utilicemos NumPy manipular las dimensiones de arrays se volverá algo cada vez más comun y necesario, ya hemos visto algunos métodos de manipulacion como ``rashape()`` y ``transpose()`` que modifican el shape o los ejes de un arrays respectivamente. Aquí veremos distintos métodos para aplanar, adicionar y concatenar arrays.\n",
    "\n",
    "**Aplanar:** hay dos métodos para aplanar una matriz multidimensional ``flatten()`` y ``ravel()``.\n",
    "\n",
    "``flatten()`` recibe un parámetro \"order\" que puede tener el valor *C, F* o *A*, siendo *C* el valor por default, el cual ordena los elementos recorriendo el array fila por fila empezando por el primer elemento de la primera fila, luego sigue con el segundo elemento y así hasta completar una fila para pasar a la siguiente.\n",
    "\n",
    "Un **order ='F'** ordena los elementos columna por columna (*fortran*), es decir primero se toman todos los elementos de la primera columna, luego de la segunda y así sucesivamente.\n",
    "\n",
    "Y un **order ='A'** depende de cómo este almacenado el array en la memoria, si esta almacenado como ``order = 'C'`` lo reordena como *C*, si está almacenado como ``order = 'F'`` lo ordenada como *F*."
   ]
  },
  {
   "cell_type": "code",
   "execution_count": 46,
   "metadata": {},
   "outputs": [
    {
     "name": "stdout",
     "output_type": "stream",
     "text": [
      "[[[ 0  1]\n",
      "  [ 2  3]\n",
      "  [ 4  5]\n",
      "  [ 6  7]]\n",
      "\n",
      " [[ 8  9]\n",
      "  [10 11]\n",
      "  [12 13]\n",
      "  [14 15]]\n",
      "\n",
      " [[16 17]\n",
      "  [18 19]\n",
      "  [20 21]\n",
      "  [22 23]]]\n",
      "[ 0  1  2  3  4  5  6  7  8  9 10 11 12 13 14 15 16 17 18 19 20 21 22 23]\n",
      "[ 0  1  2  3  4  5  6  7  8  9 10 11 12 13 14 15 16 17 18 19 20 21 22 23]\n",
      "[ 0  8 16  2 10 18  4 12 20  6 14 22  1  9 17  3 11 19  5 13 21  7 15 23]\n",
      "[ 0  1  2  3  4  5  6  7  8  9 10 11 12 13 14 15 16 17 18 19 20 21 22 23]\n"
     ]
    }
   ],
   "source": [
    "import numpy as np\n",
    "\n",
    "A = np.array([[[ 0,  1],\n",
    "               [ 2,  3],\n",
    "               [ 4,  5],\n",
    "               [ 6,  7]],\n",
    "              [[ 8,  9],\n",
    "               [10, 11],\n",
    "               [12, 13],\n",
    "               [14, 15]],\n",
    "              [[16, 17],\n",
    "               [18, 19],\n",
    "               [20, 21],\n",
    "               [22, 23]]])\n",
    "\n",
    "print(A)\n",
    "Flattened_X = A.flatten()\n",
    "print(Flattened_X)\n",
    "\n",
    "print(A.flatten(order=\"C\"))\n",
    "print(A.flatten(order=\"F\"))\n",
    "print(A.flatten(order=\"A\"))"
   ]
  },
  {
   "cell_type": "markdown",
   "metadata": {},
   "source": [
    "Por otro lado ``ravel()`` utiliza los mismos parámetros que ``flatten()`` pero en lugar de crear un nuevo array independiente **modifica el original**, es decir, ravel solo devuelve una vista del array aplanado, pero la variable que usemos para nombrar esa vista ocupa el mismo lugar que el array original."
   ]
  },
  {
   "cell_type": "code",
   "execution_count": 47,
   "metadata": {},
   "outputs": [
    {
     "name": "stdout",
     "output_type": "stream",
     "text": [
      "[[[100   1]\n",
      "  [  2   3]\n",
      "  [  4   5]\n",
      "  [  6   7]]\n",
      "\n",
      " [[  8   9]\n",
      "  [ 10  11]\n",
      "  [ 12  13]\n",
      "  [ 14  15]]\n",
      "\n",
      " [[ 16  17]\n",
      "  [ 18  19]\n",
      "  [ 20  21]\n",
      "  [ 22  23]]]\n",
      "[100   1   2   3   4   5   6   7   8   9  10  11  12  13  14  15  16  17\n",
      "  18  19  20  21  22  23]\n"
     ]
    }
   ],
   "source": [
    "ravel_A = A.ravel()\n",
    "\n",
    "ravel_A[0] = 100\n",
    "print(A)\n",
    "print(ravel_A)"
   ]
  },
  {
   "cell_type": "markdown",
   "metadata": {},
   "source": [
    "### **NÚMEROS ALEATORIOS EN NUMPY** \n",
    "\n",
    "NumPy ofrece un módulo especial para trabajar con números aleatorios, que si bien python trae su própio módulo de números aleatorios, el que ofrece NumPy es mucho más rápido y eficiente sobretodo si queremos trabajar con matrices. Para utilizar éste módulo debemos importarlo utilizando:\n",
    "\n",
    "``from numpy import random`` \n",
    "\n",
    "Supongamos que queremos crear una lista de 10 números aleatorios entre 0 y 1, en python podríamos utilizar:"
   ]
  },
  {
   "cell_type": "code",
   "execution_count": 49,
   "metadata": {},
   "outputs": [
    {
     "name": "stdout",
     "output_type": "stream",
     "text": [
      "[0.8753925702334417, 0.9758001456633623, 0.23210441449124053, 0.40416592339447466, 0.1800613309462089, 0.1650664057794965, 0.015121176516093904, 0.0373760716955972, 0.5517393335884905, 0.5352598246207645]\n"
     ]
    }
   ],
   "source": [
    "import random\n",
    "\n",
    "crypto = random.SystemRandom()\n",
    "print([crypto.random() for _ in range(10)])"
   ]
  },
  {
   "cell_type": "markdown",
   "metadata": {},
   "source": [
    "En cambio, NumPy ofrece realizar exacatamente los mismo pero en una sola linea de código:"
   ]
  },
  {
   "cell_type": "code",
   "execution_count": 50,
   "metadata": {},
   "outputs": [
    {
     "data": {
      "text/plain": [
       "array([0.28740726, 0.96770467, 0.32631987, 0.68591411, 0.00119964,\n",
       "       0.623792  , 0.04639217, 0.20811161, 0.08495079, 0.87016636])"
      ]
     },
     "execution_count": 50,
     "metadata": {},
     "output_type": "execute_result"
    }
   ],
   "source": [
    "import numpy as np\n",
    "\n",
    "np.random.random(10)"
   ]
  },
  {
   "cell_type": "markdown",
   "metadata": {},
   "source": [
    "La funcion ``random.random()`` acepta un único parámetro que es el tamaño, el valor predeterminado de tamaño es ``none`` por lo que siempre se debe especificar el tamaño del array que querramos crear. Los números aleatorios que genera son de tipo float64 y van desde el 0 al 1 sin icluirlo.\n",
    "\n",
    "Existe otra funcion para crear arrays aleatorios más específicos como ``np.random.randint(low, high, size, dtype_int)``, ésta funcion recibe los parámetros de un rango determinado (low y high), el tamaño y el tipo de dato el cual predeterminadamente es un ``int``: "
   ]
  },
  {
   "cell_type": "code",
   "execution_count": 51,
   "metadata": {},
   "outputs": [
    {
     "data": {
      "text/plain": [
       "array([3, 2, 1, 2, 6])"
      ]
     },
     "execution_count": 51,
     "metadata": {},
     "output_type": "execute_result"
    }
   ],
   "source": [
    "np.random.randint(1, 10, 5, int)"
   ]
  },
  {
   "cell_type": "markdown",
   "metadata": {},
   "source": [
    "Esta funcion con los parámetros que recibio crea un array unidimensional, pero hay algo aculto en el parámetro ``size``, y es que podemos darle valores de más de una dimension, para crear matrices:"
   ]
  },
  {
   "cell_type": "code",
   "execution_count": 52,
   "metadata": {},
   "outputs": [
    {
     "data": {
      "text/plain": [
       "array([[59, 80, 15, 90, 30],\n",
       "       [13, 25, 99, 41, 77],\n",
       "       [22, 90, 74, 57, 14]])"
      ]
     },
     "execution_count": 52,
     "metadata": {},
     "output_type": "execute_result"
    }
   ],
   "source": [
    "np.random.randint(1, 100, size=(3, 5))"
   ]
  },
  {
   "cell_type": "markdown",
   "metadata": {},
   "source": [
    "la funcion ``.random.random()`` o ``.random.rand()`` tambien puede crear matrices dandole más de 2 valores al prámetro size.\n",
    "\n",
    "Otra funcion interesante es ``random.choice(a, size=None, replace=True, p=None)`` que basicamente **elige** aleatoriamente un valor a partir de un array:"
   ]
  },
  {
   "cell_type": "code",
   "execution_count": 63,
   "metadata": {},
   "outputs": [
    {
     "name": "stdout",
     "output_type": "stream",
     "text": [
      "6\n"
     ]
    }
   ],
   "source": [
    "dado = np.array([1, 2, 3, 4 ,5 , 6])\n",
    "\n",
    "tirada = np.random.choice(dado)\n",
    "print(tirada)"
   ]
  },
  {
   "cell_type": "markdown",
   "metadata": {},
   "source": [
    "Cada vez que ejecutemos éste código ``tirada`` tomará un valor aleatorio del array ``dado``, como si estuviesemos tirando un dado.\n",
    "\n",
    "``.chaoise()`` tambien permite devolver una matriz de valores, ya que éste tambien recibe el parámetro ``size``:"
   ]
  },
  {
   "cell_type": "code",
   "execution_count": 81,
   "metadata": {},
   "outputs": [
    {
     "name": "stdout",
     "output_type": "stream",
     "text": [
      "[4 5]\n"
     ]
    }
   ],
   "source": [
    "doble_dado = np.arange(1, 13, 1)\n",
    "tirada = np.random.choice(doble_dado, size=(2))\n",
    "print(tirada)"
   ]
  },
  {
   "cell_type": "markdown",
   "metadata": {},
   "source": [
    "El parámetro ``replace`` cuando es True permite seleciconar el mismo elemento más de una vez, y el parámetro ``p`` es bastante interesante ya que permite **agregar una lista de probabilidades para elegir cada elemento de la lista o array**:"
   ]
  },
  {
   "cell_type": "code",
   "execution_count": 73,
   "metadata": {},
   "outputs": [],
   "source": [
    "professions = [\"scientist\", \"philosopher\", \"engineer\", \"priest\", \"programmer\"]\n",
    "probabilities = [0.2, 0.05, 0.3, 0.15, 0.3]\n",
    "valores = np.random.choice(professions, size=100, p=probabilities)\n"
   ]
  },
  {
   "cell_type": "markdown",
   "metadata": {},
   "source": [
    "En éste caso la profesiones que mayor probabilidad tienen de salir con engineer y programmer, seguida de scientist, priest y philosopher, veamos realmente es así:"
   ]
  },
  {
   "cell_type": "code",
   "execution_count": 78,
   "metadata": {},
   "outputs": [
    {
     "name": "stdout",
     "output_type": "stream",
     "text": [
      "14\n",
      "22\n",
      "1\n",
      "33\n",
      "30\n"
     ]
    }
   ],
   "source": [
    "print(np.count_nonzero(valores == \"priest\"))\n",
    "print(np.count_nonzero(valores == \"scientist\"))\n",
    "print(np.count_nonzero(valores == \"philosopher\"))\n",
    "print(np.count_nonzero(valores == \"engineer\"))\n",
    "print(np.count_nonzero(valores == \"programmer\"))\n"
   ]
  },
  {
   "cell_type": "markdown",
   "metadata": {},
   "source": [
    "Como vemos, engineer y programmer salieron 33 y 30 veces respectivamente, mientras que philosopher que tenía la probabilidad más baja salio solo una vez.\n",
    "\n",
    "Esto podría ser útil justamente para simular mutaciones, sabemos que hay secuencias más propensas a mutar, o zonas de la cromatina, conociendo las probabilidades (calculadas experimentalmente) se podría simular un modelo de mutaciones."
   ]
  },
  {
   "cell_type": "markdown",
   "metadata": {},
   "source": [
    "**GENERADOR DE NÚMEROS ALEATORIOS** Utilizando las funciones del módulo random de Numpy podemos crear generadores de números random, éstos tienen varias utilizades particularmente en modelos de *caminos aleatorios*, donde se simulan movimientos aleatorios.\n",
    "Un **generador de números aleatorios** usualmente se lo denomina como ``rng`` y puede utilizarse en conjunto con otras funciones:"
   ]
  },
  {
   "cell_type": "code",
   "execution_count": null,
   "metadata": {},
   "outputs": [
    {
     "name": "stdout",
     "output_type": "stream",
     "text": [
      "[6 4 9 1 9]\n"
     ]
    }
   ],
   "source": [
    "rng1 = np.random.default_rng()"
   ]
  },
  {
   "cell_type": "markdown",
   "metadata": {},
   "source": [
    "Se creo el generador ``rng1`` utilizando la funcion ``random.default_rng()`` la cual es la más recomendada para NumPy, que ventaja tiene crear un generador en lugar de usar las funciones que vimos de ``random.rand()`` o ``random.rabdint``? al crear un generados nos ahorramos justamente el tener utilizar éstas funciones cada vez que necesitemos utilizar números aleatorios, o tener que crear listas o arrays, el rng es como tener un conjunto de números aleatorios a mano para darle cualquier uso.\n",
    "\n",
    "Veamos algunos ejemplos de cómo utilizar el generador que creamos:"
   ]
  },
  {
   "cell_type": "code",
   "execution_count": 82,
   "metadata": {},
   "outputs": [
    {
     "name": "stdout",
     "output_type": "stream",
     "text": [
      "[9 0 4 6 8]\n",
      "[0.60570349 0.52435977 0.13646164 0.13389937 0.64642455]\n",
      "[ 0.4147871   2.54854141  2.05504716 -0.07940993  0.55291508]\n",
      "[1.51669447 9.28067214 7.46336707 8.7183998  3.76107697]\n"
     ]
    }
   ],
   "source": [
    "print(rng1.integers(0, 10, size=5))  # Genera 5 enteros entre 0 y 9\n",
    "print(rng1.random(5))  # Genera 5 números decimales entre 0 y 1\n",
    "print(rng1.normal(0, 1, size=5))  # Genera 5 números de una distribución normal con media 0 y desviación 1\n",
    "print(rng1.uniform(1, 10, 5)) # Genera 5 números decimales entre 1 y 10\n"
   ]
  },
  {
   "cell_type": "markdown",
   "metadata": {},
   "source": [
    "Como vemos la mayoría de éstas funciones reciben un rángo y/o un tamaño como parámetro.\n",
    "\n",
    "**GENERADORES CON SEMILLA** La funcion ``np.random.default_rng()`` que utilizamos para crear el generador puede recibir el parámetro ``seed`` que de manera predeterminada toma el valor de ``None``, ahora bien qué es una ``seed`` o semilla? una semilla es un número utilizado para iniciar un generador de números **pseudo-aleatorios**, es decir se crea un genrador de números aleatorios pero, a diferencia de el que estuvimos utilizando antes, cada vez que ejecutemos el generador obtendremos la **misma secuencia de números aleatorios**, ésto es sumamente útil cuando se trabaja con simulacione so pruebas para reproducir los resultados.\n",
    "\n",
    "Nosotros elegimos el valor de ``seed``, y cada vez que utilicemos el mismo ``seed`` obtendremos el mismo números aleatorios:"
   ]
  },
  {
   "cell_type": "code",
   "execution_count": null,
   "metadata": {},
   "outputs": [
    {
     "name": "stdout",
     "output_type": "stream",
     "text": [
      "[ 9 77 65 44 43]\n",
      "[ 9 77 65 44 43]\n"
     ]
    }
   ],
   "source": [
    "rng1 = np.random.default_rng(seed=42)\n",
    "rng2 = np.random.default_rng(seed=42)\n",
    "print(rng1.integers(1, 100, size=5)) \n",
    "print(rng2.integers(1, 100, size=5))  "
   ]
  },
  {
   "cell_type": "markdown",
   "metadata": {},
   "source": [
    "Vemos que utilizando la **misma semilla** para diferentes generadores se crea el mismo rango de números aleatorios. Se aconseja que ``seed`` tome valores positivos y enteros, no es válido definir semillas con strings o números flotantes."
   ]
  }
 ],
 "metadata": {
  "kernelspec": {
   "display_name": "base",
   "language": "python",
   "name": "python3"
  },
  "language_info": {
   "codemirror_mode": {
    "name": "ipython",
    "version": 3
   },
   "file_extension": ".py",
   "mimetype": "text/x-python",
   "name": "python",
   "nbconvert_exporter": "python",
   "pygments_lexer": "ipython3",
   "version": "3.12.3"
  }
 },
 "nbformat": 4,
 "nbformat_minor": 2
}
