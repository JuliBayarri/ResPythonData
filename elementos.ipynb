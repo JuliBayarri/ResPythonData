{
 "cells": [
  {
   "cell_type": "markdown",
   "metadata": {},
   "source": [
    "#### ELEMENTOS PARA EL ANÁLISIS DE DATOS\n",
    "#### <span style=\"color: green;\">**LISTAS**</span>\n",
    "\n",
    "Una lista en python es basicamente una secuencia de valores a los cuales se les asigna una variable, cada uno de los valores dentro de una lista va separado por comas y entre corchetes. Cada valor en una lista tiene un numero de indice asignad, que es basicamente el orden en el cual estan puestos. El primer elemento de una lista responde al elemento 0, el segundo al 1 y así sucesivamente."
   ]
  },
  {
   "cell_type": "code",
   "execution_count": 1,
   "metadata": {},
   "outputs": [
    {
     "name": "stdout",
     "output_type": "stream",
     "text": [
      "The first planet is Mercury\n",
      "The second planet is Venus\n",
      "The third planet is Earth\n"
     ]
    }
   ],
   "source": [
    "planets = [\"Mercury\", \"Venus\", \"Earth\", \"Mars\", \"Jupiter\", \"Saturn\", \"Uranus\", \"Neptune\"]\n",
    "print(\"The first planet is\", planets[0])\n",
    "print(\"The second planet is\", planets[1])\n",
    "print(\"The third planet is\", planets[2])"
   ]
  },
  {
   "cell_type": "markdown",
   "metadata": {},
   "source": [
    "Vemos cómo para llamar a un elemento de la lista primero usamos el nombre de la misma, en este caso ``planets`` y entre corchetes el número del indice que ocupa el elemento. Existe otra forma de llamar a los valores de una lista de atras para delante, en éste caso el último elemento de la lista tendra el índice **-1**, el penúltimo **-2** y así sucesivamente."
   ]
  },
  {
   "cell_type": "code",
   "execution_count": 2,
   "metadata": {},
   "outputs": [
    {
     "name": "stdout",
     "output_type": "stream",
     "text": [
      "The last planet is Neptune\n",
      "The penultimate planet is Uranus\n"
     ]
    }
   ],
   "source": [
    "planets = [\"Mercury\", \"Venus\", \"Earth\", \"Mars\", \"Jupiter\", \"Saturn\", \"Uranus\", \"Neptune\"]\n",
    "print(\"The last planet is\", planets[-1])\n",
    "print(\"The penultimate planet is\", planets[-2])"
   ]
  },
  {
   "cell_type": "markdown",
   "metadata": {},
   "source": [
    "Tambien es posible **modificar el valor** de un elemento dentro de una lista indicandole entre corchetes el número del indice:"
   ]
  },
  {
   "cell_type": "code",
   "execution_count": 3,
   "metadata": {},
   "outputs": [
    {
     "name": "stdout",
     "output_type": "stream",
     "text": [
      "Mars is also known as Red Planet\n"
     ]
    }
   ],
   "source": [
    "planets = [\"Mercury\", \"Venus\", \"Earth\", \"Mars\", \"Jupiter\", \"Saturn\", \"Uranus\", \"Neptune\"]\n",
    "planets[3] = \"Red Planet\"\n",
    "print(\"Mars is also known as\", planets[3])"
   ]
  },
  {
   "cell_type": "markdown",
   "metadata": {},
   "source": [
    "##### METODOS PARA MANIPULAR LISTAS\n",
    "Veremos que muchas veces es necesarios cambiar valores o sacar datos de una lista, veremos detalladamente algunos de los métodos útiles para la manipulacion de listas. Tambien es importante saber que existen librerías como Pandas que estan orientadas al análisis de datos y tienen numerosas funciones que serviran tambien para manipular no solo listas sino tambien otors elementos. Por ahora nos concentraremos en los métodos básicos y más adelante veremos qué ventajas tiene usar las librerias de python.\n",
    "\n",
    "Para saber cuantos elementos hay en una lista podemos usar la funcion integrada ``len()``, dentro de los paréntesis incluimos el nombre de la lista y no dirá automáticamente el número de elementos dentro de la misma"
   ]
  },
  {
   "cell_type": "code",
   "execution_count": 4,
   "metadata": {},
   "outputs": [
    {
     "name": "stdout",
     "output_type": "stream",
     "text": [
      "There are 8 planets in the solar system.\n"
     ]
    }
   ],
   "source": [
    "planets = [\"Mercury\", \"Venus\", \"Earth\", \"Mars\", \"Jupiter\", \"Saturn\", \"Uranus\", \"Neptune\"]\n",
    "number_of_planets = len(planets)\n",
    "print(\"There are\", number_of_planets, \"planets in the solar system.\")"
   ]
  },
  {
   "cell_type": "markdown",
   "metadata": {},
   "source": [
    "En éste caso creamos una variable nueva(``number_of_planets``) con el valor de la funcion ``len(planets)`` y vemos que el valor de esa variable es **8**.\n",
    "Vimos que es posible cambiar el valor de los elementos de una lista, existen además otros métodos para **añadir** más elementos, segun nuestro objetivo preferimos añadir un nuevo elemento al final de la lista o en un lugar específico, para cada caso existe un metodo distinto.\n",
    "Si no estamos interesadoe en el lugar que ocupe el nuevo elemnto podemos utilizar el método ``.append()``, donde escribimos entre paréntesis el elemento a añadir, por otro lado, si queremos añadir un nuevo elemento en un ligar específico podemos usar el método ``insert(i, \"nuevo elemento\")`` que, como es de esperar debemos indicarle dónde añadir ese elemnto, entre paréntesis ingresamos primero el númeor de orden que queremos darle (el índice) y luego el elemento a añadir. "
   ]
  },
  {
   "cell_type": "code",
   "execution_count": 5,
   "metadata": {},
   "outputs": [
    {
     "name": "stdout",
     "output_type": "stream",
     "text": [
      "There are actually 9 planets in the solar system.\n"
     ]
    }
   ],
   "source": [
    "planets = [\"Mercury\", \"Venus\", \"Earth\", \"Mars\", \"Jupiter\", \"Saturn\", \"Uranus\", \"Neptune\"]\n",
    "planets.append(\"Pluto\")\n",
    "number_of_planets = len(planets)\n",
    "print(\"There are actually\", number_of_planets, \"planets in the solar system.\")"
   ]
  },
  {
   "cell_type": "code",
   "execution_count": 13,
   "metadata": {},
   "outputs": [
    {
     "name": "stdout",
     "output_type": "stream",
     "text": [
      "All this planets have one star, that we call sun\n"
     ]
    }
   ],
   "source": [
    "planets.insert(0, \"sun\")\n",
    "print(\"All this planets have one star, that we call \" + planets[0])"
   ]
  },
  {
   "cell_type": "markdown",
   "metadata": {},
   "source": [
    "En el caso de queres agregar varios elementos a una lista de una sola vez usamos el mátodo ``.extend()``, donde le indicamos entre corchetes los elementos que queremos agregar:"
   ]
  },
  {
   "cell_type": "code",
   "execution_count": 11,
   "metadata": {},
   "outputs": [
    {
     "name": "stdout",
     "output_type": "stream",
     "text": [
      "['Earth', 'Mars', 'Jupiter', 'Saturn', 'Uranus', 'Neptune', 'Hypatia', 'Tadmor', 'Dagon']\n"
     ]
    }
   ],
   "source": [
    "planets.extend([\"Hypatia\", \"Tadmor\", \"Dagon\"])\n",
    "print(planets)"
   ]
  },
  {
   "cell_type": "markdown",
   "metadata": {},
   "source": [
    "Obviamente, si existe la posibilidad de añadir elementos debe existir la posiblidad de **eliminar** elementos, y para ésto se usa el método ``.remove()``"
   ]
  },
  {
   "cell_type": "code",
   "execution_count": 10,
   "metadata": {},
   "outputs": [
    {
     "name": "stdout",
     "output_type": "stream",
     "text": [
      "the planets of the solar system are:  ['Mercury', 'Venus', 'Earth', 'Mars', 'Jupiter', 'Saturn', 'Uranus', 'Neptune', 'Pluto']\n"
     ]
    }
   ],
   "source": [
    "planets.remove(\"sun\")\n",
    "print(\"the planets of the solar system are: \", planets)"
   ]
  },
  {
   "cell_type": "markdown",
   "metadata": {},
   "source": [
    "Como es de esperar tambien existe un método para eliminar elementos de una lista utilizanod solo el valor de su índice, lo cual puede ser en muchas casos mas fácil y rápido, para ello usamos el método ``.pop(i)``.\n",
    "Con éste método ademas tenemos la posibilidad de guardar los valores que eliminemos de la lista en una variable"
   ]
  },
  {
   "cell_type": "code",
   "execution_count": 8,
   "metadata": {},
   "outputs": [
    {
     "name": "stdout",
     "output_type": "stream",
     "text": [
      "['Mercury', 'Venus', 'Mars', 'Jupiter', 'Saturn', 'Uranus', 'Neptune']\n",
      "Earth\n"
     ]
    }
   ],
   "source": [
    "planets = [\"Mercury\", \"Venus\", \"Earth\", \"Mars\", \"Jupiter\", \"Saturn\", \"Uranus\", \"Neptune\"]\n",
    "my_planet = planets.pop(2)\n",
    "print(planets)\n",
    "print(my_planet)"
   ]
  },
  {
   "cell_type": "markdown",
   "metadata": {},
   "source": [
    "En el caso de querer eliminar un rango de elementos podemos usar la funcion ``del``, especificando entre corchetes el ínidica de los elementos a eleiminar"
   ]
  },
  {
   "cell_type": "code",
   "execution_count": 9,
   "metadata": {},
   "outputs": [
    {
     "name": "stdout",
     "output_type": "stream",
     "text": [
      "['Earth', 'Mars', 'Jupiter', 'Saturn', 'Uranus', 'Neptune']\n"
     ]
    }
   ],
   "source": [
    "planets = [\"Mercury\", \"Venus\", \"Earth\", \"Mars\", \"Jupiter\", \"Saturn\", \"Uranus\", \"Neptune\"]\n",
    "del planets[0:2]\n",
    "print(planets)"
   ]
  },
  {
   "cell_type": "markdown",
   "metadata": {},
   "source": [
    "Ahora bien, qué pasa si queremos eliminar un elemento usando el método ``.pop`` pero no conocemos el número de índice del elemento? Existe un método entonces para conocer el número del indice de cada elemneto. Para **buscar el orden de un elemento en una lista** usamos el método ``.index()``.\n",
    "En éste caso creamos una nueva variable que guarda el valor del indice del elemento \"Jupiter\""
   ]
  },
  {
   "cell_type": "code",
   "execution_count": 14,
   "metadata": {},
   "outputs": [
    {
     "name": "stdout",
     "output_type": "stream",
     "text": [
      "Jupiter is the 5 planet from the sun\n"
     ]
    }
   ],
   "source": [
    "planets = [\"Mercury\", \"Venus\", \"Earth\", \"Mars\", \"Jupiter\", \"Saturn\", \"Uranus\", \"Neptune\"]\n",
    "jupiter_index = planets.index(\"Jupiter\")\n",
    "print(\"Jupiter is the\", jupiter_index + 1, \"planet from the sun\")"
   ]
  },
  {
   "cell_type": "markdown",
   "metadata": {},
   "source": [
    "Python permite hacer operaciones matemáticas con los elementos de una lista, obviamente necesitamos tener una lísta con valores numéricos. Esto es sumamente conveniente porque permite iterar entre valores:"
   ]
  },
  {
   "cell_type": "code",
   "execution_count": 1,
   "metadata": {},
   "outputs": [
    {
     "name": "stdout",
     "output_type": "stream",
     "text": [
      "The weight of the bus on Mercury is 46892.412000000004 N\n",
      "The weight of the bus on Venus is 112516.978 N\n",
      "The weight of the bus on Earth is 124054 N\n",
      "The weight of the bus on Mars is 46768.358 N\n",
      "The weight of the bus on Jupiter is 292767.44 N\n",
      "The weight of the bus on Saturn is 113633.464 N\n",
      "The weight of the bus on Uranus is 110284.00600000001 N\n",
      "The weight of the bus on Neptune is 138940.48 N\n"
     ]
    }
   ],
   "source": [
    "planets = [\"Mercury\", \"Venus\", \"Earth\", \"Mars\", \"Jupiter\", \"Saturn\", \"Uranus\", \"Neptune\"]\n",
    "gravity_on_planets = [0.378, 0.907, 1, 0.377, 2.36, 0.916, 0.889, 1.12]\n",
    "bus_weight = 124054 # in Newtons, on Earth\n",
    "\n",
    "for i in range(len(planets)):\n",
    "    weight_on_planet = bus_weight * gravity_on_planets[i]\n",
    "    print(f\"The weight of the bus on {planets[i]} is {weight_on_planet} N\")\n"
   ]
  },
  {
   "cell_type": "markdown",
   "metadata": {},
   "source": [
    "Analicemos un poco éste código, aca tenemos un **bucle for**, más adelante veremos en datalle cada tipo de bucle, por ahora lo importante es saber que éste tipo de bucles son muy útiles para iterar sobre elementos de, por ejemplo, una lista. El bucle crea la variable i, y luego con **in** se le indica sobre qué elemento debe iterar, en éste caso sobre la lista ``planets`` es necesario que el elemento sobre el cual se itera tenga valores numéricos, para ésto usa la funcion ``range``, ésta funcion genera una secuencia de números enteros que puede usarse para iterar en un bucle o realizar operaciones repetitivas:"
   ]
  },
  {
   "cell_type": "code",
   "execution_count": 21,
   "metadata": {},
   "outputs": [
    {
     "name": "stdout",
     "output_type": "stream",
     "text": [
      "0\n",
      "1\n",
      "2\n",
      "3\n",
      "4\n"
     ]
    }
   ],
   "source": [
    "for i in range(5):  # Equivalente a range(0, 5)\n",
    "    print(i)\n"
   ]
  },
  {
   "cell_type": "markdown",
   "metadata": {},
   "source": [
    "En nuestro caso queremos que nos de el valor del peso de un colectivo en cada uno de los 8 planetas de nuestra lista, por eso usamos como argumento de ``range`` la funcion ``len()`` que es nada más y nada menos que el número de elementos dentro de la lista planets:"
   ]
  },
  {
   "cell_type": "code",
   "execution_count": 22,
   "metadata": {},
   "outputs": [
    {
     "name": "stdout",
     "output_type": "stream",
     "text": [
      "0\n",
      "1\n",
      "2\n",
      "3\n",
      "4\n",
      "5\n",
      "6\n",
      "7\n"
     ]
    }
   ],
   "source": [
    "for i in range(len(planets)):\n",
    "    print(i)"
   ]
  },
  {
   "cell_type": "markdown",
   "metadata": {},
   "source": [
    "Entonces, luego de indicarle al bucle for qué variable crear y donde iterar, debemos decirle que hacer, le decimos que cree una nueva variable ``weight_on_planet`` que sea igual al producto entre ``bus_weight * gravity_on_planets[i]``, vemos que entre corchetes se pone ``i``, ésta i se utiliza justamente para iterar sobre todos los elementos de la lista, en éste caso sobre los valores de gravedad de cada planeta. Finalmente le pedimos que imprima una frase iterando en cada uno de los elementos de la lista ``planets`` con cada valor de ``weight_on_planet``"
   ]
  },
  {
   "cell_type": "markdown",
   "metadata": {},
   "source": [
    "Otro parámetro importante cuando manejamos listas numericas son mis **mínimos** y **máximos**, comocer éstos valores nos puede dar idea de la amplitud de la lista, etc. Para conocer el valor mínimo y máximo utilizamos la funcion ``min()`` y ``max()`` respectivamente."
   ]
  },
  {
   "cell_type": "code",
   "execution_count": 3,
   "metadata": {},
   "outputs": [
    {
     "name": "stdout",
     "output_type": "stream",
     "text": [
      "The lightest a bus would be in the solar system is 46768.358 N\n",
      "The heaviest a bus would be in the solar system is 292767.44 N\n"
     ]
    }
   ],
   "source": [
    "print(\"The lightest a bus would be in the solar system is\", bus_weight * min(gravity_on_planets), \"N\")\n",
    "print(\"The heaviest a bus would be in the solar system is\", bus_weight * max(gravity_on_planets), \"N\")"
   ]
  },
  {
   "cell_type": "markdown",
   "metadata": {},
   "source": [
    "Vemos en ambos casos cómo utiliza las funciones ``min() max()`` para decir en qué planeta el autobus sería más liviano."
   ]
  },
  {
   "cell_type": "markdown",
   "metadata": {},
   "source": [
    "En ocaciones tambien será necesario **segmentar** listas, es decir crear una nueva lista a partir de otra, asignándole a una nueva lista qué elementos de una lista ya creada tomar. La forma de hacerlo es muy sencilla e intuitiva, simplemente creamos la lista usando el ``lista_nueva = lista_anterior[star:stop]``, entre corchetes se debe especificar el ínidice de los elementos a agregar, siendo star desde qué elemento se toma, incluido ese, y stop hasta qué elemento sin incluir ese. Veamos con un ejemplo:"
   ]
  },
  {
   "cell_type": "code",
   "execution_count": 4,
   "metadata": {},
   "outputs": [
    {
     "name": "stdout",
     "output_type": "stream",
     "text": [
      "['Mercury', 'Venus']\n"
     ]
    }
   ],
   "source": [
    "planets = [\"Mercury\", \"Venus\", \"Earth\", \"Mars\", \"Jupiter\", \"Saturn\", \"Uranus\", \"Neptune\"]\n",
    "planets_before_earth = planets[0:2]\n",
    "print(planets_before_earth)"
   ]
  },
  {
   "cell_type": "markdown",
   "metadata": {},
   "source": [
    "Con éste mismo operador indexado ``star:stop`` se pueden reemplazar elementos de una lista"
   ]
  },
  {
   "cell_type": "code",
   "execution_count": 12,
   "metadata": {},
   "outputs": [
    {
     "name": "stdout",
     "output_type": "stream",
     "text": [
      "['Mercurio', 'Venus', 'Tierra', 'Mars', 'Jupiter', 'Saturn', 'Uranus', 'Neptune']\n"
     ]
    }
   ],
   "source": [
    "planets = [\"Mercury\", \"Venus\", \"Earth\", \"Mars\", \"Jupiter\", \"Saturn\", \"Uranus\", \"Neptune\"]\n",
    "planets[0:3] = [\"Mercurio\", \"Venus\", \"Tierra\"]\n",
    "print(planets)"
   ]
  },
  {
   "cell_type": "markdown",
   "metadata": {},
   "source": [
    "Vemos que crea una nueva lista sin modificar la original, con los elementos que van desde el 0 (Mercury) al 2 sin incluir (Earth).\n",
    "Tambien podemos **unir** lista, simplemente usando el operador ``+``:"
   ]
  },
  {
   "cell_type": "code",
   "execution_count": 5,
   "metadata": {},
   "outputs": [
    {
     "name": "stdout",
     "output_type": "stream",
     "text": [
      "The regular satellite moons of Jupiter are ['Metis', 'Adrastea', 'Amalthea', 'Thebe', 'Io', 'Europa', 'Ganymede', 'Callisto']\n"
     ]
    }
   ],
   "source": [
    "amalthea_group = [\"Metis\", \"Adrastea\", \"Amalthea\", \"Thebe\"]\n",
    "galilean_moons = [\"Io\", \"Europa\", \"Ganymede\", \"Callisto\"]\n",
    "\n",
    "\n",
    "regular_satellite_moons = amalthea_group + galilean_moons\n",
    "print(\"The regular satellite moons of Jupiter are\", regular_satellite_moons)"
   ]
  },
  {
   "cell_type": "markdown",
   "metadata": {},
   "source": [
    "#### RESUMEN\n",
    "\n",
    " ``len()`` Número de elementos en una lista\n",
    "\n",
    " ``.append()`` Agrega un elemento a la lista sin especificar el lugar\n",
    "\n",
    " ``insert(i, \"nuevo elemento\")`` Agrega un elemento a la lista especificando el ínidce\n",
    "\n",
    " ``.extend()`` Agrega un conjunto de elementos a la lista\n",
    "\n",
    " ``.remove()`` Elimina un elemento específico de la lista\n",
    "\n",
    " ``.pop()`` Elimina un elemento específico indicando qué elemento o el indice, puede guardar el \n",
    " elemento en una variable\n",
    "\n",
    " ``del lista[star:stop]`` Funcion, elimina un rango de elementos de una lista\n",
    "\n",
    " ``.index()`` Indica en índice de un elemento determinado\n",
    "\n",
    " ``range()`` Funcion, crea un rango de valores\n",
    "\n",
    " ``min()`` Indica el valor mínimo de una lista\n",
    " \n",
    " ``max()`` Indica el valor máximo de una lista\n"
   ]
  },
  {
   "cell_type": "markdown",
   "metadata": {},
   "source": [
    "#### <span style=\"color: green;\">**TUPLAS**</span>\n",
    "\n",
    "Una **TUPLA** es una secuencia de objetos en python **inmutables** y de longitud finita que, una vez asignada, no puede modificarse. Notese la diferencia con las listas que como vimos son totalmente mutables y manipulables.\n",
    "Si bien son menos utilizadas que las listas o diccionarios, es importante conocer las características principales de éstas ya que muchas veces es necesarios crear listas con tuplas, o diccionarios con tuplas, etc.\n",
    "Las tuplas pueden crearse de una manera muy sencilla, al igual que las listas definimos el nombre de la misma con el operador ``=`` y en lugar de usar corchetes usamos paréntesis separando cada elemento con una coma. Se puede convertir cualquier secuencia o iterador en una tupla invocando la funcion ``tuple``\n"
   ]
  },
  {
   "cell_type": "code",
   "execution_count": 2,
   "metadata": {},
   "outputs": [
    {
     "name": "stdout",
     "output_type": "stream",
     "text": [
      "(1, 2, 3)\n",
      "(4, 5, 6)\n",
      "('h', 'o', 'l', 'a', ' ', 'a', ' ', 't', 'o', 'd', 'o', 's')\n"
     ]
    }
   ],
   "source": [
    "tup = (1, 2, 3)\n",
    "tup1 = tuple([4, 5, 6])\n",
    "tup2 = tuple(\"hola a todos\")\n",
    "\n",
    "print(tup)\n",
    "print(tup1)\n",
    "print(tup2)"
   ]
  },
  {
   "cell_type": "markdown",
   "metadata": {},
   "source": [
    "Al igual que las listas las tuplas están indexadas a 0, y podemos llamar a cada elemento de una tupla indicando el número de orden del mismo.\n",
    "Se pueden tambien combinar dos tuplas existentes para crear una nueva usando el operador ``+``, ésto no modifica las tuplas ya existentes"
   ]
  },
  {
   "cell_type": "code",
   "execution_count": 5,
   "metadata": {},
   "outputs": [
    {
     "name": "stdout",
     "output_type": "stream",
     "text": [
      "2\n",
      "(1, 2, 3, 4, 5, 6)\n",
      "2\n"
     ]
    }
   ],
   "source": [
    "tup3 = tup + tup1\n",
    "print(tup[1])\n",
    "print(tup3)\n",
    "print(tup3[1])"
   ]
  },
  {
   "cell_type": "markdown",
   "metadata": {},
   "source": [
    "Se pueden además crear **tuplas de tuplas**, en éste caso cada elemento sera una tupla completa y responderá a un índice, tuplas de listas, o de cualquier tipo de elemento, y si bien las tuplas no son mutables los elementos que contienen sí lo son por lo que se pueden modificar los elementos dentro de una tupla"
   ]
  },
  {
   "cell_type": "code",
   "execution_count": 7,
   "metadata": {},
   "outputs": [
    {
     "name": "stdout",
     "output_type": "stream",
     "text": [
      "(4, 5, 6)\n",
      "[7, 8, 9]\n",
      "((10, 11, 12), [7, 8, 9, 9.5], 13, 14, 15)\n"
     ]
    }
   ],
   "source": [
    "tup_com = (1, 2, 3), (4, 5, 6)\n",
    "list1 = [7, 8, 9]\n",
    "tup_mix = ((10, 11, 12), list1, 13, 14, 15)\n",
    "\n",
    "print(tup_com[1])\n",
    "print(tup_mix[1])\n",
    "\n",
    "tup_mix[1].append(9.5)\n",
    "print(tup_mix)"
   ]
  },
  {
   "cell_type": "markdown",
   "metadata": {},
   "source": [
    "Vemos que llamamos al elemento 1 de ``tup_mix`` el cual es justamente una lista y luego modificamos esa lista usando el método ``.append`` es decir le agregamos un nuevo valor.\n",
    "\n",
    "Otra funcion importante con tuplas es que se pueden **asignar variables** a cada uno de sus elementos y así realizar distintas operaciones:"
   ]
  },
  {
   "cell_type": "code",
   "execution_count": 8,
   "metadata": {},
   "outputs": [
    {
     "name": "stdout",
     "output_type": "stream",
     "text": [
      "4\n"
     ]
    }
   ],
   "source": [
    "a, b, c = tup\n",
    "print(a+c)"
   ]
  },
  {
   "cell_type": "markdown",
   "metadata": {},
   "source": [
    "Las tuplas tambien son elementos iterables, por lo tanto podemos aplicar el bucle ``for``, veamos un ejemplo útil:"
   ]
  },
  {
   "cell_type": "code",
   "execution_count": 9,
   "metadata": {},
   "outputs": [
    {
     "name": "stdout",
     "output_type": "stream",
     "text": [
      "a=1, b=2, c=3\n",
      "a=4, b=5, c=6\n",
      "a=7, b=8, c=9\n",
      "7 8 9\n"
     ]
    }
   ],
   "source": [
    "seq = [(1, 2, 3), (4, 5, 6), (7, 8, 9)]\n",
    "for a, b, c in seq:\n",
    "    print(f'a={a}, b={b}, c={c}')\n",
    "print(a, b, c)"
   ]
  },
  {
   "cell_type": "markdown",
   "metadata": {},
   "source": [
    "En éste caso se crea una lista de tuplas, en el bucle se crean tres variables ``a, b, c``, y solo se pide que itere sobre cada uno de los valores de cada tupla en ``seq``. El valor final de las variables será el del último elemento que itere."
   ]
  },
  {
   "cell_type": "markdown",
   "metadata": {},
   "source": [
    "En algunas situaciones es necesario retirar elementos de una tupla, para seleccionar los elementos y retirarlos (sin modificar la tupla), usamos el operador ``*``, a éste operador debemos indicarle el nombre que le voy a dar a la variable que ocupe el elemento que retire de la tupla y un nombre para la lista que creará para contener éstos elementos, en éste caso el orden es importante:"
   ]
  },
  {
   "cell_type": "code",
   "execution_count": 20,
   "metadata": {},
   "outputs": [
    {
     "name": "stdout",
     "output_type": "stream",
     "text": [
      "[2, 3, 4, 5]\n",
      "1\n"
     ]
    }
   ],
   "source": [
    "values = (1, 2, 3, 4, 5)\n",
    "a, *rest = values\n",
    "print(rest)\n",
    "print(a)"
   ]
  },
  {
   "cell_type": "markdown",
   "metadata": {},
   "source": [
    "En éste caso, crear una lista llamada ``res`` que se compone de los elementos de la tupla que \"restan\", notar que, como vimos más arriba, primero le asigna a la variable ``a`` el primer elemento de la tupla, y a todo el resto los elementos que quedan.\n",
    "Qué pasa si hay un elemento de la tupla que no nos interesa asignarle una variable o retirar? podemos usar un _ en lugar de un nombre:"
   ]
  },
  {
   "cell_type": "code",
   "execution_count": 23,
   "metadata": {},
   "outputs": [
    {
     "name": "stdout",
     "output_type": "stream",
     "text": [
      "1\n",
      "3\n",
      "[4, 5]\n"
     ]
    }
   ],
   "source": [
    "a, _, c, *rest = values\n",
    "print(a)\n",
    "print(c)\n",
    "print(rest)"
   ]
  },
  {
   "cell_type": "markdown",
   "metadata": {},
   "source": [
    "#### <span style=\"color: green;\">**DICCIONARIOS**</span>"
   ]
  }
 ],
 "metadata": {
  "kernelspec": {
   "display_name": "Python 3",
   "language": "python",
   "name": "python3"
  },
  "language_info": {
   "codemirror_mode": {
    "name": "ipython",
    "version": 3
   },
   "file_extension": ".py",
   "mimetype": "text/x-python",
   "name": "python",
   "nbconvert_exporter": "python",
   "pygments_lexer": "ipython3",
   "version": "3.12.5"
  }
 },
 "nbformat": 4,
 "nbformat_minor": 2
}
