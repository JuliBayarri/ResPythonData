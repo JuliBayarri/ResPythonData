{
 "cells": [
  {
   "cell_type": "markdown",
   "metadata": {},
   "source": [
    "### PYTHON PARA EL ANÁLISIS DE DATOS\n",
    "Python es uno de los lenguajes de programacion actualmente más utilizados y con mayor potencial para el análisis de datos complejos. Veremos los principales elementos para en manejo de datos y cómo manipularlos.\n",
    "\n",
    "#### ELEMENTOS PARA EL ANÁLISIS DE DATOS\n",
    "\n",
    "##### LISTAS\n",
    "Una lista en python es basicamente una secuencia de valores a los cuales se les asigna una variable, cada uno de los valores dentro de una lista va separado por comas y entre corchetes. Cada valor en una lista tiene un numero de indice asignad, que es basicamente el orden en el cual estan puestos. El primer elemento de una lista responde al elemento 0, el segundo al 1 y así sucesivamente."
   ]
  },
  {
   "cell_type": "code",
   "execution_count": 1,
   "metadata": {},
   "outputs": [
    {
     "name": "stdout",
     "output_type": "stream",
     "text": [
      "The first planet is Mercury\n",
      "The second planet is Venus\n",
      "The third planet is Earth\n"
     ]
    }
   ],
   "source": [
    "planets = [\"Mercury\", \"Venus\", \"Earth\", \"Mars\", \"Jupiter\", \"Saturn\", \"Uranus\", \"Neptune\"]\n",
    "print(\"The first planet is\", planets[0])\n",
    "print(\"The second planet is\", planets[1])\n",
    "print(\"The third planet is\", planets[2])"
   ]
  },
  {
   "cell_type": "markdown",
   "metadata": {},
   "source": [
    "Vemos cómo para llamar a un elemento de la lista primero usamos el nombre de la misma, en este caso ``planets`` y entre corchetes el número del indice que ocupa el elemento. Existe otra forma de llamar a los valores de una lista de atras para delante, en éste caso el último elemento de la lista tendra el índice **-1**, el penúltimo **-2** y así sucesivamente."
   ]
  },
  {
   "cell_type": "code",
   "execution_count": 2,
   "metadata": {},
   "outputs": [
    {
     "name": "stdout",
     "output_type": "stream",
     "text": [
      "The last planet is Neptune\n",
      "The penultimate planet is Uranus\n"
     ]
    }
   ],
   "source": [
    "planets = [\"Mercury\", \"Venus\", \"Earth\", \"Mars\", \"Jupiter\", \"Saturn\", \"Uranus\", \"Neptune\"]\n",
    "print(\"The last planet is\", planets[-1])\n",
    "print(\"The penultimate planet is\", planets[-2])"
   ]
  },
  {
   "cell_type": "markdown",
   "metadata": {},
   "source": [
    "Tambien es posible **modificar el valor** de un elemento dentro de una lista indicandole entre corchetes el número del indice:"
   ]
  },
  {
   "cell_type": "code",
   "execution_count": 3,
   "metadata": {},
   "outputs": [
    {
     "name": "stdout",
     "output_type": "stream",
     "text": [
      "Mars is also known as Red Planet\n"
     ]
    }
   ],
   "source": [
    "planets = [\"Mercury\", \"Venus\", \"Earth\", \"Mars\", \"Jupiter\", \"Saturn\", \"Uranus\", \"Neptune\"]\n",
    "planets[3] = \"Red Planet\"\n",
    "print(\"Mars is also known as\", planets[3])"
   ]
  },
  {
   "cell_type": "markdown",
   "metadata": {},
   "source": [
    "#### METODOS PARA MANIPULAR LISTAS\n",
    "Veremos que muchas veces es necesarios cambiar valores o sacar datos de una lista, veremos detalladamente algunos de los métodos útiles para la manipulacion de listas. Tambien es importante saber que existen librerías como Pandas que estan orientadas al análisis de datos y tienen numerosas funciones que serviran tambien para manipular no solo listas sino tambien otors elementos. Por ahora nos concentraremos en los métodos básicos y más adelante veremos qué ventajas tiene usar las librerias de python.\n",
    "\n",
    "Para saber cuantos elementos hay en una lista podemos usar la funcion integrada ``len()``, dentro de los paréntesis incluimos el nombre de la lista y no dirá automáticamente el número de elementos dentro de la misma"
   ]
  },
  {
   "cell_type": "code",
   "execution_count": 4,
   "metadata": {},
   "outputs": [
    {
     "name": "stdout",
     "output_type": "stream",
     "text": [
      "There are 8 planets in the solar system.\n"
     ]
    }
   ],
   "source": [
    "planets = [\"Mercury\", \"Venus\", \"Earth\", \"Mars\", \"Jupiter\", \"Saturn\", \"Uranus\", \"Neptune\"]\n",
    "number_of_planets = len(planets)\n",
    "print(\"There are\", number_of_planets, \"planets in the solar system.\")"
   ]
  },
  {
   "cell_type": "markdown",
   "metadata": {},
   "source": [
    "En éste caso creamos una variable nueva(``number_of_planets``) con el valor de la funcion ``len(planets)`` y vemos que el valor de esa variable es **8**.\n",
    "Vimos que es posible cambiar el valor de los elementos de una lista, existen además otros métodos para **añadir** más elementos, segun nuestro objetivo preferimos añadir un nuevo elemento al final de la lista o en un lugar específico, para cada caso existe un metodo distinto.\n",
    "Si no estamos interesadoe en el lugar que ocupe el nuevo elemnto podemos utilizar el método ``.append()``, donde escribimos entre paréntesis el elemento a añadir, por otro lado, si queremos añadir un nuevo elemento en un ligar específico podemos usar el método ``insert(i, \"nuevo elemento\")`` que, como es de esperar debemos indicarle dónde añadir ese elemnto, entre paréntesis ingresamos primero el númeor de orden que queremos darle (el índice) y luego el elemento a añadir. "
   ]
  },
  {
   "cell_type": "code",
   "execution_count": 5,
   "metadata": {},
   "outputs": [
    {
     "name": "stdout",
     "output_type": "stream",
     "text": [
      "There are actually 9 planets in the solar system.\n"
     ]
    }
   ],
   "source": [
    "planets = [\"Mercury\", \"Venus\", \"Earth\", \"Mars\", \"Jupiter\", \"Saturn\", \"Uranus\", \"Neptune\"]\n",
    "planets.append(\"Pluto\")\n",
    "number_of_planets = len(planets)\n",
    "print(\"There are actually\", number_of_planets, \"planets in the solar system.\")"
   ]
  },
  {
   "cell_type": "code",
   "execution_count": 13,
   "metadata": {},
   "outputs": [
    {
     "name": "stdout",
     "output_type": "stream",
     "text": [
      "All this planets have one star, that we call sun\n"
     ]
    }
   ],
   "source": [
    "planets.insert(0, \"sun\")\n",
    "print(\"All this planets have one star, that we call \" + planets[0])"
   ]
  },
  {
   "cell_type": "markdown",
   "metadata": {},
   "source": [
    "Obviamente, si existe la posibilidad de añadir elementos debe existir la posiblidad de **eliminar** elementos, y para ésto se usa el método ``.remove()``"
   ]
  },
  {
   "cell_type": "code",
   "execution_count": 10,
   "metadata": {},
   "outputs": [
    {
     "name": "stdout",
     "output_type": "stream",
     "text": [
      "the planets of the solar system are:  ['Mercury', 'Venus', 'Earth', 'Mars', 'Jupiter', 'Saturn', 'Uranus', 'Neptune', 'Pluto']\n"
     ]
    }
   ],
   "source": [
    "planets.remove(\"sun\")\n",
    "print(\"the planets of the solar system are: \", planets)"
   ]
  },
  {
   "cell_type": "markdown",
   "metadata": {},
   "source": [
    "Como es de esperar tambien existe un método para eliminar elementos de una lista utilizanod solo el valor de su índice, lo cual puede ser en muchas casos mas fácil y rápido, para ello usamos el método ``.pop(i)``"
   ]
  },
  {
   "cell_type": "code",
   "execution_count": 12,
   "metadata": {},
   "outputs": [
    {
     "name": "stdout",
     "output_type": "stream",
     "text": [
      "['Mercury', 'Venus', 'Mars', 'Jupiter', 'Saturn', 'Uranus', 'Neptune']\n"
     ]
    }
   ],
   "source": [
    "planets = [\"Mercury\", \"Venus\", \"Earth\", \"Mars\", \"Jupiter\", \"Saturn\", \"Uranus\", \"Neptune\"]\n",
    "planets.pop(2)\n",
    "print(planets)\n"
   ]
  },
  {
   "cell_type": "markdown",
   "metadata": {},
   "source": [
    "Ahora bien, qué pasa si queremos eliminar un elemento usando el método ``.pop`` pero no conocemos el número de índice del elemento? Existe un método entonces para conocer el número del indice de cada elemneto. Para **buscar el orden de un elemento en una lista** usamos el método ``.index()``.\n",
    "En éste caso creamos una nueva variable que guarda el valor del indice del elemento \"Jupiter\""
   ]
  },
  {
   "cell_type": "code",
   "execution_count": 14,
   "metadata": {},
   "outputs": [
    {
     "name": "stdout",
     "output_type": "stream",
     "text": [
      "Jupiter is the 5 planet from the sun\n"
     ]
    }
   ],
   "source": [
    "planets = [\"Mercury\", \"Venus\", \"Earth\", \"Mars\", \"Jupiter\", \"Saturn\", \"Uranus\", \"Neptune\"]\n",
    "jupiter_index = planets.index(\"Jupiter\")\n",
    "print(\"Jupiter is the\", jupiter_index + 1, \"planet from the sun\")"
   ]
  },
  {
   "cell_type": "markdown",
   "metadata": {},
   "source": [
    "Python permite hacer operaciones matemáticas con los elementos de una lista, obviamente necesitamos tener una lísta con valores numéricos. Esto es sumamente conveniente porque permite iterar entre valores:"
   ]
  },
  {
   "cell_type": "code",
   "execution_count": 23,
   "metadata": {},
   "outputs": [
    {
     "name": "stdout",
     "output_type": "stream",
     "text": [
      "The weight of the bus on Mercury is 46892.412000000004 N\n",
      "The weight of the bus on Venus is 112516.978 N\n",
      "The weight of the bus on Earth is 124054 N\n",
      "The weight of the bus on Mars is 46768.358 N\n",
      "The weight of the bus on Jupiter is 292767.44 N\n",
      "The weight of the bus on Saturn is 113633.464 N\n",
      "The weight of the bus on Uranus is 110284.00600000001 N\n",
      "The weight of the bus on Neptune is 138940.48 N\n"
     ]
    }
   ],
   "source": [
    "planets = [\"Mercury\", \"Venus\", \"Earth\", \"Mars\", \"Jupiter\", \"Saturn\", \"Uranus\", \"Neptune\"]\n",
    "gravity_on_planets = [0.378, 0.907, 1, 0.377, 2.36, 0.916, 0.889, 1.12]\n",
    "bus_weight = 124054 # in Newtons, on Earth\n",
    "\n",
    "for i in range(len(planets)):\n",
    "    weight_on_planet = bus_weight * gravity_on_planets[i]\n",
    "    print(f\"The weight of the bus on {planets[i]} is {weight_on_planet} N\")\n"
   ]
  },
  {
   "cell_type": "markdown",
   "metadata": {},
   "source": [
    "Analicemos un poco éste código, aca tenemos un **bucle for**, más adelante veremos en datalle cada tipo de bucle, por ahora lo importante es saber que éste tipo de bucles son muy útiles para iterar sobre elementos de, por ejemplo, una lista. El bucle crea la variable i, y luego con **in** se le indica sobre qué elemento debe iterar, en éste caso sobre la lista ``planets`` es necesario que el elemento sobre el cual se itera tenga valores numéricos, para ésto usa la funcion ``range``, ésta funcion genera una secuencia de números enteros que puede usarse para iterar en un bucle o realizar operaciones repetitivas:"
   ]
  },
  {
   "cell_type": "code",
   "execution_count": 21,
   "metadata": {},
   "outputs": [
    {
     "name": "stdout",
     "output_type": "stream",
     "text": [
      "0\n",
      "1\n",
      "2\n",
      "3\n",
      "4\n"
     ]
    }
   ],
   "source": [
    "for i in range(5):  # Equivalente a range(0, 5)\n",
    "    print(i)\n"
   ]
  },
  {
   "cell_type": "markdown",
   "metadata": {},
   "source": [
    "En nuestro caso queremos que nos de el valor del peso de un colectivo en cada uno de los 8 planetas de nuestra lista, por eso usamos como argumento de ``range`` la funcion ``len()`` que es nada más y nada menos que el número de elementos dentro de la lista planets:"
   ]
  },
  {
   "cell_type": "code",
   "execution_count": 22,
   "metadata": {},
   "outputs": [
    {
     "name": "stdout",
     "output_type": "stream",
     "text": [
      "0\n",
      "1\n",
      "2\n",
      "3\n",
      "4\n",
      "5\n",
      "6\n",
      "7\n"
     ]
    }
   ],
   "source": [
    "for i in range(len(planets)):\n",
    "    print(i)"
   ]
  },
  {
   "cell_type": "markdown",
   "metadata": {},
   "source": [
    "Entonces, luego de indicarle al bucle for qué variable crear y donde iterar, debemos decirle que hacer, le decimos que cree una nueva variable ``weight_on_planet`` que sea igual al producto entre ``bus_weight * gravity_on_planets[i]``, vemos que entre corchetes se pone ``i``, ésta i se utiliza justamente para iterar sobre todos los elementos de la lista, en éste caso sobre los valores de gravedad de cada planeta. Finalmente le pedimos que imprima una frase iterando en cada uno de los elementos de la lista ``planets`` con cada valor de ``weight_on_planet``"
   ]
  }
 ],
 "metadata": {
  "kernelspec": {
   "display_name": "Python 3",
   "language": "python",
   "name": "python3"
  },
  "language_info": {
   "codemirror_mode": {
    "name": "ipython",
    "version": 3
   },
   "file_extension": ".py",
   "mimetype": "text/x-python",
   "name": "python",
   "nbconvert_exporter": "python",
   "pygments_lexer": "ipython3",
   "version": "3.12.5"
  }
 },
 "nbformat": 4,
 "nbformat_minor": 2
}
