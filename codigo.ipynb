{
 "cells": [
  {
   "cell_type": "markdown",
   "metadata": {},
   "source": [
    "### PYTHON PARA EL ANÁLISIS DE DATOS\n",
    "Python es uno de los lenguajes de programacion actualmente más utilizados y con mayor potencial para el análisis de datos complejos. Veremos los principales elementos para en manejo de datos y cómo manipularlos.\n",
    "\n",
    "#### ELEMENTOS PARA EL ANÁLISIS DE DATOS\n",
    "\n",
    "##### LISTAS\n",
    "Una lista en python es basicamente una secuencia de valores a los cuales se les asigna una variable, cada uno de los valores dentro de una lista va separado por comas y entre corchetes. Cada valor en una lista tiene un numero de indice asignad, que es basicamente el orden en el cual estan puestos. El primer elemento de una lista responde al elemento 0, el segundo al 1 y así sucesivamente."
   ]
  },
  {
   "cell_type": "code",
   "execution_count": 1,
   "metadata": {},
   "outputs": [
    {
     "name": "stdout",
     "output_type": "stream",
     "text": [
      "The first planet is Mercury\n",
      "The second planet is Venus\n",
      "The third planet is Earth\n"
     ]
    }
   ],
   "source": [
    "planets = [\"Mercury\", \"Venus\", \"Earth\", \"Mars\", \"Jupiter\", \"Saturn\", \"Uranus\", \"Neptune\"]\n",
    "print(\"The first planet is\", planets[0])\n",
    "print(\"The second planet is\", planets[1])\n",
    "print(\"The third planet is\", planets[2])"
   ]
  },
  {
   "cell_type": "markdown",
   "metadata": {},
   "source": [
    "Vemos cómo para llamar a un elemento de la lista primero usamos el nombre de la misma, en este caso ``planets`` y entre corchetes el número del indice que ocupa el elemento. Existe otra forma de llamar a los valores de una lista de atras para delante, en éste caso el último elemento de la lista tendra el índice **-1**, el penúltimo **-2** y así sucesivamente."
   ]
  },
  {
   "cell_type": "code",
   "execution_count": 2,
   "metadata": {},
   "outputs": [
    {
     "name": "stdout",
     "output_type": "stream",
     "text": [
      "The last planet is Neptune\n",
      "The penultimate planet is Uranus\n"
     ]
    }
   ],
   "source": [
    "planets = [\"Mercury\", \"Venus\", \"Earth\", \"Mars\", \"Jupiter\", \"Saturn\", \"Uranus\", \"Neptune\"]\n",
    "print(\"The last planet is\", planets[-1])\n",
    "print(\"The penultimate planet is\", planets[-2])"
   ]
  }
 ],
 "metadata": {
  "kernelspec": {
   "display_name": "Python 3",
   "language": "python",
   "name": "python3"
  },
  "language_info": {
   "codemirror_mode": {
    "name": "ipython",
    "version": 3
   },
   "file_extension": ".py",
   "mimetype": "text/x-python",
   "name": "python",
   "nbconvert_exporter": "python",
   "pygments_lexer": "ipython3",
   "version": "3.12.5"
  }
 },
 "nbformat": 4,
 "nbformat_minor": 2
}
