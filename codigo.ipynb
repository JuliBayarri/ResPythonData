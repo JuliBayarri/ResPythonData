{
 "cells": [
  {
   "cell_type": "markdown",
   "metadata": {},
   "source": [
    "### PYTHON PARA EL ANÁLISIS DE DATOS\n",
    "Python es uno de los lenguajes de programacion actualmente más utilizados y con mayor potencial para el análisis de datos complejos. Veremos los principales elementos para en manejo de datos y cómo manipularlos.\n",
    "\n",
    "#### ELEMENTOS PARA EL ANÁLISIS DE DATOS\n",
    "\n",
    "##### LISTAS\n",
    "Una lista en python es basicamente una secuencia de valores a los cuales se les asigna una variable, cada uno de los valores dentro de una lista va separado por comas y entre corchetes. Cada valor en una lista tiene un numero de indice asignad, que es basicamente el orden en el cual estan puestos. El primer elemento de una lista responde al elemento 0, el segundo al 1 y así sucesivamente."
   ]
  },
  {
   "cell_type": "code",
   "execution_count": 1,
   "metadata": {},
   "outputs": [
    {
     "name": "stdout",
     "output_type": "stream",
     "text": [
      "The first planet is Mercury\n",
      "The second planet is Venus\n",
      "The third planet is Earth\n"
     ]
    }
   ],
   "source": [
    "planets = [\"Mercury\", \"Venus\", \"Earth\", \"Mars\", \"Jupiter\", \"Saturn\", \"Uranus\", \"Neptune\"]\n",
    "print(\"The first planet is\", planets[0])\n",
    "print(\"The second planet is\", planets[1])\n",
    "print(\"The third planet is\", planets[2])"
   ]
  },
  {
   "cell_type": "markdown",
   "metadata": {},
   "source": [
    "Vemos cómo para llamar a un elemento de la lista primero usamos el nombre de la misma, en este caso ``planets`` y entre corchetes el número del indice que ocupa el elemento. Existe otra forma de llamar a los valores de una lista de atras para delante, en éste caso el último elemento de la lista tendra el índice **-1**, el penúltimo **-2** y así sucesivamente."
   ]
  },
  {
   "cell_type": "code",
   "execution_count": 2,
   "metadata": {},
   "outputs": [
    {
     "name": "stdout",
     "output_type": "stream",
     "text": [
      "The last planet is Neptune\n",
      "The penultimate planet is Uranus\n"
     ]
    }
   ],
   "source": [
    "planets = [\"Mercury\", \"Venus\", \"Earth\", \"Mars\", \"Jupiter\", \"Saturn\", \"Uranus\", \"Neptune\"]\n",
    "print(\"The last planet is\", planets[-1])\n",
    "print(\"The penultimate planet is\", planets[-2])"
   ]
  },
  {
   "cell_type": "markdown",
   "metadata": {},
   "source": [
    "Tambien es posible **modificar el valor** de un elemento dentro de una lista indicandole entre corchetes el número del indice:"
   ]
  },
  {
   "cell_type": "code",
   "execution_count": 3,
   "metadata": {},
   "outputs": [
    {
     "name": "stdout",
     "output_type": "stream",
     "text": [
      "Mars is also known as Red Planet\n"
     ]
    }
   ],
   "source": [
    "planets = [\"Mercury\", \"Venus\", \"Earth\", \"Mars\", \"Jupiter\", \"Saturn\", \"Uranus\", \"Neptune\"]\n",
    "planets[3] = \"Red Planet\"\n",
    "print(\"Mars is also known as\", planets[3])"
   ]
  },
  {
   "cell_type": "markdown",
   "metadata": {},
   "source": [
    "#### METODOS PARA MANIPULAR LISTAS\n",
    "Veremos que muchas veces es necesarios cambiar valores o sacar datos de una lista, veremos detalladamente algunos de los métodos útiles para la manipulacion de listas. Tambien es importante saber que existen librerías como Pandas que estan orientadas al análisis de datos y tienen numerosas funciones que serviran tambien para manipular no solo listas sino tambien otors elementos. Por ahora nos concentraremos en los métodos básicos y más adelante veremos qué ventajas tiene usar las librerias de python.\n",
    "\n",
    "Para saber cuantos elementos hay en una lista podemos usar la funcion integrada ``lens()``, dentro de los paréntesis incluimos el nombre de la lista y no dirá automáticamente el número de elementos dentro de la misma"
   ]
  },
  {
   "cell_type": "code",
   "execution_count": 4,
   "metadata": {},
   "outputs": [
    {
     "name": "stdout",
     "output_type": "stream",
     "text": [
      "There are 8 planets in the solar system.\n"
     ]
    }
   ],
   "source": [
    "planets = [\"Mercury\", \"Venus\", \"Earth\", \"Mars\", \"Jupiter\", \"Saturn\", \"Uranus\", \"Neptune\"]\n",
    "number_of_planets = len(planets)\n",
    "print(\"There are\", number_of_planets, \"planets in the solar system.\")"
   ]
  },
  {
   "cell_type": "markdown",
   "metadata": {},
   "source": [
    "En éste caso creamos una variable nueva(``number_of_planets``) con el valor de la funcion ``lens(planets)`` y vemos que el valor de esa variable es **8**.\n",
    "Vimos que es posible cambiar el valor de los elementos de una lista, existen además otros métodos para **añadir** más elementos, segun nuestro objetivo preferimos añadir un nuevo elemento al final de la lista o en un lugar específico, para cada caso existe un metodo distinto.\n",
    "Si no estamos interesadoe en el lugar que ocupe el nuevo elemnto podemos utilizar el método ``.append()``, donde escribimos entre paréntesis el elemento a añadir, por otro lado, si queremos añadir un nuevo elemento en un ligar específico podemos usar el método ``insert(i, \"nuevo elemento\")`` que, como es de esperar debemos indicarle dónde añadir ese elemnto, entre paréntesis ingresamos primero el númeor de orden que queremos darle (el índice) y luego el elemento a añadir. "
   ]
  },
  {
   "cell_type": "code",
   "execution_count": 5,
   "metadata": {},
   "outputs": [
    {
     "name": "stdout",
     "output_type": "stream",
     "text": [
      "There are actually 9 planets in the solar system.\n"
     ]
    }
   ],
   "source": [
    "planets = [\"Mercury\", \"Venus\", \"Earth\", \"Mars\", \"Jupiter\", \"Saturn\", \"Uranus\", \"Neptune\"]\n",
    "planets.append(\"Pluto\")\n",
    "number_of_planets = len(planets)\n",
    "print(\"There are actually\", number_of_planets, \"planets in the solar system.\")"
   ]
  },
  {
   "cell_type": "code",
   "execution_count": 7,
   "metadata": {},
   "outputs": [
    {
     "name": "stdout",
     "output_type": "stream",
     "text": [
      "All this panets have one star, that we call sun\n"
     ]
    }
   ],
   "source": [
    "planets.insert(0, \"sun\")\n",
    "print(\"All this panets have one star, that we call \" + planets[0])"
   ]
  },
  {
   "cell_type": "markdown",
   "metadata": {},
   "source": [
    "Obviamente, si existe la posibilidad de añadir elementos debe existir la posiblidad de **eleiminar** elementos, y para ésto se usa el método ``.remove()``"
   ]
  },
  {
   "cell_type": "code",
   "execution_count": 10,
   "metadata": {},
   "outputs": [
    {
     "name": "stdout",
     "output_type": "stream",
     "text": [
      "the planets of the solar system are:  ['Mercury', 'Venus', 'Earth', 'Mars', 'Jupiter', 'Saturn', 'Uranus', 'Neptune', 'Pluto']\n"
     ]
    }
   ],
   "source": [
    "planets.remove(\"sun\")\n",
    "print(\"the planets of the solar system are: \", planets)"
   ]
  },
  {
   "cell_type": "markdown",
   "metadata": {},
   "source": [
    "Como es de esperar tambien existe un método para eliminar elementos de una lista utilizanod solo el valor de su índice, lo cual puede ser en muchas casos mas fácil y rápido, para ello usamos el método ``.pop(i)``"
   ]
  },
  {
   "cell_type": "code",
   "execution_count": 12,
   "metadata": {},
   "outputs": [
    {
     "name": "stdout",
     "output_type": "stream",
     "text": [
      "['Mercury', 'Venus', 'Mars', 'Jupiter', 'Saturn', 'Uranus', 'Neptune']\n"
     ]
    }
   ],
   "source": [
    "planets = [\"Mercury\", \"Venus\", \"Earth\", \"Mars\", \"Jupiter\", \"Saturn\", \"Uranus\", \"Neptune\"]\n",
    "planets.pop(2)\n",
    "print(planets)\n"
   ]
  }
 ],
 "metadata": {
  "kernelspec": {
   "display_name": "Python 3",
   "language": "python",
   "name": "python3"
  },
  "language_info": {
   "codemirror_mode": {
    "name": "ipython",
    "version": 3
   },
   "file_extension": ".py",
   "mimetype": "text/x-python",
   "name": "python",
   "nbconvert_exporter": "python",
   "pygments_lexer": "ipython3",
   "version": "3.12.5"
  }
 },
 "nbformat": 4,
 "nbformat_minor": 2
}
