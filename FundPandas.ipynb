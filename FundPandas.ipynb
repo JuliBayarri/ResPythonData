{
 "cells": [
  {
   "cell_type": "markdown",
   "metadata": {},
   "source": [
    "## **FUNDAMENTOS DE PANDAS**\n",
    "\n",
    "**Pandas** es una librería especializada en la limpieza y análisis de datos, esta diseñada para trabajar con tados tabulares o heterogeneos, veremos que es muy útil para trabajar en colaboracion con Numpy.\n",
    "Pandas tiene varios múdulos útiles tales como **Series** y **DataFrame** por lo que tambien estaremos trabajando con éstos, de hecho para empezar a trabajar con Pandas es importante conocer éstas dos estructuras principales:\n",
    "\n",
    "\n",
    "### **SERIES**\n",
    "\n",
    "Una series es un objeto unidimensional de estilo array, que contiene una secuencia de valores del mismo tipo (dtype) y un array asociado a *etiquetas* de datos, que corresponde a su índice.\n",
    "La sintaxis completa de la funcion ``Series`` es:\n",
    "\n",
    "``pd.Series(data, index=None, dtype=None, name=None, copy=False)``\n",
    "\n",
    "El único parámetro que no toma un valor determinado es ``data``, y qui es justamente donde debemos ingresar los datos que van a componer la serie.\n",
    "La forma más sencilla de una serie es un único array:"
   ]
  },
  {
   "cell_type": "code",
   "execution_count": 1,
   "metadata": {},
   "outputs": [
    {
     "data": {
      "text/plain": [
       "0    4\n",
       "1    7\n",
       "2   -5\n",
       "3    3\n",
       "dtype: int64"
      ]
     },
     "execution_count": 1,
     "metadata": {},
     "output_type": "execute_result"
    }
   ],
   "source": [
    "import pandas as pd\n",
    "\n",
    "obj = pd.Series([4, 7, -5, 3])\n",
    "obj"
   ]
  },
  {
   "cell_type": "markdown",
   "metadata": {},
   "source": [
    "Cuando creamos una serie, se puede visualizar una columna del lado izquierdo que muestra en índice de cada elemento en la serie, mientras que los valores se encuentran en el lado derecho. Éste índice se crea de manera predeterminada, es decir que podemos especificar un índice distinto, crear series con índices para identificar datos con una etiqueta es muy utilizado en el enálisis de datos:"
   ]
  },
  {
   "cell_type": "code",
   "execution_count": 2,
   "metadata": {},
   "outputs": [
    {
     "data": {
      "text/plain": [
       "a    4\n",
       "b    7\n",
       "c   -5\n",
       "d    3\n",
       "dtype: int64"
      ]
     },
     "execution_count": 2,
     "metadata": {},
     "output_type": "execute_result"
    }
   ],
   "source": [
    "obj2 = pd.Series([4, 7, -5, 3], index=[\"a\", \"b\", \"c\", \"d\"])\n",
    "obj2\n"
   ]
  },
  {
   "cell_type": "markdown",
   "metadata": {},
   "source": [
    "El parámetro ``data`` puede ser una lista de elementos o un array unidimensional, lo mismo con el parámetro ``index``, siempre y cuando éste tenga la misma cantidad de elementos que data, y no necesariamente tienen que ser del mismo dtype:"
   ]
  },
  {
   "cell_type": "code",
   "execution_count": 3,
   "metadata": {},
   "outputs": [
    {
     "data": {
      "text/plain": [
       "manzanas    20\n",
       "naranjas    33\n",
       "cerezas     52\n",
       "peras       10\n",
       "dtype: int64"
      ]
     },
     "execution_count": 3,
     "metadata": {},
     "output_type": "execute_result"
    }
   ],
   "source": [
    "fruits = [\"manzanas\", \"naranjas\", \"cerezas\", \"peras\"]\n",
    "quantities = [20, 33, 52, 10]\n",
    "obj3 = pd.Series(quantities, index=fruits)\n",
    "obj3"
   ]
  },
  {
   "cell_type": "markdown",
   "metadata": {},
   "source": [
    "Tambien se pueden crear Series a partir de Diccionarios:"
   ]
  },
  {
   "cell_type": "code",
   "execution_count": 4,
   "metadata": {},
   "outputs": [
    {
     "name": "stdout",
     "output_type": "stream",
     "text": [
      "manzanas     5\n",
      "bananas      8\n",
      "naranjas    12\n",
      "dtype: int64\n"
     ]
    }
   ],
   "source": [
    "data = {\"manzanas\": 5, \"bananas\": 8, \"naranjas\": 12}\n",
    "serie = pd.Series(data)\n",
    "print(serie)"
   ]
  },
  {
   "cell_type": "markdown",
   "metadata": {},
   "source": [
    "Y a su vez, una serie se puede convertir en un diccionario utilizando el método ``.to_dict``.\n",
    "\n",
    "El vínculo *indice-valor* se mantiene incluso al aplicar operaciones sobre la Serie:"
   ]
  },
  {
   "cell_type": "code",
   "execution_count": 5,
   "metadata": {},
   "outputs": [
    {
     "data": {
      "text/plain": [
       "a    4\n",
       "b    7\n",
       "d    3\n",
       "dtype: int64"
      ]
     },
     "execution_count": 5,
     "metadata": {},
     "output_type": "execute_result"
    }
   ],
   "source": [
    "obj2[obj2>2]"
   ]
  },
  {
   "cell_type": "code",
   "execution_count": 6,
   "metadata": {},
   "outputs": [
    {
     "data": {
      "text/plain": [
       "a     8\n",
       "b    14\n",
       "c   -10\n",
       "d     6\n",
       "dtype: int64"
      ]
     },
     "execution_count": 6,
     "metadata": {},
     "output_type": "execute_result"
    }
   ],
   "source": [
    "obj2*2"
   ]
  },
  {
   "cell_type": "markdown",
   "metadata": {},
   "source": [
    "En ocasiones podemos tener series con grandes volúmenes de datos, y puede pasar que haya *faltantes*, una forma fácil y rápida de visualizar estos faltantes es utilizando las funciones ``pd.isna`` y ``pd.notna``, el cual nos devuelve una Serie con valores booleanos, True va a representar valores faltantes en el primer caso, o valores presentes en el segundo, y False, al contrario, valores presentes en el primero y valores ausentes en el segundo:"
   ]
  },
  {
   "cell_type": "code",
   "execution_count": 7,
   "metadata": {},
   "outputs": [
    {
     "data": {
      "text/plain": [
       "manzanas     5.0\n",
       "bananas      8.0\n",
       "naranjas    12.0\n",
       "peras        2.0\n",
       "ciruelas    10.0\n",
       "sandias      NaN\n",
       "dtype: float64"
      ]
     },
     "execution_count": 7,
     "metadata": {},
     "output_type": "execute_result"
    }
   ],
   "source": [
    "data = {\"manzanas\": 5, \"bananas\": 8, \"naranjas\": 12, \"peras\": 2, \"ciruelas\": 10}\n",
    "\n",
    "frutas = [\"manzanas\", \"bananas\", \"naranjas\", \"peras\", \"ciruelas\", \"sandias\"]\n",
    "obj4 = pd.Series(data, index=frutas)\n",
    "obj4"
   ]
  },
  {
   "cell_type": "markdown",
   "metadata": {},
   "source": [
    "Aqui, creamos una Serie a partir de un Diccionario, que tiene 5 elementos, pero se utilizó un ``index`` con una lista de 6 elementos, es decir que va a haber más índices con datos, por eso vemos que \"sandias\" figura como NaN (No a Number), muchas veces cuando exportamos datos puede pasar ésto, veamos cómo se puede visualizar con las funciones ``isna`` y ``notna``:"
   ]
  },
  {
   "cell_type": "code",
   "execution_count": 8,
   "metadata": {},
   "outputs": [
    {
     "data": {
      "text/plain": [
       "manzanas    False\n",
       "bananas     False\n",
       "naranjas    False\n",
       "peras       False\n",
       "ciruelas    False\n",
       "sandias      True\n",
       "dtype: bool"
      ]
     },
     "execution_count": 8,
     "metadata": {},
     "output_type": "execute_result"
    }
   ],
   "source": [
    "pd.isna(obj4)"
   ]
  },
  {
   "cell_type": "code",
   "execution_count": 9,
   "metadata": {},
   "outputs": [
    {
     "data": {
      "text/plain": [
       "manzanas     True\n",
       "bananas      True\n",
       "naranjas     True\n",
       "peras        True\n",
       "ciruelas     True\n",
       "sandias     False\n",
       "dtype: bool"
      ]
     },
     "execution_count": 9,
     "metadata": {},
     "output_type": "execute_result"
    }
   ],
   "source": [
    "pd.notna(obj4)"
   ]
  },
  {
   "cell_type": "markdown",
   "metadata": {},
   "source": [
    "### **DATAFRAME** \n",
    "\n",
    "Un DataFrame representa una **tabla de datos**, y contiene una coleccion de columnas ordenadas con nombres, y en cada columna se puede tener datos con tipos y valores distintos (numéricos, cadenas de texto, booleanos, etc). Un DataFrame, a diferencia de las Series, tiene, no solo un índice de filas, sino tambien uno de columnas.\n",
    "\n",
    "La sintaxis completa de ``DataFrame`` es:\n",
    "\n",
    "``pd.DataFrame(data=None, index=None, columns=None, dtype=None, copy=None)``\n",
    "\n",
    "``data`` recibe los datos de las columnas, incluidas las etiquetas de éstas, mientras que ``index``, al igual que las Series, recibe las especificaciones de las etiquetas de las filas, si no se especifica nada se usan enteros consecutivos (0, 1, 2, ...), lo mismo con el parámetro ``columns``.\n",
    "\n",
    "Existen distintas formas de construir un DataFrame, usualmente se parte de un Diciconario, Lista o Array:"
   ]
  },
  {
   "cell_type": "code",
   "execution_count": 26,
   "metadata": {},
   "outputs": [
    {
     "data": {
      "text/html": [
       "<div>\n",
       "<style scoped>\n",
       "    .dataframe tbody tr th:only-of-type {\n",
       "        vertical-align: middle;\n",
       "    }\n",
       "\n",
       "    .dataframe tbody tr th {\n",
       "        vertical-align: top;\n",
       "    }\n",
       "\n",
       "    .dataframe thead th {\n",
       "        text-align: right;\n",
       "    }\n",
       "</style>\n",
       "<table border=\"1\" class=\"dataframe\">\n",
       "  <thead>\n",
       "    <tr style=\"text-align: right;\">\n",
       "      <th></th>\n",
       "      <th>Organismos</th>\n",
       "      <th>Tiempo</th>\n",
       "      <th>Resistencia a amp</th>\n",
       "    </tr>\n",
       "  </thead>\n",
       "  <tbody>\n",
       "    <tr>\n",
       "      <th>0</th>\n",
       "      <td>E.coli</td>\n",
       "      <td>1.2</td>\n",
       "      <td>Si</td>\n",
       "    </tr>\n",
       "    <tr>\n",
       "      <th>1</th>\n",
       "      <td>S.aureus</td>\n",
       "      <td>10.0</td>\n",
       "      <td>Si</td>\n",
       "    </tr>\n",
       "    <tr>\n",
       "      <th>2</th>\n",
       "      <td>Shigella</td>\n",
       "      <td>5.6</td>\n",
       "      <td>No</td>\n",
       "    </tr>\n",
       "    <tr>\n",
       "      <th>3</th>\n",
       "      <td>S.pneumoniae</td>\n",
       "      <td>7.2</td>\n",
       "      <td>Si</td>\n",
       "    </tr>\n",
       "    <tr>\n",
       "      <th>4</th>\n",
       "      <td>Salmonella</td>\n",
       "      <td>15.0</td>\n",
       "      <td>No</td>\n",
       "    </tr>\n",
       "    <tr>\n",
       "      <th>5</th>\n",
       "      <td>P.aeruginosa</td>\n",
       "      <td>3.4</td>\n",
       "      <td>No</td>\n",
       "    </tr>\n",
       "  </tbody>\n",
       "</table>\n",
       "</div>"
      ],
      "text/plain": [
       "     Organismos  Tiempo Resistencia a amp\n",
       "0        E.coli     1.2                Si\n",
       "1      S.aureus    10.0                Si\n",
       "2      Shigella     5.6                No\n",
       "3  S.pneumoniae     7.2                Si\n",
       "4    Salmonella    15.0                No\n",
       "5  P.aeruginosa     3.4                No"
      ]
     },
     "execution_count": 26,
     "metadata": {},
     "output_type": "execute_result"
    }
   ],
   "source": [
    "data = {\"Organismos\": [\"E.coli\", \"S.aureus\", \"Shigella\", \"S.pneumoniae\", \"Salmonella\", \"P.aeruginosa\"], \"Tiempo\": [1.2, 10, 5.6, 7.2, 15, 3.4], \"Resistencia a amp\": [\"Si\", \"Si\", \"No\", \"Si\", \"No\", \"No\"]}\n",
    "frame = pd.DataFrame(data)\n",
    "frame"
   ]
  },
  {
   "cell_type": "markdown",
   "metadata": {},
   "source": [
    "Algunos frames puede contener grandes volúmenes de datos, existen distintos modods de **VISUALIZACION DE DATAFRAMES** como por ejemplo el método ``.head()``, que muestra de manera predeterminada los primeros 5 elementos, pero se puede especificar la cantidad entre paréntesis:"
   ]
  },
  {
   "cell_type": "code",
   "execution_count": 11,
   "metadata": {},
   "outputs": [
    {
     "data": {
      "text/html": [
       "<div>\n",
       "<style scoped>\n",
       "    .dataframe tbody tr th:only-of-type {\n",
       "        vertical-align: middle;\n",
       "    }\n",
       "\n",
       "    .dataframe tbody tr th {\n",
       "        vertical-align: top;\n",
       "    }\n",
       "\n",
       "    .dataframe thead th {\n",
       "        text-align: right;\n",
       "    }\n",
       "</style>\n",
       "<table border=\"1\" class=\"dataframe\">\n",
       "  <thead>\n",
       "    <tr style=\"text-align: right;\">\n",
       "      <th></th>\n",
       "      <th>Organismos</th>\n",
       "      <th>Tiempo</th>\n",
       "      <th>Resistencia a amp</th>\n",
       "    </tr>\n",
       "  </thead>\n",
       "  <tbody>\n",
       "    <tr>\n",
       "      <th>0</th>\n",
       "      <td>E.coli</td>\n",
       "      <td>1.2</td>\n",
       "      <td>Si</td>\n",
       "    </tr>\n",
       "    <tr>\n",
       "      <th>1</th>\n",
       "      <td>S.aureus</td>\n",
       "      <td>10.0</td>\n",
       "      <td>Si</td>\n",
       "    </tr>\n",
       "  </tbody>\n",
       "</table>\n",
       "</div>"
      ],
      "text/plain": [
       "  Organismos  Tiempo Resistencia a amp\n",
       "0     E.coli     1.2                Si\n",
       "1   S.aureus    10.0                Si"
      ]
     },
     "execution_count": 11,
     "metadata": {},
     "output_type": "execute_result"
    }
   ],
   "source": [
    "frame.head(2)"
   ]
  },
  {
   "cell_type": "markdown",
   "metadata": {},
   "source": [
    "O ``tail()`` que funciona de la misma manera pero mostrando los últimos elementos:"
   ]
  },
  {
   "cell_type": "code",
   "execution_count": 12,
   "metadata": {},
   "outputs": [
    {
     "data": {
      "text/html": [
       "<div>\n",
       "<style scoped>\n",
       "    .dataframe tbody tr th:only-of-type {\n",
       "        vertical-align: middle;\n",
       "    }\n",
       "\n",
       "    .dataframe tbody tr th {\n",
       "        vertical-align: top;\n",
       "    }\n",
       "\n",
       "    .dataframe thead th {\n",
       "        text-align: right;\n",
       "    }\n",
       "</style>\n",
       "<table border=\"1\" class=\"dataframe\">\n",
       "  <thead>\n",
       "    <tr style=\"text-align: right;\">\n",
       "      <th></th>\n",
       "      <th>Organismos</th>\n",
       "      <th>Tiempo</th>\n",
       "      <th>Resistencia a amp</th>\n",
       "    </tr>\n",
       "  </thead>\n",
       "  <tbody>\n",
       "    <tr>\n",
       "      <th>4</th>\n",
       "      <td>Salmonella</td>\n",
       "      <td>15.0</td>\n",
       "      <td>No</td>\n",
       "    </tr>\n",
       "    <tr>\n",
       "      <th>5</th>\n",
       "      <td>P.aeruginosa</td>\n",
       "      <td>3.4</td>\n",
       "      <td>No</td>\n",
       "    </tr>\n",
       "  </tbody>\n",
       "</table>\n",
       "</div>"
      ],
      "text/plain": [
       "     Organismos  Tiempo Resistencia a amp\n",
       "4    Salmonella    15.0                No\n",
       "5  P.aeruginosa     3.4                No"
      ]
     },
     "execution_count": 12,
     "metadata": {},
     "output_type": "execute_result"
    }
   ],
   "source": [
    "frame.tail(2)"
   ]
  },
  {
   "cell_type": "markdown",
   "metadata": {},
   "source": [
    "Si agregamos una columna no contenida en el diccionario, figurará con valores faltantes (NaN):"
   ]
  },
  {
   "cell_type": "code",
   "execution_count": 16,
   "metadata": {},
   "outputs": [
    {
     "data": {
      "text/html": [
       "<div>\n",
       "<style scoped>\n",
       "    .dataframe tbody tr th:only-of-type {\n",
       "        vertical-align: middle;\n",
       "    }\n",
       "\n",
       "    .dataframe tbody tr th {\n",
       "        vertical-align: top;\n",
       "    }\n",
       "\n",
       "    .dataframe thead th {\n",
       "        text-align: right;\n",
       "    }\n",
       "</style>\n",
       "<table border=\"1\" class=\"dataframe\">\n",
       "  <thead>\n",
       "    <tr style=\"text-align: right;\">\n",
       "      <th></th>\n",
       "      <th>Organismos</th>\n",
       "      <th>Tiempo</th>\n",
       "      <th>Resistencia a amp</th>\n",
       "      <th>Resist. a Clo</th>\n",
       "    </tr>\n",
       "  </thead>\n",
       "  <tbody>\n",
       "    <tr>\n",
       "      <th>0</th>\n",
       "      <td>E.coli</td>\n",
       "      <td>1.2</td>\n",
       "      <td>Si</td>\n",
       "      <td>NaN</td>\n",
       "    </tr>\n",
       "    <tr>\n",
       "      <th>1</th>\n",
       "      <td>S.aureus</td>\n",
       "      <td>10.0</td>\n",
       "      <td>Si</td>\n",
       "      <td>NaN</td>\n",
       "    </tr>\n",
       "    <tr>\n",
       "      <th>2</th>\n",
       "      <td>Shigella</td>\n",
       "      <td>5.6</td>\n",
       "      <td>No</td>\n",
       "      <td>NaN</td>\n",
       "    </tr>\n",
       "    <tr>\n",
       "      <th>3</th>\n",
       "      <td>S.pneumoniae</td>\n",
       "      <td>7.2</td>\n",
       "      <td>Si</td>\n",
       "      <td>NaN</td>\n",
       "    </tr>\n",
       "    <tr>\n",
       "      <th>4</th>\n",
       "      <td>Salmonella</td>\n",
       "      <td>15.0</td>\n",
       "      <td>No</td>\n",
       "      <td>NaN</td>\n",
       "    </tr>\n",
       "    <tr>\n",
       "      <th>5</th>\n",
       "      <td>P.aeruginosa</td>\n",
       "      <td>3.4</td>\n",
       "      <td>No</td>\n",
       "      <td>NaN</td>\n",
       "    </tr>\n",
       "  </tbody>\n",
       "</table>\n",
       "</div>"
      ],
      "text/plain": [
       "     Organismos  Tiempo Resistencia a amp Resist. a Clo\n",
       "0        E.coli     1.2                Si           NaN\n",
       "1      S.aureus    10.0                Si           NaN\n",
       "2      Shigella     5.6                No           NaN\n",
       "3  S.pneumoniae     7.2                Si           NaN\n",
       "4    Salmonella    15.0                No           NaN\n",
       "5  P.aeruginosa     3.4                No           NaN"
      ]
     },
     "execution_count": 16,
     "metadata": {},
     "output_type": "execute_result"
    }
   ],
   "source": [
    "frame2 = pd.DataFrame(data, columns=[\"Organismos\", \"Tiempo\", \"Resistencia a amp\", \"Resist. a Clo\"])\n",
    "frame2"
   ]
  },
  {
   "cell_type": "markdown",
   "metadata": {},
   "source": [
    "Es posible *extraer* o recuperar una columna de un Dataframe en forma de Serie, usando el nombre del Dataframe y especificando entre corchetes el nombre de la columna, o simplemente con un punto y el nombre de la columna (``Frame.columna``):"
   ]
  },
  {
   "cell_type": "code",
   "execution_count": null,
   "metadata": {},
   "outputs": [
    {
     "data": {
      "text/plain": [
       "0     1.2\n",
       "1    10.0\n",
       "2     5.6\n",
       "3     7.2\n",
       "4    15.0\n",
       "5     3.4\n",
       "Name: Tiempo, dtype: float64"
      ]
     },
     "execution_count": 23,
     "metadata": {},
     "output_type": "execute_result"
    }
   ],
   "source": [
    "frame2[\"Tiempo\"]"
   ]
  },
  {
   "cell_type": "code",
   "execution_count": 24,
   "metadata": {},
   "outputs": [
    {
     "data": {
      "text/plain": [
       "0          E.coli\n",
       "1        S.aureus\n",
       "2        Shigella\n",
       "3    S.pneumoniae\n",
       "4      Salmonella\n",
       "5    P.aeruginosa\n",
       "Name: Organismos, dtype: object"
      ]
     },
     "execution_count": 24,
     "metadata": {},
     "output_type": "execute_result"
    }
   ],
   "source": [
    "frame2.Organismos"
   ]
  },
  {
   "cell_type": "markdown",
   "metadata": {},
   "source": [
    "Tambien se pueden utilizar los atributos especiales ``.loc[]`` e ``iloc[]`` para seleccionar datos más específicos dentro de un Dataframe.\n",
    "\n",
    "**``.loc[]``** permite seleccionar datos usando las etiquetas las **filas, columnas**, aquí es importante aclarar que siempre recibe primero una fila y luego una columna, si no se quiere especificar ninguna fila debemos poner en su lugar dos puntos (:):"
   ]
  },
  {
   "cell_type": "code",
   "execution_count": 39,
   "metadata": {},
   "outputs": [
    {
     "data": {
      "text/plain": [
       "0          E.coli\n",
       "1        S.aureus\n",
       "2        Shigella\n",
       "3    S.pneumoniae\n",
       "4      Salmonella\n",
       "5    P.aeruginosa\n",
       "Name: Organismos, dtype: object"
      ]
     },
     "execution_count": 39,
     "metadata": {},
     "output_type": "execute_result"
    }
   ],
   "source": [
    "frame2.loc[:, \"Organismos\"]  # Selecciona toda la columna \"Organismos\"\n",
    "\n"
   ]
  },
  {
   "cell_type": "code",
   "execution_count": 40,
   "metadata": {},
   "outputs": [
    {
     "data": {
      "text/plain": [
       "Organismos           Shigella\n",
       "Tiempo                    5.6\n",
       "Resistencia a amp          No\n",
       "Resist. a Clo             NaN\n",
       "Name: 2, dtype: object"
      ]
     },
     "execution_count": 40,
     "metadata": {},
     "output_type": "execute_result"
    }
   ],
   "source": [
    "frame2.loc[2] # Selecciona todos los datos de la fila 2, convirtiendolos en una Serie"
   ]
  },
  {
   "cell_type": "code",
   "execution_count": null,
   "metadata": {},
   "outputs": [
    {
     "data": {
      "text/plain": [
       "'Shigella'"
      ]
     },
     "execution_count": 41,
     "metadata": {},
     "output_type": "execute_result"
    }
   ],
   "source": [
    "frame2.loc[2, \"Organismos\"] # Selecciona el dato de la fila 2 correspondiente a la columna \"Organismos\""
   ]
  },
  {
   "cell_type": "markdown",
   "metadata": {},
   "source": [
    "``.loc[]`` tambien puede selleccionar datos utilizando condiciones, por ejemplo:"
   ]
  },
  {
   "cell_type": "code",
   "execution_count": null,
   "metadata": {},
   "outputs": [
    {
     "data": {
      "text/html": [
       "<div>\n",
       "<style scoped>\n",
       "    .dataframe tbody tr th:only-of-type {\n",
       "        vertical-align: middle;\n",
       "    }\n",
       "\n",
       "    .dataframe tbody tr th {\n",
       "        vertical-align: top;\n",
       "    }\n",
       "\n",
       "    .dataframe thead th {\n",
       "        text-align: right;\n",
       "    }\n",
       "</style>\n",
       "<table border=\"1\" class=\"dataframe\">\n",
       "  <thead>\n",
       "    <tr style=\"text-align: right;\">\n",
       "      <th></th>\n",
       "      <th>Organismos</th>\n",
       "      <th>Tiempo</th>\n",
       "      <th>Resistencia a amp</th>\n",
       "      <th>Resist. a Clo</th>\n",
       "    </tr>\n",
       "  </thead>\n",
       "  <tbody>\n",
       "    <tr>\n",
       "      <th>1</th>\n",
       "      <td>S.aureus</td>\n",
       "      <td>10.0</td>\n",
       "      <td>Si</td>\n",
       "      <td>NaN</td>\n",
       "    </tr>\n",
       "    <tr>\n",
       "      <th>2</th>\n",
       "      <td>Shigella</td>\n",
       "      <td>5.6</td>\n",
       "      <td>No</td>\n",
       "      <td>NaN</td>\n",
       "    </tr>\n",
       "    <tr>\n",
       "      <th>3</th>\n",
       "      <td>S.pneumoniae</td>\n",
       "      <td>7.2</td>\n",
       "      <td>Si</td>\n",
       "      <td>NaN</td>\n",
       "    </tr>\n",
       "    <tr>\n",
       "      <th>4</th>\n",
       "      <td>Salmonella</td>\n",
       "      <td>15.0</td>\n",
       "      <td>No</td>\n",
       "      <td>NaN</td>\n",
       "    </tr>\n",
       "  </tbody>\n",
       "</table>\n",
       "</div>"
      ],
      "text/plain": [
       "     Organismos  Tiempo Resistencia a amp Resist. a Clo\n",
       "1      S.aureus    10.0                Si           NaN\n",
       "2      Shigella     5.6                No           NaN\n",
       "3  S.pneumoniae     7.2                Si           NaN\n",
       "4    Salmonella    15.0                No           NaN"
      ]
     },
     "execution_count": 43,
     "metadata": {},
     "output_type": "execute_result"
    }
   ],
   "source": [
    "frame2.loc[frame2[\"Tiempo\"]>5] #Selecciona todos los datos que tengan un tiempo >5"
   ]
  },
  {
   "cell_type": "markdown",
   "metadata": {},
   "source": [
    "**``.iloc[]``** en cambio es más útil para seleccionar datos por su posición, utilizando índices numéricos si no conocemos el nombre de los índices:"
   ]
  },
  {
   "cell_type": "code",
   "execution_count": 44,
   "metadata": {},
   "outputs": [
    {
     "data": {
      "text/plain": [
       "10.0"
      ]
     },
     "execution_count": 44,
     "metadata": {},
     "output_type": "execute_result"
    }
   ],
   "source": [
    "frame2.iloc[1, 1] #selecciona fila 1 columna 1"
   ]
  },
  {
   "cell_type": "code",
   "execution_count": null,
   "metadata": {},
   "outputs": [
    {
     "data": {
      "text/plain": [
       "0      E.coli\n",
       "2    Shigella\n",
       "Name: Organismos, dtype: object"
      ]
     },
     "execution_count": 45,
     "metadata": {},
     "output_type": "execute_result"
    }
   ],
   "source": [
    "frame2.iloc[[0, 2], 0] #selecciona la fila 0 y 2, de la columna 0"
   ]
  },
  {
   "cell_type": "code",
   "execution_count": null,
   "metadata": {},
   "outputs": [
    {
     "data": {
      "text/plain": [
       "0     1.2\n",
       "1    10.0\n",
       "2     5.6\n",
       "3     7.2\n",
       "4    15.0\n",
       "5     3.4\n",
       "Name: Tiempo, dtype: float64"
      ]
     },
     "execution_count": 46,
     "metadata": {},
     "output_type": "execute_result"
    }
   ],
   "source": [
    "frame2.iloc[:, 1] #selecciona la columna 1 (tiempo)"
   ]
  },
  {
   "cell_type": "markdown",
   "metadata": {},
   "source": [
    "En el caso de no conocer el nombre de las columnas, de todas forma podemos utilizar el método ``.columns`` que nos da una lista con los nombres de las columnas.\n",
    "\n",
    "**MODIFICAR COLUMNAS**: Las columnas se pueden modificar directamente por asignacion, es decir utilizando el operador ``=``:"
   ]
  },
  {
   "cell_type": "code",
   "execution_count": 49,
   "metadata": {},
   "outputs": [
    {
     "data": {
      "text/html": [
       "<div>\n",
       "<style scoped>\n",
       "    .dataframe tbody tr th:only-of-type {\n",
       "        vertical-align: middle;\n",
       "    }\n",
       "\n",
       "    .dataframe tbody tr th {\n",
       "        vertical-align: top;\n",
       "    }\n",
       "\n",
       "    .dataframe thead th {\n",
       "        text-align: right;\n",
       "    }\n",
       "</style>\n",
       "<table border=\"1\" class=\"dataframe\">\n",
       "  <thead>\n",
       "    <tr style=\"text-align: right;\">\n",
       "      <th></th>\n",
       "      <th>Organismos</th>\n",
       "      <th>Tiempo</th>\n",
       "      <th>Resistencia a amp</th>\n",
       "      <th>Resist. a Clo</th>\n",
       "    </tr>\n",
       "  </thead>\n",
       "  <tbody>\n",
       "    <tr>\n",
       "      <th>0</th>\n",
       "      <td>E.coli</td>\n",
       "      <td>1.2</td>\n",
       "      <td>Si</td>\n",
       "      <td>No</td>\n",
       "    </tr>\n",
       "    <tr>\n",
       "      <th>1</th>\n",
       "      <td>S.aureus</td>\n",
       "      <td>10.0</td>\n",
       "      <td>Si</td>\n",
       "      <td>No</td>\n",
       "    </tr>\n",
       "    <tr>\n",
       "      <th>2</th>\n",
       "      <td>Shigella</td>\n",
       "      <td>5.6</td>\n",
       "      <td>No</td>\n",
       "      <td>No</td>\n",
       "    </tr>\n",
       "    <tr>\n",
       "      <th>3</th>\n",
       "      <td>S.pneumoniae</td>\n",
       "      <td>7.2</td>\n",
       "      <td>Si</td>\n",
       "      <td>No</td>\n",
       "    </tr>\n",
       "    <tr>\n",
       "      <th>4</th>\n",
       "      <td>Salmonella</td>\n",
       "      <td>15.0</td>\n",
       "      <td>No</td>\n",
       "      <td>No</td>\n",
       "    </tr>\n",
       "    <tr>\n",
       "      <th>5</th>\n",
       "      <td>P.aeruginosa</td>\n",
       "      <td>3.4</td>\n",
       "      <td>No</td>\n",
       "      <td>No</td>\n",
       "    </tr>\n",
       "  </tbody>\n",
       "</table>\n",
       "</div>"
      ],
      "text/plain": [
       "     Organismos  Tiempo Resistencia a amp Resist. a Clo\n",
       "0        E.coli     1.2                Si            No\n",
       "1      S.aureus    10.0                Si            No\n",
       "2      Shigella     5.6                No            No\n",
       "3  S.pneumoniae     7.2                Si            No\n",
       "4    Salmonella    15.0                No            No\n",
       "5  P.aeruginosa     3.4                No            No"
      ]
     },
     "execution_count": 49,
     "metadata": {},
     "output_type": "execute_result"
    }
   ],
   "source": [
    "frame2[\"Resist. a Clo\"] = \"No\" #Se le asiga \"No\" a toda la columna \"Resist. a Clo\"\n",
    "frame2"
   ]
  },
  {
   "cell_type": "markdown",
   "metadata": {},
   "source": [
    "Tambien se puede asignar una lista o un array, siempre y cuando tengan la misma longitud que el dataframe:"
   ]
  },
  {
   "cell_type": "code",
   "execution_count": 50,
   "metadata": {},
   "outputs": [
    {
     "data": {
      "text/html": [
       "<div>\n",
       "<style scoped>\n",
       "    .dataframe tbody tr th:only-of-type {\n",
       "        vertical-align: middle;\n",
       "    }\n",
       "\n",
       "    .dataframe tbody tr th {\n",
       "        vertical-align: top;\n",
       "    }\n",
       "\n",
       "    .dataframe thead th {\n",
       "        text-align: right;\n",
       "    }\n",
       "</style>\n",
       "<table border=\"1\" class=\"dataframe\">\n",
       "  <thead>\n",
       "    <tr style=\"text-align: right;\">\n",
       "      <th></th>\n",
       "      <th>Organismos</th>\n",
       "      <th>Tiempo</th>\n",
       "      <th>Resistencia a amp</th>\n",
       "      <th>Resist. a Clo</th>\n",
       "    </tr>\n",
       "  </thead>\n",
       "  <tbody>\n",
       "    <tr>\n",
       "      <th>0</th>\n",
       "      <td>E.coli</td>\n",
       "      <td>1.2</td>\n",
       "      <td>Si</td>\n",
       "      <td>No</td>\n",
       "    </tr>\n",
       "    <tr>\n",
       "      <th>1</th>\n",
       "      <td>S.aureus</td>\n",
       "      <td>10.0</td>\n",
       "      <td>Si</td>\n",
       "      <td>No</td>\n",
       "    </tr>\n",
       "    <tr>\n",
       "      <th>2</th>\n",
       "      <td>Shigella</td>\n",
       "      <td>5.6</td>\n",
       "      <td>No</td>\n",
       "      <td>Si</td>\n",
       "    </tr>\n",
       "    <tr>\n",
       "      <th>3</th>\n",
       "      <td>S.pneumoniae</td>\n",
       "      <td>7.2</td>\n",
       "      <td>Si</td>\n",
       "      <td>Si</td>\n",
       "    </tr>\n",
       "    <tr>\n",
       "      <th>4</th>\n",
       "      <td>Salmonella</td>\n",
       "      <td>15.0</td>\n",
       "      <td>No</td>\n",
       "      <td>No</td>\n",
       "    </tr>\n",
       "    <tr>\n",
       "      <th>5</th>\n",
       "      <td>P.aeruginosa</td>\n",
       "      <td>3.4</td>\n",
       "      <td>No</td>\n",
       "      <td>No</td>\n",
       "    </tr>\n",
       "  </tbody>\n",
       "</table>\n",
       "</div>"
      ],
      "text/plain": [
       "     Organismos  Tiempo Resistencia a amp Resist. a Clo\n",
       "0        E.coli     1.2                Si            No\n",
       "1      S.aureus    10.0                Si            No\n",
       "2      Shigella     5.6                No            Si\n",
       "3  S.pneumoniae     7.2                Si            Si\n",
       "4    Salmonella    15.0                No            No\n",
       "5  P.aeruginosa     3.4                No            No"
      ]
     },
     "execution_count": 50,
     "metadata": {},
     "output_type": "execute_result"
    }
   ],
   "source": [
    "cloranfenicol = [\"No\", \"No\", \"Si\", \"Si\", \"No\", \"No\"]\n",
    "frame2[\"Resist. a Clo\"] = cloranfenicol\n",
    "frame2"
   ]
  },
  {
   "cell_type": "markdown",
   "metadata": {},
   "source": [
    "Si se utiliza una Serie se puede especificar el índice de los valores que se quieren asignar en la couma, aquellos índices que no se les asigne nada figurarán como NaN:"
   ]
  },
  {
   "cell_type": "code",
   "execution_count": 53,
   "metadata": {},
   "outputs": [
    {
     "data": {
      "text/html": [
       "<div>\n",
       "<style scoped>\n",
       "    .dataframe tbody tr th:only-of-type {\n",
       "        vertical-align: middle;\n",
       "    }\n",
       "\n",
       "    .dataframe tbody tr th {\n",
       "        vertical-align: top;\n",
       "    }\n",
       "\n",
       "    .dataframe thead th {\n",
       "        text-align: right;\n",
       "    }\n",
       "</style>\n",
       "<table border=\"1\" class=\"dataframe\">\n",
       "  <thead>\n",
       "    <tr style=\"text-align: right;\">\n",
       "      <th></th>\n",
       "      <th>Organismos</th>\n",
       "      <th>Tiempo</th>\n",
       "      <th>Resistencia a amp</th>\n",
       "      <th>Resist. a Clo</th>\n",
       "    </tr>\n",
       "  </thead>\n",
       "  <tbody>\n",
       "    <tr>\n",
       "      <th>0</th>\n",
       "      <td>E.coli</td>\n",
       "      <td>1.2</td>\n",
       "      <td>NaN</td>\n",
       "      <td>No</td>\n",
       "    </tr>\n",
       "    <tr>\n",
       "      <th>1</th>\n",
       "      <td>S.aureus</td>\n",
       "      <td>10.0</td>\n",
       "      <td>Si</td>\n",
       "      <td>No</td>\n",
       "    </tr>\n",
       "    <tr>\n",
       "      <th>2</th>\n",
       "      <td>Shigella</td>\n",
       "      <td>5.6</td>\n",
       "      <td>NaN</td>\n",
       "      <td>Si</td>\n",
       "    </tr>\n",
       "    <tr>\n",
       "      <th>3</th>\n",
       "      <td>S.pneumoniae</td>\n",
       "      <td>7.2</td>\n",
       "      <td>Si</td>\n",
       "      <td>Si</td>\n",
       "    </tr>\n",
       "    <tr>\n",
       "      <th>4</th>\n",
       "      <td>Salmonella</td>\n",
       "      <td>15.0</td>\n",
       "      <td>NaN</td>\n",
       "      <td>No</td>\n",
       "    </tr>\n",
       "    <tr>\n",
       "      <th>5</th>\n",
       "      <td>P.aeruginosa</td>\n",
       "      <td>3.4</td>\n",
       "      <td>No</td>\n",
       "      <td>No</td>\n",
       "    </tr>\n",
       "  </tbody>\n",
       "</table>\n",
       "</div>"
      ],
      "text/plain": [
       "     Organismos  Tiempo Resistencia a amp Resist. a Clo\n",
       "0        E.coli     1.2               NaN            No\n",
       "1      S.aureus    10.0                Si            No\n",
       "2      Shigella     5.6               NaN            Si\n",
       "3  S.pneumoniae     7.2                Si            Si\n",
       "4    Salmonella    15.0               NaN            No\n",
       "5  P.aeruginosa     3.4                No            No"
      ]
     },
     "execution_count": 53,
     "metadata": {},
     "output_type": "execute_result"
    }
   ],
   "source": [
    "ampicilina = pd.Series([\"Si\", \"Si\", \"No\"], index=[1, 3, 5])\n",
    "frame2[\"Resistencia a amp\"] = ampicilina #se asignan solo los índices 1, 3 y 5\n",
    "frame2"
   ]
  },
  {
   "cell_type": "markdown",
   "metadata": {},
   "source": [
    "Asignar una columna que no existe **creará una nueva**:"
   ]
  },
  {
   "cell_type": "code",
   "execution_count": 55,
   "metadata": {},
   "outputs": [
    {
     "data": {
      "text/html": [
       "<div>\n",
       "<style scoped>\n",
       "    .dataframe tbody tr th:only-of-type {\n",
       "        vertical-align: middle;\n",
       "    }\n",
       "\n",
       "    .dataframe tbody tr th {\n",
       "        vertical-align: top;\n",
       "    }\n",
       "\n",
       "    .dataframe thead th {\n",
       "        text-align: right;\n",
       "    }\n",
       "</style>\n",
       "<table border=\"1\" class=\"dataframe\">\n",
       "  <thead>\n",
       "    <tr style=\"text-align: right;\">\n",
       "      <th></th>\n",
       "      <th>Organismos</th>\n",
       "      <th>Tiempo</th>\n",
       "      <th>Resistencia a amp</th>\n",
       "      <th>Resist. a Clo</th>\n",
       "      <th>Resist. a amox</th>\n",
       "    </tr>\n",
       "  </thead>\n",
       "  <tbody>\n",
       "    <tr>\n",
       "      <th>0</th>\n",
       "      <td>E.coli</td>\n",
       "      <td>1.2</td>\n",
       "      <td>NaN</td>\n",
       "      <td>No</td>\n",
       "      <td>No</td>\n",
       "    </tr>\n",
       "    <tr>\n",
       "      <th>1</th>\n",
       "      <td>S.aureus</td>\n",
       "      <td>10.0</td>\n",
       "      <td>Si</td>\n",
       "      <td>No</td>\n",
       "      <td>No</td>\n",
       "    </tr>\n",
       "    <tr>\n",
       "      <th>2</th>\n",
       "      <td>Shigella</td>\n",
       "      <td>5.6</td>\n",
       "      <td>NaN</td>\n",
       "      <td>Si</td>\n",
       "      <td>No</td>\n",
       "    </tr>\n",
       "    <tr>\n",
       "      <th>3</th>\n",
       "      <td>S.pneumoniae</td>\n",
       "      <td>7.2</td>\n",
       "      <td>Si</td>\n",
       "      <td>Si</td>\n",
       "      <td>Sí</td>\n",
       "    </tr>\n",
       "    <tr>\n",
       "      <th>4</th>\n",
       "      <td>Salmonella</td>\n",
       "      <td>15.0</td>\n",
       "      <td>NaN</td>\n",
       "      <td>No</td>\n",
       "      <td>No</td>\n",
       "    </tr>\n",
       "    <tr>\n",
       "      <th>5</th>\n",
       "      <td>P.aeruginosa</td>\n",
       "      <td>3.4</td>\n",
       "      <td>No</td>\n",
       "      <td>No</td>\n",
       "      <td>No</td>\n",
       "    </tr>\n",
       "  </tbody>\n",
       "</table>\n",
       "</div>"
      ],
      "text/plain": [
       "     Organismos  Tiempo Resistencia a amp Resist. a Clo Resist. a amox\n",
       "0        E.coli     1.2               NaN            No             No\n",
       "1      S.aureus    10.0                Si            No             No\n",
       "2      Shigella     5.6               NaN            Si             No\n",
       "3  S.pneumoniae     7.2                Si            Si             Sí\n",
       "4    Salmonella    15.0               NaN            No             No\n",
       "5  P.aeruginosa     3.4                No            No             No"
      ]
     },
     "execution_count": 55,
     "metadata": {},
     "output_type": "execute_result"
    }
   ],
   "source": [
    "amoxicilina = [\"No\", \"No\", \"No\", \"Sí\", \"No\", \"No\"]\n",
    "frame2[\"Resist. a amox\"] = amoxicilina\n",
    "frame2"
   ]
  },
  {
   "cell_type": "markdown",
   "metadata": {},
   "source": [
    "Y utilizando la palabra clave ``del`` se puede eliminar una columna:"
   ]
  },
  {
   "cell_type": "code",
   "execution_count": 56,
   "metadata": {},
   "outputs": [
    {
     "data": {
      "text/html": [
       "<div>\n",
       "<style scoped>\n",
       "    .dataframe tbody tr th:only-of-type {\n",
       "        vertical-align: middle;\n",
       "    }\n",
       "\n",
       "    .dataframe tbody tr th {\n",
       "        vertical-align: top;\n",
       "    }\n",
       "\n",
       "    .dataframe thead th {\n",
       "        text-align: right;\n",
       "    }\n",
       "</style>\n",
       "<table border=\"1\" class=\"dataframe\">\n",
       "  <thead>\n",
       "    <tr style=\"text-align: right;\">\n",
       "      <th></th>\n",
       "      <th>Organismos</th>\n",
       "      <th>Tiempo</th>\n",
       "      <th>Resist. a Clo</th>\n",
       "      <th>Resist. a amox</th>\n",
       "    </tr>\n",
       "  </thead>\n",
       "  <tbody>\n",
       "    <tr>\n",
       "      <th>0</th>\n",
       "      <td>E.coli</td>\n",
       "      <td>1.2</td>\n",
       "      <td>No</td>\n",
       "      <td>No</td>\n",
       "    </tr>\n",
       "    <tr>\n",
       "      <th>1</th>\n",
       "      <td>S.aureus</td>\n",
       "      <td>10.0</td>\n",
       "      <td>No</td>\n",
       "      <td>No</td>\n",
       "    </tr>\n",
       "    <tr>\n",
       "      <th>2</th>\n",
       "      <td>Shigella</td>\n",
       "      <td>5.6</td>\n",
       "      <td>Si</td>\n",
       "      <td>No</td>\n",
       "    </tr>\n",
       "    <tr>\n",
       "      <th>3</th>\n",
       "      <td>S.pneumoniae</td>\n",
       "      <td>7.2</td>\n",
       "      <td>Si</td>\n",
       "      <td>Sí</td>\n",
       "    </tr>\n",
       "    <tr>\n",
       "      <th>4</th>\n",
       "      <td>Salmonella</td>\n",
       "      <td>15.0</td>\n",
       "      <td>No</td>\n",
       "      <td>No</td>\n",
       "    </tr>\n",
       "    <tr>\n",
       "      <th>5</th>\n",
       "      <td>P.aeruginosa</td>\n",
       "      <td>3.4</td>\n",
       "      <td>No</td>\n",
       "      <td>No</td>\n",
       "    </tr>\n",
       "  </tbody>\n",
       "</table>\n",
       "</div>"
      ],
      "text/plain": [
       "     Organismos  Tiempo Resist. a Clo Resist. a amox\n",
       "0        E.coli     1.2            No             No\n",
       "1      S.aureus    10.0            No             No\n",
       "2      Shigella     5.6            Si             No\n",
       "3  S.pneumoniae     7.2            Si             Sí\n",
       "4    Salmonella    15.0            No             No\n",
       "5  P.aeruginosa     3.4            No             No"
      ]
     },
     "execution_count": 56,
     "metadata": {},
     "output_type": "execute_result"
    }
   ],
   "source": [
    "del frame2[\"Resistencia a amp\"]\n",
    "frame2"
   ]
  },
  {
   "cell_type": "markdown",
   "metadata": {},
   "source": [
    "Otra forma habitual de crear Dataframes es utilizando **diccionarios anidados**, Pandas interpreta clas *keys externas* como columnas, y las internas como los índices de filas:"
   ]
  },
  {
   "cell_type": "code",
   "execution_count": 57,
   "metadata": {},
   "outputs": [
    {
     "data": {
      "text/html": [
       "<div>\n",
       "<style scoped>\n",
       "    .dataframe tbody tr th:only-of-type {\n",
       "        vertical-align: middle;\n",
       "    }\n",
       "\n",
       "    .dataframe tbody tr th {\n",
       "        vertical-align: top;\n",
       "    }\n",
       "\n",
       "    .dataframe thead th {\n",
       "        text-align: right;\n",
       "    }\n",
       "</style>\n",
       "<table border=\"1\" class=\"dataframe\">\n",
       "  <thead>\n",
       "    <tr style=\"text-align: right;\">\n",
       "      <th></th>\n",
       "      <th>Organismos</th>\n",
       "      <th>Crecimiento</th>\n",
       "    </tr>\n",
       "  </thead>\n",
       "  <tbody>\n",
       "    <tr>\n",
       "      <th>control</th>\n",
       "      <td>E.coli</td>\n",
       "      <td>3.0</td>\n",
       "    </tr>\n",
       "    <tr>\n",
       "      <th>T1</th>\n",
       "      <td>E.coli</td>\n",
       "      <td>6.3</td>\n",
       "    </tr>\n",
       "    <tr>\n",
       "      <th>T2</th>\n",
       "      <td>E.coli</td>\n",
       "      <td>9.8</td>\n",
       "    </tr>\n",
       "    <tr>\n",
       "      <th>T3</th>\n",
       "      <td>E.coli</td>\n",
       "      <td>10.0</td>\n",
       "    </tr>\n",
       "  </tbody>\n",
       "</table>\n",
       "</div>"
      ],
      "text/plain": [
       "        Organismos  Crecimiento\n",
       "control     E.coli          3.0\n",
       "T1          E.coli          6.3\n",
       "T2          E.coli          9.8\n",
       "T3          E.coli         10.0"
      ]
     },
     "execution_count": 57,
     "metadata": {},
     "output_type": "execute_result"
    }
   ],
   "source": [
    "data1 = {\"Organismos\": {\"control\": \"E.coli\", \"T1\": \"E.coli\", \"T2\": \"E.coli\", \"T3\": \"E.coli\"}, \"Crecimiento\": {\"control\": 3, \"T1\": 6.3, \"T2\": 9.8, \"T3\": 10}}\n",
    "frame3 = pd.DataFrame(data1)\n",
    "frame3"
   ]
  },
  {
   "cell_type": "markdown",
   "metadata": {},
   "source": [
    "Es posible **intercambiar** las filas y columnas de un dataframe utilizando una sintaxis similar a la de un array en NumPy:"
   ]
  },
  {
   "cell_type": "code",
   "execution_count": 58,
   "metadata": {},
   "outputs": [
    {
     "data": {
      "text/html": [
       "<div>\n",
       "<style scoped>\n",
       "    .dataframe tbody tr th:only-of-type {\n",
       "        vertical-align: middle;\n",
       "    }\n",
       "\n",
       "    .dataframe tbody tr th {\n",
       "        vertical-align: top;\n",
       "    }\n",
       "\n",
       "    .dataframe thead th {\n",
       "        text-align: right;\n",
       "    }\n",
       "</style>\n",
       "<table border=\"1\" class=\"dataframe\">\n",
       "  <thead>\n",
       "    <tr style=\"text-align: right;\">\n",
       "      <th></th>\n",
       "      <th>control</th>\n",
       "      <th>T1</th>\n",
       "      <th>T2</th>\n",
       "      <th>T3</th>\n",
       "    </tr>\n",
       "  </thead>\n",
       "  <tbody>\n",
       "    <tr>\n",
       "      <th>Organismos</th>\n",
       "      <td>E.coli</td>\n",
       "      <td>E.coli</td>\n",
       "      <td>E.coli</td>\n",
       "      <td>E.coli</td>\n",
       "    </tr>\n",
       "    <tr>\n",
       "      <th>Crecimiento</th>\n",
       "      <td>3.0</td>\n",
       "      <td>6.3</td>\n",
       "      <td>9.8</td>\n",
       "      <td>10.0</td>\n",
       "    </tr>\n",
       "  </tbody>\n",
       "</table>\n",
       "</div>"
      ],
      "text/plain": [
       "            control      T1      T2      T3\n",
       "Organismos   E.coli  E.coli  E.coli  E.coli\n",
       "Crecimiento     3.0     6.3     9.8    10.0"
      ]
     },
     "execution_count": 58,
     "metadata": {},
     "output_type": "execute_result"
    }
   ],
   "source": [
    "frame3.T"
   ]
  },
  {
   "cell_type": "markdown",
   "metadata": {},
   "source": [
    "Los **arrays de 2 dimensiones** tambien pueden servir para crear un Dataframe, en éste caso en data va el array y pedomos, o no, especificar las etiquetas de filas y columnas, en caso de no hacerlo se le asignan numeros enteros a ambos:"
   ]
  },
  {
   "cell_type": "code",
   "execution_count": 62,
   "metadata": {},
   "outputs": [
    {
     "data": {
      "text/html": [
       "<div>\n",
       "<style scoped>\n",
       "    .dataframe tbody tr th:only-of-type {\n",
       "        vertical-align: middle;\n",
       "    }\n",
       "\n",
       "    .dataframe tbody tr th {\n",
       "        vertical-align: top;\n",
       "    }\n",
       "\n",
       "    .dataframe thead th {\n",
       "        text-align: right;\n",
       "    }\n",
       "</style>\n",
       "<table border=\"1\" class=\"dataframe\">\n",
       "  <thead>\n",
       "    <tr style=\"text-align: right;\">\n",
       "      <th></th>\n",
       "      <th>control</th>\n",
       "      <th>T1</th>\n",
       "      <th>T2</th>\n",
       "      <th>T3</th>\n",
       "    </tr>\n",
       "  </thead>\n",
       "  <tbody>\n",
       "    <tr>\n",
       "      <th>Crecimiento</th>\n",
       "      <td>3.0</td>\n",
       "      <td>6.3</td>\n",
       "      <td>9.8</td>\n",
       "      <td>10.0</td>\n",
       "    </tr>\n",
       "    <tr>\n",
       "      <th>velocidad</th>\n",
       "      <td>5.1</td>\n",
       "      <td>3.2</td>\n",
       "      <td>1.5</td>\n",
       "      <td>1.3</td>\n",
       "    </tr>\n",
       "    <tr>\n",
       "      <th>DO</th>\n",
       "      <td>16.0</td>\n",
       "      <td>29.5</td>\n",
       "      <td>34.4</td>\n",
       "      <td>35.0</td>\n",
       "    </tr>\n",
       "  </tbody>\n",
       "</table>\n",
       "</div>"
      ],
      "text/plain": [
       "             control    T1    T2    T3\n",
       "Crecimiento      3.0   6.3   9.8  10.0\n",
       "velocidad        5.1   3.2   1.5   1.3\n",
       "DO              16.0  29.5  34.4  35.0"
      ]
     },
     "execution_count": 62,
     "metadata": {},
     "output_type": "execute_result"
    }
   ],
   "source": [
    "import numpy as np\n",
    "\n",
    "data2 = np.array([[3.0, 6.3, 9.8, 10],[5.1, 3.2, 1.5, 1.3], [16.0, 29.5, 34.4, 35]])\n",
    "frame4 = pd.DataFrame(data2, columns=[\"control\", \"T1\", \"T2\", \"T3\"], index=[\"Crecimiento\", \"velocidad\", \"DO\"])\n",
    "frame4"
   ]
  },
  {
   "cell_type": "markdown",
   "metadata": {},
   "source": [
    "Se le puede además especificar un atributo a las columnas y los índices, usando el atributo ``.name``:"
   ]
  },
  {
   "cell_type": "code",
   "execution_count": 63,
   "metadata": {},
   "outputs": [
    {
     "data": {
      "text/html": [
       "<div>\n",
       "<style scoped>\n",
       "    .dataframe tbody tr th:only-of-type {\n",
       "        vertical-align: middle;\n",
       "    }\n",
       "\n",
       "    .dataframe tbody tr th {\n",
       "        vertical-align: top;\n",
       "    }\n",
       "\n",
       "    .dataframe thead th {\n",
       "        text-align: right;\n",
       "    }\n",
       "</style>\n",
       "<table border=\"1\" class=\"dataframe\">\n",
       "  <thead>\n",
       "    <tr style=\"text-align: right;\">\n",
       "      <th>Cepa</th>\n",
       "      <th>control</th>\n",
       "      <th>T1</th>\n",
       "      <th>T2</th>\n",
       "      <th>T3</th>\n",
       "    </tr>\n",
       "    <tr>\n",
       "      <th>Medidas</th>\n",
       "      <th></th>\n",
       "      <th></th>\n",
       "      <th></th>\n",
       "      <th></th>\n",
       "    </tr>\n",
       "  </thead>\n",
       "  <tbody>\n",
       "    <tr>\n",
       "      <th>Crecimiento</th>\n",
       "      <td>3.0</td>\n",
       "      <td>6.3</td>\n",
       "      <td>9.8</td>\n",
       "      <td>10.0</td>\n",
       "    </tr>\n",
       "    <tr>\n",
       "      <th>velocidad</th>\n",
       "      <td>5.1</td>\n",
       "      <td>3.2</td>\n",
       "      <td>1.5</td>\n",
       "      <td>1.3</td>\n",
       "    </tr>\n",
       "    <tr>\n",
       "      <th>DO</th>\n",
       "      <td>16.0</td>\n",
       "      <td>29.5</td>\n",
       "      <td>34.4</td>\n",
       "      <td>35.0</td>\n",
       "    </tr>\n",
       "  </tbody>\n",
       "</table>\n",
       "</div>"
      ],
      "text/plain": [
       "Cepa         control    T1    T2    T3\n",
       "Medidas                               \n",
       "Crecimiento      3.0   6.3   9.8  10.0\n",
       "velocidad        5.1   3.2   1.5   1.3\n",
       "DO              16.0  29.5  34.4  35.0"
      ]
     },
     "execution_count": 63,
     "metadata": {},
     "output_type": "execute_result"
    }
   ],
   "source": [
    "frame4.index.name = \"Medidas\"\n",
    "frame4.columns.name = \"Cepa\"\n",
    "frame4"
   ]
  }
 ],
 "metadata": {
  "kernelspec": {
   "display_name": "base",
   "language": "python",
   "name": "python3"
  },
  "language_info": {
   "codemirror_mode": {
    "name": "ipython",
    "version": 3
   },
   "file_extension": ".py",
   "mimetype": "text/x-python",
   "name": "python",
   "nbconvert_exporter": "python",
   "pygments_lexer": "ipython3",
   "version": "3.12.3"
  }
 },
 "nbformat": 4,
 "nbformat_minor": 2
}
