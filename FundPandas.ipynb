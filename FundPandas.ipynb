{
 "cells": [
  {
   "cell_type": "markdown",
   "metadata": {},
   "source": [
    "## **FUNDAMENTOS DE PANDAS**\n",
    "\n",
    "**Pandas** es una librería especializada en la limpieza y análisis de datos, esta diseñada para trabajar con tados tabulares o heterogeneos, veremos que es muy útil para trabajar en colaboracion con Numpy.\n",
    "Pandas tiene varios múdulos útiles tales como **Series** y **DataFrame** por lo que tambien estaremos trabajando con éstos, de hecho para empezar a trabajar con Pandas es importante conocer éstas dos estructuras principales:\n",
    "\n",
    "\n",
    "**SERIES**\n",
    "\n",
    "Una series es un objeto unidimensional de estilo array, que contiene una secuencia de valores del mismo tipo (dtype) y un array asociado a *etiquetas* de datos, que corresponde a su índice.\n",
    "La sintaxis completa de la funcion ``Series`` es:\n",
    "\n",
    "``pd.Series(data, index=None, dtype=None, name=None, copy=False)``\n",
    "\n",
    "El único parámetro que no toma un valor determinado es ``data``, y qui es justamente donde debemos ingresar los datos que van a componer la serie.\n",
    "La forma más sencilla de una serie es un único array:"
   ]
  },
  {
   "cell_type": "code",
   "execution_count": 2,
   "metadata": {},
   "outputs": [
    {
     "data": {
      "text/plain": [
       "0    4\n",
       "1    7\n",
       "2   -5\n",
       "3    3\n",
       "dtype: int64"
      ]
     },
     "execution_count": 2,
     "metadata": {},
     "output_type": "execute_result"
    }
   ],
   "source": [
    "import pandas as pd\n",
    "\n",
    "obj = pd.Series([4, 7, -5, 3])\n",
    "obj"
   ]
  },
  {
   "cell_type": "markdown",
   "metadata": {},
   "source": [
    "Cuando creamos una serie, se puede visualizar una columna del lado izquierdo que muestra en índice de cada elemento en la serie, mientras que los valores se encuentran en el lado derecho. Éste índice se crea de manera predeterminada, es decir que podemos especificar un índice distinto, crear series con índices para identificar datos con una etiqueta es muy utilizado en el enálisis de datos:"
   ]
  },
  {
   "cell_type": "code",
   "execution_count": 3,
   "metadata": {},
   "outputs": [
    {
     "data": {
      "text/plain": [
       "a    4\n",
       "b    7\n",
       "c   -5\n",
       "d    3\n",
       "dtype: int64"
      ]
     },
     "execution_count": 3,
     "metadata": {},
     "output_type": "execute_result"
    }
   ],
   "source": [
    "obj2 = pd.Series([4, 7, -5, 3], index=[\"a\", \"b\", \"c\", \"d\"])\n",
    "obj2\n"
   ]
  },
  {
   "cell_type": "markdown",
   "metadata": {},
   "source": [
    "El parámetro ``data`` puede ser una lista de elementos o un array unidimensional, lo mismo con el parámetro ``index``, siempre y cuando éste tenga la misma cantidad de elementos que data, y no necesariamente tienen que ser del mismo dtype:"
   ]
  },
  {
   "cell_type": "code",
   "execution_count": 17,
   "metadata": {},
   "outputs": [
    {
     "data": {
      "text/plain": [
       "manzanas    20\n",
       "naranjas    33\n",
       "cerezas     52\n",
       "peras       10\n",
       "dtype: int64"
      ]
     },
     "execution_count": 17,
     "metadata": {},
     "output_type": "execute_result"
    }
   ],
   "source": [
    "fruits = ['manzanas', 'naranjas', 'cerezas', 'peras']\n",
    "quantities = [20, 33, 52, 10]\n",
    "S = pd.Series(quantities, index=fruits)\n",
    "S"
   ]
  },
  {
   "cell_type": "markdown",
   "metadata": {},
   "source": [
    "Tambien se pueden crear Series a partir de Diccionarios:"
   ]
  },
  {
   "cell_type": "code",
   "execution_count": 5,
   "metadata": {},
   "outputs": [
    {
     "name": "stdout",
     "output_type": "stream",
     "text": [
      "manzanas     5\n",
      "bananas      8\n",
      "naranjas    12\n",
      "dtype: int64\n"
     ]
    }
   ],
   "source": [
    "data = {\"manzanas\": 5, \"bananas\": 8, \"naranjas\": 12}\n",
    "serie = pd.Series(data)\n",
    "print(serie)"
   ]
  },
  {
   "cell_type": "markdown",
   "metadata": {},
   "source": [
    "Y a su vez, una serie se puede convertir en un diccionario utilizando el método ``.to_dict``.\n",
    "\n",
    "El vínculo *indice-valor* se mantiene incluso al aplicar operaciones sobre la Serie:"
   ]
  },
  {
   "cell_type": "code",
   "execution_count": 6,
   "metadata": {},
   "outputs": [
    {
     "data": {
      "text/plain": [
       "a    4\n",
       "b    7\n",
       "d    3\n",
       "dtype: int64"
      ]
     },
     "execution_count": 6,
     "metadata": {},
     "output_type": "execute_result"
    }
   ],
   "source": [
    "obj2[obj2>2]"
   ]
  },
  {
   "cell_type": "code",
   "execution_count": 7,
   "metadata": {},
   "outputs": [
    {
     "data": {
      "text/plain": [
       "a     8\n",
       "b    14\n",
       "c   -10\n",
       "d     6\n",
       "dtype: int64"
      ]
     },
     "execution_count": 7,
     "metadata": {},
     "output_type": "execute_result"
    }
   ],
   "source": [
    "obj2*2"
   ]
  },
  {
   "cell_type": "markdown",
   "metadata": {},
   "source": [
    "En ocasiones podemos tener series con grandes volúmenes de datos, y puede pasar que haya *faltantes*, una forma fácil y rápida de visualizar estos faltantes es utilizando las funciones ``pd.isna`` y ``pd.notna``, el cual nos devuelve una Serie con valores booleanos, True va a representar valores faltantes en el primer caso, o valores presentes en el segundo, y False, al contrario, valores presentes en el primero y valores ausentes en el segundo:"
   ]
  },
  {
   "cell_type": "code",
   "execution_count": 14,
   "metadata": {},
   "outputs": [
    {
     "data": {
      "text/plain": [
       "manzanas     5.0\n",
       "bananas      8.0\n",
       "naranjas    12.0\n",
       "peras        2.0\n",
       "ciruelas    10.0\n",
       "sandias      NaN\n",
       "dtype: float64"
      ]
     },
     "execution_count": 14,
     "metadata": {},
     "output_type": "execute_result"
    }
   ],
   "source": [
    "data = {\"manzanas\": 5, \"bananas\": 8, \"naranjas\": 12, \"peras\": 2, \"ciruelas\": 10}\n",
    "\n",
    "frutas = [\"manzanas\", \"bananas\", \"naranjas\", \"peras\", \"ciruelas\", \"sandias\"]\n",
    "obj4 = pd.Series(data, index=frutas)\n",
    "obj4"
   ]
  },
  {
   "cell_type": "markdown",
   "metadata": {},
   "source": [
    "Aqui, creamos una Serie a partir de un Diccionario, que tiene 5 elementos, pero se utilizó un ``index`` con una lista de 6 elementos, es decir que va a haber más índices con datos, por eso vemos que \"sandias\" figura como NaN (No a Number), muchas veces cuando exportamos datos puede pasar ésto, veamos cómo se puede visualizar con las funciones ``isna`` y ``notna``:"
   ]
  },
  {
   "cell_type": "code",
   "execution_count": 15,
   "metadata": {},
   "outputs": [
    {
     "data": {
      "text/plain": [
       "manzanas    False\n",
       "bananas     False\n",
       "naranjas    False\n",
       "peras       False\n",
       "ciruelas    False\n",
       "sandias      True\n",
       "dtype: bool"
      ]
     },
     "execution_count": 15,
     "metadata": {},
     "output_type": "execute_result"
    }
   ],
   "source": [
    "pd.isna(obj4)"
   ]
  },
  {
   "cell_type": "code",
   "execution_count": 16,
   "metadata": {},
   "outputs": [
    {
     "data": {
      "text/plain": [
       "manzanas     True\n",
       "bananas      True\n",
       "naranjas     True\n",
       "peras        True\n",
       "ciruelas     True\n",
       "sandias     False\n",
       "dtype: bool"
      ]
     },
     "execution_count": 16,
     "metadata": {},
     "output_type": "execute_result"
    }
   ],
   "source": [
    "pd.notna(obj4)"
   ]
  },
  {
   "cell_type": "markdown",
   "metadata": {},
   "source": [
    "Veamos que pasa cuando sumamos dos Series:"
   ]
  },
  {
   "cell_type": "code",
   "execution_count": null,
   "metadata": {},
   "outputs": [],
   "source": []
  }
 ],
 "metadata": {
  "kernelspec": {
   "display_name": "base",
   "language": "python",
   "name": "python3"
  },
  "language_info": {
   "codemirror_mode": {
    "name": "ipython",
    "version": 3
   },
   "file_extension": ".py",
   "mimetype": "text/x-python",
   "name": "python",
   "nbconvert_exporter": "python",
   "pygments_lexer": "ipython3",
   "version": "3.12.3"
  }
 },
 "nbformat": 4,
 "nbformat_minor": 2
}
